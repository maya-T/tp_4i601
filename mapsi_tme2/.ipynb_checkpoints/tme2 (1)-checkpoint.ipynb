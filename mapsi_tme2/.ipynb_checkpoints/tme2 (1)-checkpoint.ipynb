{
 "cells": [
  {
   "cell_type": "code",
   "execution_count": 1,
   "metadata": {},
   "outputs": [],
   "source": [
    "import numpy as np\n",
    "#import scipy as sc\n",
    "#from scipy.special import comb\n",
    "import math"
   ]
  },
  {
   "cell_type": "markdown",
   "metadata": {},
   "source": [
    "# MAPSI - TME  - Rappels de Proba/stats"
   ]
  },
  {
   "cell_type": "markdown",
   "metadata": {},
   "source": [
    "## I- La planche de Galton (<font color=\"red\"> obligatoire</font>)"
   ]
  },
  {
   "cell_type": "markdown",
   "metadata": {},
   "source": [
    "### I.1- Loi de Bernouilli\n",
    "Écrire une fonction `bernouilli: float ->int` qui prend en argument la paramètre $p \\in [0,1]$ et qui renvoie aléatoirement $0$ (avec la probabilité $1-p$) ou $1$ (avec la probabilité $p$)."
   ]
  },
  {
   "cell_type": "code",
   "execution_count": 2,
   "metadata": {},
   "outputs": [],
   "source": [
    "def bernouilli(p):\n",
    "    return np.random.choice(np.array([0,1]),p=[1-p,p])\n"
   ]
  },
  {
   "cell_type": "markdown",
   "metadata": {},
   "source": [
    "### I.2- Loi binomiale\n",
    "Écrire une fonction `binomiale: int , float -> int` qui prend en argument un entier $n$ et $p \\in [0,1]$ et qui renvoie aléatoirement un nimbre tiré selon la distribution ${\\cal B}(n,p)$."
   ]
  },
  {
   "cell_type": "code",
   "execution_count": 3,
   "metadata": {},
   "outputs": [
    {
     "name": "stdout",
     "output_type": "stream",
     "text": [
      "4\n"
     ]
    }
   ],
   "source": [
    "def comb(n, p):\n",
    "    return math.factorial(n)/(math.factorial(p)*math.factorial(n-p))\n",
    "    \n",
    "def binomiale(n,p):\n",
    "    return np.random.choice(np.array([i for i in range(0, n+1)]),p=[comb(n, i) * (p**i) * (1-p)**(n-i) for i in range(0, n+1)])\n",
    "print(binomiale(10, 0.5))"
   ]
  },
  {
   "cell_type": "markdown",
   "metadata": {},
   "source": [
    "### I.3- Histogramme de la loi binomiale\n",
    "<img src=\"tme2_Galton.jpg\" title=\"Planche de Galton\" style=\"float: right;\">\n",
    "\n",
    "Dans cette question, on considère une planche de Galton de hauteur $n$. On rappelle que des bâtons horizontaux (oranges) sont cloués à cette planche comme le montre la figure ci-contre. \n",
    "\n",
    " Des billes bleues tombent du haut de la planche et, à chaque niveau, se retrouvent à la verticale d'un des bâtons. Elles vont alors tomber soit à gauche, soit à droite du bâton, jusqu'à atteindre le bas de la planche. Ce dernier est constitué de petites boites dont les bords sont symbolisés par les lignes verticales grises. \n",
    " \n",
    "Chaque boite renferme des billes qui sont passées exactement le même nombre de fois à droite des bâtons oranges. Par exemple, la boite la plus à gauche renferme les billes qui ne sont jamais passées à droite d'un bâton, celle juste à sa droite renferme les billes passées une seule fois à droite d'un bâton et toutes les autres fois à gauche, et ainsi de suite. \n",
    "\n",
    "La répartition des billes dans les boites suit donc une loi binomiale ${\\cal B}(n,0.5)$. \n",
    "\n",
    "Écrire un script qui crée un tableau de $1000$ cases dont le contenu correspond à $1000$ instanciations de la loi binomiale ${\\cal B}(n,0.5)$. Afin de voir la répartition des billes dans la planche de Galton, tracer l'histogramme de ce tableau. Vous pourrez utiliser la fonction hist de matplotlib.pyplot: "
   ]
  },
  {
   "cell_type": "code",
   "execution_count": 4,
   "metadata": {},
   "outputs": [
    {
     "data": {
      "image/png": "[encoded data removed]",
      "text/plain": [
       "<Figure size 432x288 with 1 Axes>"
      ]
     },
     "metadata": {
      "needs_background": "light"
     },
     "output_type": "display_data"
    }
   ],
   "source": [
    "import matplotlib.pyplot as plt\n",
    "\n",
    "plt.hist ([0,1,2,1,2,4,1,1], 4);"
   ]
  },
  {
   "cell_type": "markdown",
   "metadata": {},
   "source": [
    "Pour le nombre de bins, calculez le nombre de valeurs différentes dans votre tableau."
   ]
  },
  {
   "cell_type": "code",
   "execution_count": 5,
   "metadata": {},
   "outputs": [
    {
     "data": {
      "image/png": "[encoded data removed]",
      "text/plain": [
       "<Figure size 432x288 with 1 Axes>"
      ]
     },
     "metadata": {
      "needs_background": "light"
     },
     "output_type": "display_data"
    }
   ],
   "source": [
    "n = 13\n",
    "mp = np.array([ binomiale(n, 0.5) for i in range(0, 1000)])\n",
    "# print(mp)\n",
    "# print(np.where( mp.copy() == 7, 1, 0).sum())\n",
    "plt.hist(mp, [i for i in range(1,n+1)])\n",
    "plt.show()\n"
   ]
  },
  {
   "cell_type": "markdown",
   "metadata": {},
   "source": [
    "## II- Visualisation d'indépendances (<font color=\"red\"> obligatoire</font>)"
   ]
  },
  {
   "cell_type": "markdown",
   "metadata": {},
   "source": [
    "### II.1- Loi normale centrée réduite\n",
    "<img src=\"tme2_normale.jpg\" title=\"Planche de Galton\" style=\"float: right;\">\n",
    "\n",
    "On souhaite visualiser la fonction de densité de la loi normale. Pour cela, on va créer un ensemble de $k$ points $(x_i,y_i$), pour des $x_i$ équi-espacés variant de $-2σ$ à $2σ$, les $y_i$ correspondant à la valeur de la fonction de densité de la loi normale centrée de variance $σ^2$, autrement dit ${\\cal N}(0,σ^2)$.\n",
    "\n",
    "Écrire une fonction `normale : int , float -> float np.array` qui, étant donné un paramètre entier `k` impair et un paramètre réel `sigma` renvoie l'`array numpy` des $k$ valeurs $y_i$. Afin que l'`array numpy` soit bien symmétrique, on lèvera une exception si $k$ est pair."
   ]
  },
  {
   "cell_type": "code",
   "execution_count": 6,
   "metadata": {},
   "outputs": [
    {
     "data": {
      "text/plain": [
       "array([0.02699548, 0.19947114, 0.02699548])"
      ]
     },
     "execution_count": 6,
     "metadata": {},
     "output_type": "execute_result"
    }
   ],
   "source": [
    "from math import *\n",
    "def normale ( k, sigma ):\n",
    "    if k%2 == 0 :\n",
    "        raise ValueError(\"k doit être impair\") \n",
    "    res = np.zeros(k)\n",
    "    pas = 4*sigma / (k-1)\n",
    "    for i in range(0, k):\n",
    "        x = -2*sigma + i*pas\n",
    "        res[i] = 1/(sqrt(2*pi)*sigma)* exp(-0.5*(x/sigma)**2)\n",
    "    \n",
    "    return res\n",
    "normale(3, 2)"
   ]
  },
  {
   "cell_type": "markdown",
   "metadata": {},
   "source": [
    "Vérfier la validité de votre fonction en affichant grâce à la fonction plot les points générés dans une figure. "
   ]
  },
  {
   "cell_type": "code",
   "execution_count": 7,
   "metadata": {},
   "outputs": [
    {
     "data": {
      "text/plain": [
       "[<matplotlib.lines.Line2D at 0x1157b0e50>]"
      ]
     },
     "execution_count": 7,
     "metadata": {},
     "output_type": "execute_result"
    },
    {
     "data": {
      "image/png": "[encoded data removed]",
      "text/plain": [
       "<Figure size 432x288 with 1 Axes>"
      ]
     },
     "metadata": {
      "needs_background": "light"
     },
     "output_type": "display_data"
    }
   ],
   "source": [
    "sigma = 1\n",
    "k = 45\n",
    "pas = 4*sigma / (k-1)\n",
    "plt.plot([-2*sigma + i*pas for i in range(0, k)],normale(k, sigma))"
   ]
  },
  {
   "cell_type": "markdown",
   "metadata": {},
   "source": [
    "### II.2- Distribution de probabilité affine\n",
    "<img src=\"tme2_lineaire.jpg\" title=\"Distribution affine\" style=\"float: right;\">\n",
    "\n",
    "Dans cette question, on considère une généralisation de la distribution uniforme: une distribution affine, c'est-à-dire que la fonction de densité est une droite, mais pas forcément horizontale, comme le montre la figure ci-contre. \n",
    "\n",
    "Écrire une fonction `proba_affine : int , float -> float np.array` qui, comme dans la question précédente, va générer un ensemble de $k$ points $y_i, i=0,...,k−1$, représentant cette distribution (paramétrée par sa pente `slope`). On vérifiera ici aussi que l'entier $k$ est impair. Si la pente est égale à $0$, c'est-à-dire si la distribution est uniforme, chaque point $y_i$ devrait être égal à $\\frac{1}{k}$ (afin que $\\sum y_i=1$). Si la pente est différente de $0$, il suffit de choisir, $\\forall i=0,...,k−1$,\n",
    "\n",
    "$$y_i=\\frac{1}{k}+(i−\\frac{k−1}{2})×slope$$\n",
    "\n",
    "Vous pourrez aisément vérifier que, ici aussi, $\\sum y_i=1$. Afin que la distribution soit toujours positive (c'est quand même un minimum pour une distribution de probabilité), il faut que la pente slope ne soit ni trop grande ni trop petite. Le bout de code ci-dessous lèvera une exception si la pente est trop élevée et indiquera la pente maximale possible. "
   ]
  },
  {
   "cell_type": "code",
   "execution_count": 8,
   "metadata": {},
   "outputs": [
    {
     "data": {
      "text/plain": [
       "[<matplotlib.lines.Line2D at 0x1158f68e0>]"
      ]
     },
     "execution_count": 8,
     "metadata": {},
     "output_type": "execute_result"
    },
    {
     "data": {
      "image/png": "[encoded data removed]",
      "text/plain": [
       "<Figure size 432x288 with 1 Axes>"
      ]
     },
     "metadata": {
      "needs_background": "light"
     },
     "output_type": "display_data"
    }
   ],
   "source": [
    "def proba_affine ( k, slope ):\n",
    "    if k % 2 == 0:\n",
    "        raise ValueError ( 'le nombre k doit etre impair' )\n",
    "    if abs ( slope  ) > 2. / ( k * k ):\n",
    "        raise ValueError ( 'la pente est trop raide : pente max = ' +\n",
    "        str ( 2. / ( k * k ) ) )\n",
    "    res = np.zeros(k)\n",
    "    for i in range(0, k):\n",
    "        res[i] = 1/k+(i-(k-1)/2)*slope\n",
    "    \n",
    "    return res\n",
    "k=3\n",
    "slope=0\n",
    "plt.plot([i for i in range(0, k)],proba_affine(k, slope))"
   ]
  },
  {
   "cell_type": "markdown",
   "metadata": {},
   "source": [
    "### II.3- Distribution jointe\n",
    "Écrire une fonction `Pxy : float np.array , float np.array -> float np.2D-array` qui, étant donné deux tableaux numpy de nombres réels à $1$ dimension générés par les fonctions des questions précédentes et représentant deux distributions de probabilités $P(A)$ et $P(B)$, renvoie la distribution jointe $P(A,B)$ sous forme d'un tableau numpy à $2$ dimensions de nombres réels, en supposant que $A$ et $B$ sont des variables aléatoires indépendantes. Par exemple, si:"
   ]
  },
  {
   "cell_type": "code",
   "execution_count": 9,
   "metadata": {},
   "outputs": [],
   "source": [
    "PA = np.array ( [[0.2], [0.7], [0.1]] )\n",
    "PB = np.array ( [[0.4, 0.4, 0.2]] )\n",
    "\n",
    "\n"
   ]
  },
  {
   "cell_type": "markdown",
   "metadata": {},
   "source": [
    "alors `Pxy(A,B)` renverra le tableau :\n",
    "```\n",
    "np.array([[ 0.08,  0.08,  0.04],\n",
    "          [ 0.28,  0.28,  0.14],\n",
    "          [ 0.04,  0.04,  0.02]])\n",
    "```"
   ]
  },
  {
   "cell_type": "code",
   "execution_count": 10,
   "metadata": {},
   "outputs": [
    {
     "name": "stdout",
     "output_type": "stream",
     "text": [
      "[[0.08 0.08 0.04]\n",
      " [0.28 0.28 0.14]\n",
      " [0.04 0.04 0.02]]\n"
     ]
    }
   ],
   "source": [
    "def Pxy(x,y):\n",
    "    return np.dot(PA,PB)\n",
    "print(Pxy(PA, PB))"
   ]
  },
  {
   "cell_type": "markdown",
   "metadata": {},
   "source": [
    "### II.4- Affichage de la distribution jointe\n",
    "<img src=\"tme2_jointe.jpg\" title=\"Distribution jointe\" style=\"float: right;\">\n",
    "\n",
    "Le code ci-dessous permet d'afficher en 3D une probabilité jointe générée par la fonction précédente. Exécutez-le avec une probabilité jointe résultant de la combinaison d'une loi normale et d'une distribution affine. \n",
    "\n",
    "Si la commande `%matplotlib notebook` fonctione, vous pouvez interagir avec la courbe. Si le contenu de la fenêtre est vide, redimensionnez celle-ci et le contenu devrait apparaître. Cliquez à la souris à l'intérieur de la fenêtre et bougez la souris en gardant le bouton appuyé afin de faire pivoter la courbe. Observez sous différents angles cette courbe. Refaites l'expérience avec une probaiblité jointe résultant de deux lois normales. Essayez de comprendre ce que signifie, visuellement, l'indépendance probabiliste. Vous pouvez également recommencer l'expérience avec le logarithme des lois jointes.\n"
   ]
  },
  {
   "cell_type": "code",
   "execution_count": 11,
   "metadata": {},
   "outputs": [],
   "source": [
    "from mpl_toolkits.mplot3d import Axes3D\n",
    "%matplotlib inline  \n",
    "# essayer `%matplotib notebook` pour interagir avec la visualisation 3D\n",
    "\n",
    "def dessine ( P_jointe ):\n",
    "    fig = plt.figure()\n",
    "    ax = fig.add_subplot(111, projection='3d')\n",
    "    x = np.linspace ( -3, 3, P_jointe.shape[0] )\n",
    "    y = np.linspace ( -3, 3, P_jointe.shape[1] )\n",
    "    X, Y = np.meshgrid(x, y)\n",
    "    ax.plot_surface(X, Y, P_jointe, rstride=1, cstride=1 )\n",
    "    ax.set_xlabel('A')\n",
    "    ax.set_ylabel('B')\n",
    "    ax.set_zlabel('P(A) * P(B)')\n",
    "    plt.show ()"
   ]
  },
  {
   "cell_type": "code",
   "execution_count": 12,
   "metadata": {},
   "outputs": [
    {
     "data": {
      "image/png": "[encoded data removed]",
      "text/plain": [
       "<Figure size 432x288 with 1 Axes>"
      ]
     },
     "metadata": {
      "needs_background": "light"
     },
     "output_type": "display_data"
    }
   ],
   "source": [
    "dessine(np.array([[ 0.08,  0.08,  0.04],\n",
    "                  [ 0.28,  0.28,  0.14],\n",
    "                  [ 0.04,  0.04,  0.02]]))"
   ]
  },
  {
   "cell_type": "code",
   "execution_count": 13,
   "metadata": {},
   "outputs": [],
   "source": [
    "#votre code\n"
   ]
  },
  {
   "cell_type": "markdown",
   "metadata": {},
   "source": [
    "## III- Indépendances conditionnelles (<font color=\"red\"> obligatoire</font>)\n",
    "\n",
    "Dans cet exercice, on considère quatre variables aléatoires booléennes $X$, $Y$, $Z$ et $T$ ainsi que leur distribution jointe $P(X,Y,Z,T)$ encodée en python de la manière suivante : "
   ]
  },
  {
   "cell_type": "code",
   "execution_count": 14,
   "metadata": {},
   "outputs": [],
   "source": [
    "# creation de P(X,Y,Z,T)\n",
    "P_XYZT = np.array([[[[ 0.0192,  0.1728],\n",
    "                     [ 0.0384,  0.0096]],\n",
    "\n",
    "                    [[ 0.0768,  0.0512],\n",
    "                     [ 0.016 ,  0.016 ]]],\n",
    "\n",
    "                   [[[ 0.0144,  0.1296],\n",
    "                     [ 0.0288,  0.0072]],\n",
    "\n",
    "                    [[ 0.2016,  0.1344],\n",
    "                     [ 0.042 ,  0.042 ]]]])"
   ]
  },
  {
   "cell_type": "markdown",
   "metadata": {},
   "source": [
    "Ainsi, $\\forall (x,y,z,t) \\in \\{0,1\\}^4$, `P_XYZT[x][y][z][t]` correspond à $P(X=x,Y=y,Z=z,T=t)$ ou, en version abrégée, à $P(x,y,z,t)$. "
   ]
  },
  {
   "cell_type": "markdown",
   "metadata": {},
   "source": [
    "### III.1- Indépendance de X et T conditionnellement à (Y,Z)\n",
    "On souhaite tester si les variables aléatoires $X$ et $T$ sont indépendantes conditionnellement à $(Y,Z)$. Il s'agit donc de vérifer que dans la loi $P$, $$P(X,T|Y,Z)=P(X|Y,Z)\\cdot P(T|Y,Z)$$\n",
    "\n",
    "\n",
    "Pour cela, tout d'abord, calculer à partir de `P_XYZT` le tableau `P_YZ` représentant la distribution $P(Y,Z)$. On rappelle que $$P(Y,Z)=\\sum_{X,T} P(X,Y,Z,T)$$\n",
    "\n",
    "Le tableau `P_YZ` est donc un tableau à deux dimensions, dont la première correspond à $Y$ et la deuxième à $Z$. Si vous ne vous êtes pas trompé(e)s, vous devez obtenir le tableau suivant : \n",
    "```\n",
    "np.array([[ 0.336,  0.084],\n",
    "          [ 0.464,  0.116]])\n",
    "```\n",
    "\n",
    "Ainsi $P(Y=0,Z=1)=$ `P_YZ[0][1]` $=0.084$"
   ]
  },
  {
   "cell_type": "code",
   "execution_count": 15,
   "metadata": {},
   "outputs": [
    {
     "name": "stdout",
     "output_type": "stream",
     "text": [
      "[[0.336 0.084]\n",
      " [0.464 0.116]]\n"
     ]
    }
   ],
   "source": [
    "#votre code\n",
    "P_YZ=np.zeros((P_XYZT.shape[1],P_XYZT.shape[2]))\n",
    "for y in range(P_XYZT.shape[1]):\n",
    "    for z in range(P_XYZT.shape[2]):\n",
    "        s = 0\n",
    "        for x in range(P_XYZT.shape[0]):\n",
    "            for t in range(P_XYZT.shape[3]):\n",
    "                s = s+ P_XYZT[x][y][z][t]\n",
    "            P_YZ[y][z]=s\n",
    "print(P_YZ)           \n",
    "                "
   ]
  },
  {
   "cell_type": "markdown",
   "metadata": {},
   "source": [
    "Ensuite, calculer le tableau `P_XTcondYZ` représentant la distribution $P(X,T|Y,Z)$. Ce tableau a donc 4 dimensions, chacune correspondant à une des variables aléatoires. De plus, les valeurs de `P_XTcondYZ` sont obtenues en utilisant la formule des probabilités conditionnelles: $$P(X,T|Y,Z)=\\frac{P(X,Y,Z,T)}{P(Y,Z)}$$"
   ]
  },
  {
   "cell_type": "code",
   "execution_count": 16,
   "metadata": {},
   "outputs": [
    {
     "name": "stdout",
     "output_type": "stream",
     "text": [
      "[[[[0.05714286 0.51428571]\n",
      "   [0.45714286 0.11428571]]\n",
      "\n",
      "  [[0.16551724 0.11034483]\n",
      "   [0.13793103 0.13793103]]]\n",
      "\n",
      "\n",
      " [[[0.04285714 0.38571429]\n",
      "   [0.34285714 0.08571429]]\n",
      "\n",
      "  [[0.43448276 0.28965517]\n",
      "   [0.36206897 0.36206897]]]]\n"
     ]
    }
   ],
   "source": [
    "#votre code\n",
    "P_XTcondYZ=np.zeros(P_XYZT.shape)\n",
    "for y in range(P_XYZT.shape[1]):\n",
    "    for z in range(P_XYZT.shape[2]):\n",
    "        for x in range(P_XYZT.shape[0]):\n",
    "            for t in range(P_XYZT.shape[3]):\n",
    "                P_XTcondYZ[x][y][z][t]=P_XYZT[x][y][z][t]/P_YZ[y][z]\n",
    "print(P_XTcondYZ)"
   ]
  },
  {
   "cell_type": "markdown",
   "metadata": {},
   "source": [
    "Calculer à partir de `P_XTcondYZ` les tableaux à 3 dimensions `P_XcondYZ` et `P_TcondYZ` représentant respectivement les distributions $P(X|Y,Z)$ et $P(T|Y,Z)$. On rappelle que $$P(X|Y,Z)=∑_Y P(X,T|Y,Z)$$"
   ]
  },
  {
   "cell_type": "code",
   "execution_count": 17,
   "metadata": {},
   "outputs": [
    {
     "name": "stdout",
     "output_type": "stream",
     "text": [
      "[[[0.57142857 0.57142857]\n",
      "  [0.27586207 0.27586207]]\n",
      "\n",
      " [[0.42857143 0.42857143]\n",
      "  [0.72413793 0.72413793]]]\n",
      "[[[0.1 0.8]\n",
      "  [0.6 0.5]]\n",
      "\n",
      " [[0.9 0.2]\n",
      "  [0.4 0.5]]]\n"
     ]
    }
   ],
   "source": [
    "#votre code\n",
    "P_XcondYZ=np.zeros((P_XYZT.shape[0],P_XYZT.shape[1],P_XYZT.shape[2]))\n",
    "for z in range(P_XYZT.shape[2]):\n",
    "    for y in range(P_XYZT.shape[1]):\n",
    "        for x in range(P_XYZT.shape[0]):\n",
    "            s=0\n",
    "            for t in range(P_XYZT.shape[3]):\n",
    "                s=s+P_XTcondYZ[x][y][z][t]\n",
    "            P_XcondYZ[x][y][z]=s\n",
    "print(P_XcondYZ)\n",
    "P_TcondYZ=np.zeros((P_XYZT.shape[3],P_XYZT.shape[1],P_XYZT.shape[2]))\n",
    "for z in range(P_XYZT.shape[2]):\n",
    "    for y in range(P_XYZT.shape[1]):\n",
    "        for t in range(P_XYZT.shape[3]):        \n",
    "            s=0\n",
    "            for x in range(P_XYZT.shape[0]):\n",
    "                s=s+P_XTcondYZ[x][y][z][t]\n",
    "            P_TcondYZ[t][y][z]=s\n",
    "print(P_TcondYZ)\n",
    "\n",
    "  \n"
   ]
  },
  {
   "cell_type": "markdown",
   "metadata": {},
   "source": [
    "Enfin, tester si $X$ et $T$ sont indépendantes conditionnellement à $(Y,Z)$: si c'est bien le cas, on doit avoir $$P(X,T|Y,Z)=P(X|Y,Z)×P(T|Y,Z)$$ "
   ]
  },
  {
   "cell_type": "code",
   "execution_count": 18,
   "metadata": {},
   "outputs": [
    {
     "name": "stdout",
     "output_type": "stream",
     "text": [
      "[[[[1. 1.]\n",
      "   [1. 1.]]\n",
      "\n",
      "  [[1. 1.]\n",
      "   [1. 1.]]]\n",
      "\n",
      "\n",
      " [[[1. 1.]\n",
      "   [1. 1.]]\n",
      "\n",
      "  [[1. 1.]\n",
      "   [1. 1.]]]]\n"
     ]
    }
   ],
   "source": [
    "res  = np.zeros(P_XYZT.shape)\n",
    "for z in range(P_XYZT.shape[2]):\n",
    "    for y in range(P_XYZT.shape[1]):\n",
    "        for t in range(P_XYZT.shape[3]):        \n",
    "            for x in range(P_XYZT.shape[0]):\n",
    "                res[x][y][z][t] = round(P_XTcondYZ[x][y][z][t],2) ==round(P_XcondYZ[x][y][z]*P_TcondYZ[t][y][z],2)\n",
    "print(res)"
   ]
  },
  {
   "cell_type": "markdown",
   "metadata": {},
   "source": [
    "### III.2- Indépendance de X et (Y,Z)\n",
    "\n",
    "On souhaite maintenant déterminer si $X$ et $(Y,Z)$ sont indépendantes. Pour cela, commencer par calculer à partir de `P_XYZT` le tableau `P_XYZ` représentant la distribution $P(X,Y,Z)$. \n",
    "\n",
    "Ensuite, calculer à partir de `P_XYZ` les tableaux `P_X` et `P_YZ` représentant respectivement les distributions $P(X)$ et $P(Y,Z)$. On rappelle que $$P(X)=∑_Y∑_Z P(X,Y,Z)$$\n",
    "\n",
    "Si vous ne vous êtes pas trompé(e), P_X doit être égal au tableau suivant : \n",
    "```\n",
    "np.array([ 0.4,  0.6])\n",
    "```"
   ]
  },
  {
   "cell_type": "code",
   "execution_count": 19,
   "metadata": {},
   "outputs": [
    {
     "name": "stdout",
     "output_type": "stream",
     "text": [
      "[0.4 0.6] [0.42 0.58]\n"
     ]
    }
   ],
   "source": [
    "#votre code\n",
    "P_XYZ=np.zeros((P_XYZT.shape[0],P_XYZT.shape[1],P_XYZT.shape[2]))\n",
    "for z in range(P_XYZT.shape[2]):\n",
    "    for y in range(P_XYZT.shape[1]):\n",
    "        for x in range(P_XYZT.shape[0]):\n",
    "            s=0\n",
    "            for t in range(P_XYZT.shape[3]):\n",
    "                s=s+P_XYZT[x][y][z][t]\n",
    "            P_XYZ[x][y][z]=s\n",
    "P_X=np.zeros((P_XYZT.shape[0]))\n",
    "for x in range(P_XYZT.shape[0]):\n",
    "    s=0\n",
    "    for z in range(P_XYZT.shape[2]):\n",
    "        for y in range(P_XYZT.shape[1]):\n",
    "            s=s+P_XYZ[x][y][z]\n",
    "    P_X[x]=s\n",
    "P_Y=np.zeros((P_XYZT.shape[0]))\n",
    "for y in range(P_XYZT.shape[0]):\n",
    "    s=0\n",
    "    for z in range(P_XYZT.shape[2]):\n",
    "        for x in range(P_XYZT.shape[1]):\n",
    "            s=s+P_XYZ[x][y][z]\n",
    "    P_Y[y]=s\n",
    "print(P_X,P_Y)"
   ]
  },
  {
   "cell_type": "markdown",
   "metadata": {},
   "source": [
    "Enfin, si $X$ et $(Y,Z)$ sont bien indépendantes, on doit avoir $$P(X,Y,Z)=P(X)×P(Y,Z)$$"
   ]
  },
  {
   "cell_type": "code",
   "execution_count": 20,
   "metadata": {},
   "outputs": [
    {
     "name": "stdout",
     "output_type": "stream",
     "text": [
      "[[[0. 0.]\n",
      "  [0. 0.]]\n",
      "\n",
      " [[0. 0.]\n",
      "  [0. 0.]]]\n"
     ]
    }
   ],
   "source": [
    "res  = np.zeros(P_XYZ.shape)\n",
    "for z in range(P_XYZT.shape[2]):\n",
    "    for y in range(P_XYZT.shape[1]):\n",
    "        for t in range(P_XYZT.shape[3]):        \n",
    "            for x in range(P_XYZT.shape[0]):\n",
    "                res[x][y][z]= round(P_XYZ[x][y][z],2)==round(P_X[x]*P_YZ[y][z],2)\n",
    "print(res)"
   ]
  },
  {
   "cell_type": "markdown",
   "metadata": {},
   "source": [
    "## IV- Indépendances conditionnelles et consommation mémoire  (<font color=\"red\"> obligatoire</font>)\n",
    "\n",
    "Le but de cet exercice est d'exploiter les probabilités conditionnelles et les indépendances conditionnelles afin de décomposer une probabilité jointe en un produit de \"petites probabilités conditionnelles\". Cela permet de stocker des probabilités jointes de grandes tailles sur des ordinateurs \"standards\". Au cours de l'exercice, vous allez donc partir d'une probabilité jointe et, progressivement, construire un programme qui identifie ces indépendances conditionnelles.\n",
    "\n",
    "Pour simplifier, dans la suite de cet exercice, nous allons considérer un ensemble $X_0,…,X_n$ de variables aléatoires binaires (elles ne peuvent prendre que 2 valeurs : 0 et 1). \n",
    "\n",
    "### Simplification du code : utilisation de pyAgrum\n",
    "\n",
    "Manipuler des probabilités et des opérations sur des probabilités complexes est difficiles avec les outils classiques. La difficulté principale est certainement le problème du mapping entre axe et variable aléatoire. `pyAgrum` propose une gestion de `Potential` qui sont des tableaux multidimensionnels dont les axes sont caractérisés par des variables et sont donc non ambigüs.\n",
    "\n",
    "Par exemple, après l'initiation du `Potential PABCD` :"
   ]
  },
  {
   "cell_type": "code",
   "execution_count": 21,
   "metadata": {},
   "outputs": [
    {
     "name": "stdout",
     "output_type": "stream",
     "text": [
      "X<0,1> Y<0,1> Z<0,1> T<0,1>\n",
      "<T:0|Z:0|Y:0|X:0> :: 0 /<T:1|Z:0|Y:0|X:0> :: 0 /<T:0|Z:1|Y:0|X:0> :: 0 /<T:1|Z:1|Y:0|X:0> :: 0 /<T:0|Z:0|Y:1|X:0> :: 0 /<T:1|Z:0|Y:1|X:0> :: 0 /<T:0|Z:1|Y:1|X:0> :: 0 /<T:1|Z:1|Y:1|X:0> :: 0 /<T:0|Z:0|Y:0|X:1> :: 0 /<T:1|Z:0|Y:0|X:1> :: 0 /<T:0|Z:1|Y:0|X:1> :: 0 /<T:1|Z:1|Y:0|X:1> :: 0 /<T:0|Z:0|Y:1|X:1> :: 0 /<T:1|Z:0|Y:1|X:1> :: 0 /<T:0|Z:1|Y:1|X:1> :: 0 /<T:1|Z:1|Y:1|X:1> :: 0\n"
     ]
    }
   ],
   "source": [
    "import pyAgrum as gum\n",
    "import pyAgrum.lib.notebook as gnb\n",
    "\n",
    "X,Y,Z,T=[gum.LabelizedVariable(x,x,2) for x in \"XYZT\"]\n",
    "print(X, Y, Z, T)\n",
    "pXYZT=gum.Potential().add(T).add(Z).add(Y).add(X)\n",
    "print(pXYZT)\n",
    "pXYZT[:]=[[[[ 0.0192,  0.1728],\n",
    "            [ 0.0384,  0.0096]],\n",
    "           [[ 0.0768,  0.0512],\n",
    "            [ 0.016 ,  0.016 ]]],\n",
    "          [[[ 0.0144,  0.1296],\n",
    "            [ 0.0288,  0.0072]],\n",
    "           [[ 0.2016,  0.1344],\n",
    "            [ 0.042 ,  0.042 ]]]]"
   ]
  },
  {
   "cell_type": "markdown",
   "metadata": {},
   "source": [
    "On peut alors utiliser la méthode `margSumOut` qui supprime les variables par sommations: `p.margSumOut(['X','Y'])` correspond à calculer $\\sum_{X,Y} p$\n",
    "\n",
    "La réponse a question III.1 se calcule donc ainsi :"
   ]
  },
  {
   "cell_type": "code",
   "execution_count": 22,
   "metadata": {},
   "outputs": [
    {
     "name": "stdout",
     "output_type": "stream",
     "text": [
      "=> X et T sont indépendants conditionnellemnt à Y et Z\n"
     ]
    }
   ],
   "source": [
    "pXT_YZ=pXYZT/pXYZT.margSumOut(['X','T'])\n",
    "pX_YZ=pXT_YZ.margSumOut(['T'])\n",
    "pT_YZ=pXT_YZ.margSumOut(['X'])\n",
    "\n",
    "if pXT_YZ==pX_YZ*pT_YZ:\n",
    "    print(\"=> X et T sont indépendants conditionnellemnt à Y et Z\")\n",
    "else:\n",
    "    print(\"=> pas d'indépendance trouvée\")\n"
   ]
  },
  {
   "cell_type": "markdown",
   "metadata": {},
   "source": [
    "La réponse à la question III.2 se calcule ainsi :"
   ]
  },
  {
   "cell_type": "code",
   "execution_count": 23,
   "metadata": {},
   "outputs": [
    {
     "name": "stdout",
     "output_type": "stream",
     "text": [
      "=> pas d'indépendance trouvée\n"
     ]
    }
   ],
   "source": [
    "pXYZ=pXYZT.margSumOut(\"T\")\n",
    "pYZ=pXYZ.margSumOut(\"X\")\n",
    "pX=pXYZ.margSumOut([\"Y\",\"Z\"])\n",
    "if pXYZ==pX*pYZ:\n",
    "    print(\"=> X et YZ sont indépendants\")\n",
    "else:\n",
    "    print(\"=> pas d'indépendance trouvée\")"
   ]
  },
  {
   "cell_type": "code",
   "execution_count": 24,
   "metadata": {},
   "outputs": [
    {
     "data": {
      "text/html": [
       "<table style=\"border-style: hidden; border-collapse: collapse;\" width=\"100%\"><tr><td style=\"border-top:hidden;border-bottom:hidden;\"><div align=\"center\" style=\"\"><table style=\"border:1px solid black;\">\n",
       "<tr><th colspan='2'></th><th colspan='2' style='border:1px solid black;color:black;background-color:#808080;'><center>Z</center></th></tr>\n",
       "<tr><th style='border:1px solid black;color:black;background-color:#808080'><center>X</center></th><th style='border:1px solid black;color:black;background-color:#808080'><center>Y</center></th><th style='border:1px solid black;border-bottom-style: double;color:black;background-color:#BBBBBB'><center>0</center></th><th style='border:1px solid black;border-bottom-style: double;color:black;background-color:#BBBBBB'><center>1</center></th></tr>\n",
       "<tr><th style='border:1px solid black;color:black;background-color:#BBBBBB;' rowspan = '2'><center>0</center></th><th style='border:1px solid black;color:black;background-color:#BBBBBB'><center>0</center></th><td style='color:black;background-color:#e69764;text-align:right;'>0.1920</td><td style='color:black;background-color:#f88564;text-align:right;'>0.0480</td></tr>\n",
       "<tr><th style='border:1px solid black;color:black;background-color:#BBBBBB'><center>1</center></th><td style='color:black;background-color:#ee8f64;text-align:right;'>0.1280</td><td style='color:black;background-color:#fa8364;text-align:right;'>0.0320</td></tr>\n",
       "<tr><th style='border:1px solid black;color:black;background-color:#BBBBBB;' rowspan = '2'><center>1</center></th><th style='border:1px solid black;color:black;background-color:#BBBBBB'><center>0</center></th><td style='color:black;background-color:#ec9164;text-align:right;'>0.1440</td><td style='color:black;background-color:#fa8364;text-align:right;'>0.0360</td></tr>\n",
       "<tr><th style='border:1px solid black;color:black;background-color:#BBBBBB'><center>1</center></th><td style='color:black;background-color:#d3aa64;text-align:right;'>0.3360</td><td style='color:black;background-color:#f48964;text-align:right;'>0.0840</td></tr>\n",
       "</table></div></td><td style=\"border-top:hidden;border-bottom:hidden;\"><div align=\"center\" style=\"\"><table style=\"border:1px solid black;\">\n",
       "<tr style='border:1px solid black;color:black;background-color:#808080'><th colspan='2'><center>X</center></th></tr>\n",
       "<tr><th style='border:1px solid black;border-bottom-style: double;color:black;background-color:#BBBBBB'><center>0</center></th><th style='border:1px solid black;border-bottom-style: double;color:black;background-color:#BBBBBB'><center>1</center></th></tr>\n",
       "<tr><td style='color:black;background-color:#cbb264;text-align:right;'>0.4000</td><td style='color:black;background-color:#b2cb64;text-align:right;'>0.6000</td></tr>\n",
       "</table></div></td><td style=\"border-top:hidden;border-bottom:hidden;\"><div align=\"center\" style=\"\"><table style=\"border:1px solid black;\">\n",
       "<tr><th colspan='1'></th><th colspan='2' style='border:1px solid black;color:black;background-color:#808080;'><center>Z</center></th></tr>\n",
       "<tr><th style='border:1px solid black;color:black;background-color:#808080'><center>Y</center></th><th style='border:1px solid black;border-bottom-style: double;color:black;background-color:#BBBBBB'><center>0</center></th><th style='border:1px solid black;border-bottom-style: double;color:black;background-color:#BBBBBB'><center>1</center></th></tr>\n",
       "<tr><th style='border:1px solid black;color:black;background-color:#BBBBBB'><center>0</center></th><td style='color:black;background-color:#d3aa64;text-align:right;'>0.3360</td><td style='color:black;background-color:#f48964;text-align:right;'>0.0840</td></tr>\n",
       "<tr><th style='border:1px solid black;color:black;background-color:#BBBBBB'><center>1</center></th><td style='color:black;background-color:#c3ba64;text-align:right;'>0.4640</td><td style='color:black;background-color:#f08d64;text-align:right;'>0.1160</td></tr>\n",
       "</table></div></td><td style=\"border-top:hidden;border-bottom:hidden;\"><div align=\"center\" style=\"\"><table style=\"border:1px solid black;\">\n",
       "<tr><th colspan='2'></th><th colspan='2' style='border:1px solid black;color:black;background-color:#808080;'><center>Z</center></th></tr>\n",
       "<tr><th style='border:1px solid black;color:black;background-color:#808080'><center>X</center></th><th style='border:1px solid black;color:black;background-color:#808080'><center>Y</center></th><th style='border:1px solid black;border-bottom-style: double;color:black;background-color:#BBBBBB'><center>0</center></th><th style='border:1px solid black;border-bottom-style: double;color:black;background-color:#BBBBBB'><center>1</center></th></tr>\n",
       "<tr><th style='border:1px solid black;color:black;background-color:#BBBBBB;' rowspan = '2'><center>0</center></th><th style='border:1px solid black;color:black;background-color:#BBBBBB'><center>0</center></th><td style='color:black;background-color:#ed9064;text-align:right;'>0.1344</td><td style='color:black;background-color:#fa8364;text-align:right;'>0.0336</td></tr>\n",
       "<tr><th style='border:1px solid black;color:black;background-color:#BBBBBB'><center>1</center></th><td style='color:black;background-color:#e79664;text-align:right;'>0.1856</td><td style='color:black;background-color:#f98464;text-align:right;'>0.0464</td></tr>\n",
       "<tr><th style='border:1px solid black;color:black;background-color:#BBBBBB;' rowspan = '2'><center>1</center></th><th style='border:1px solid black;color:black;background-color:#BBBBBB'><center>0</center></th><td style='color:black;background-color:#e59864;text-align:right;'>0.2016</td><td style='color:black;background-color:#f88564;text-align:right;'>0.0504</td></tr>\n",
       "<tr><th style='border:1px solid black;color:black;background-color:#BBBBBB'><center>1</center></th><td style='color:black;background-color:#dba264;text-align:right;'>0.2784</td><td style='color:black;background-color:#f68764;text-align:right;'>0.0696</td></tr>\n",
       "</table></div></td></tr><tr><td style=\"border-top:hidden;border-bottom:hidden;\"><div align=\"center\"><small>$P(X,Y,Z)$</small></div></td><td style=\"border-top:hidden;border-bottom:hidden;\"><div align=\"center\"><small>$P(X)$</small></div></td><td style=\"border-top:hidden;border-bottom:hidden;\"><div align=\"center\"><small>$P(Y,Z)$</small></div></td><td style=\"border-top:hidden;border-bottom:hidden;\"><div align=\"center\"><small>$P(X)\\cdot P(Y,Z)$</small></div></td></tr></table>"
      ],
      "text/plain": [
       "<IPython.core.display.HTML object>"
      ]
     },
     "metadata": {},
     "output_type": "display_data"
    }
   ],
   "source": [
    "gnb.sideBySide(pXYZ,pX,pYZ,pX*pYZ,\n",
    "               captions=['$P(X,Y,Z)$','$P(X)$','$P(Y,Z)$','$P(X)\\cdot P(Y,Z)$'])"
   ]
  },
  {
   "cell_type": "markdown",
   "metadata": {},
   "source": [
    "`asia.txt` contient la description d'une probabilité jointe sur un ensemble de $8$ variables aléatoires binaires (256 paramètres). Le fichier est produit à partir du site web suivant `http://www.bnlearn.com/bnrepository/`.\n",
    "\n",
    "Le code suivant permet de lire ce fichier et d'en récupérer la probabilité jointe (sous forme d'une `gum.Potential`) qu'il contient : "
   ]
  },
  {
   "cell_type": "code",
   "execution_count": 26,
   "metadata": {},
   "outputs": [
    {
     "name": "stdout",
     "output_type": "stream",
     "text": [
      "Les variables : ['visit_to_Asia?', 'tuberculosis?', 'smoking?', 'lung_cancer?', 'tuberculosis_or_lung_cancer?', 'bronchitis?', 'positive_Xray?', 'dyspnoea?']\n"
     ]
    }
   ],
   "source": [
    "def read_file ( filename ):\n",
    "    \"\"\"\n",
    "    Renvoie les variables aléatoires et la probabilité contenues dans le\n",
    "    fichier dont le nom est passé en argument.\n",
    "    \"\"\"\n",
    "    Pres = gum.Potential ()\n",
    "    vars=[]\n",
    "\n",
    "    with open ( filename, 'r' ) as fic:\n",
    "        # on rajoute les variables dans le potentiel\n",
    "        nb_vars = int ( fic.readline () )\n",
    "        for i in range ( nb_vars ):\n",
    "            name, domsize = fic.readline ().split ()\n",
    "            vars.append(name)\n",
    "            variable = gum.LabelizedVariable(name,name,int (domsize))\n",
    "            Pres.add(variable)\n",
    "\n",
    "        # on rajoute les valeurs de proba dans le potentiel\n",
    "        cpt = []\n",
    "        for line in fic:\n",
    "            cpt.append ( float(line) )\n",
    "        Pres.fillWith( cpt )\n",
    "    return vars,Pres\n",
    "\n",
    "vars,Pjointe=read_file('asia.txt')\n",
    "# afficher Pjointe est un peu délicat (retire le commentaire de la ligne suivante)\n",
    "# Pjointe\n",
    "\n",
    "print('Les variables : '+str(vars))"
   ]
  },
  {
   "cell_type": "code",
   "execution_count": 27,
   "metadata": {},
   "outputs": [
    {
     "data": {
      "text/html": [
       "<table style=\"border:1px solid black;\">\n",
       "<tr><th colspan='1'></th><th colspan='2' style='border:1px solid black;color:black;background-color:#808080;'><center>tuberculosis?</center></th></tr>\n",
       "<tr><th style='border:1px solid black;color:black;background-color:#808080'><center>lung_cancer?</center></th><th style='border:1px solid black;border-bottom-style: double;color:black;background-color:#BBBBBB'><center>0</center></th><th style='border:1px solid black;border-bottom-style: double;color:black;background-color:#BBBBBB'><center>1</center></th></tr>\n",
       "<tr><th style='border:1px solid black;color:black;background-color:#BBBBBB'><center>0</center></th><td style='color:black;background-color:#fe7f64;text-align:right;'>0.0006</td><td style='color:black;background-color:#f88564;text-align:right;'>0.0544</td></tr>\n",
       "<tr><th style='border:1px solid black;color:black;background-color:#BBBBBB'><center>1</center></th><td style='color:black;background-color:#fd8064;text-align:right;'>0.0098</td><td style='color:black;background-color:#87f664;text-align:right;'>0.9352</td></tr>\n",
       "</table>"
      ],
      "text/plain": [
       "(gum::Potential<double>@0x7f7f09b345b0) <tuberculosis?:0|lung_cancer?:0> :: 0.000572 /<tuberculosis?:1|lung_cancer?:0> :: 0.054428 /<tuberculosis?:0|lung_cancer?:1> :: 0.009828 /<tuberculosis?:1|lung_cancer?:1> :: 0.935172"
      ]
     },
     "execution_count": 27,
     "metadata": {},
     "output_type": "execute_result"
    }
   ],
   "source": [
    "# Noter qu'il existe une fonction margSumIn qui, à l'inverse de MargSumOut, élimine \n",
    "# toutes les variables qui ne sont pas dans les arguments\n",
    "Pjointe.margSumIn(['tuberculosis?','lung_cancer?'])"
   ]
  },
  {
   "cell_type": "markdown",
   "metadata": {},
   "source": [
    "### IV.1- test d'indépendance conditionnelle\n",
    "\n",
    "En utilisant la méthode `margSumIn` (voir juste au dessus), écrire une fonction `conditional_indep: Potential,str,str,list[str]->bool` qui rend vrai si dans le `Potential`, on peut lire l'indépendance conditionnelle.\n",
    "\n",
    "Par exemple, l'appel\n",
    "\n",
    "`conditional_indep(Pjointe,'bronchitis?', 'positive_Xray?',['tuberculosis?','lung_cancer?'])` \n",
    "\n",
    "vérifie si bronchitis est indépendant de `posititve_Xray` conditionnellement à `tuberculosis?` et `lung_cancer?`\n",
    "\n",
    "D'un point de vue général, on vérifie que $X$ et $Y$ sont indépendants conditionnellement à $Z_1,\\cdots,Z_d$ par l'égalité :\n",
    "$$P(X,Y|Z_1,\\cdots,Z_d)=P(X|Z_1,\\cdot,Z_d)\\cdot P(Y|Z_1,\\cdots,Z_d)$$\n",
    "\n",
    "Ces trois probabilités sont calculables à partir de la loi jointe de $P(X,Y,Z_1,\\cdots,Z_d)$.\n",
    "\n",
    "<em>Remarque</em> Vérifier l'égalité `P==Q` de 2 `Potential` peut être problématique si les 2 sont des résultats de calcul : il peut exister une petite variation. Un meilleur test est de vérifier `(P-Q).abs().max()<epsilon` avec `epsilon` assez petit."
   ]
  },
  {
   "cell_type": "code",
   "execution_count": 143,
   "metadata": {},
   "outputs": [],
   "source": [
    "def conditional_indep(P,X,Y,Zs):\n",
    "    \n",
    "    x = Zs.copy()\n",
    "    x.append(X)\n",
    "    x.append(Y)\n",
    "    P1 = P.margSumIn(x)\n",
    "    epsilon = 0.009\n",
    "    \n",
    "#     gnb.sideBySide( P1)\n",
    "    if len(Zs) == 0:\n",
    "        pX = P1.margSumIn([X])\n",
    "        pY = P1.margSumIn([Y])\n",
    "        if(pX * pY - P1).abs().max()<epsilon :\n",
    "            return True\n",
    "        return False\n",
    "        \n",
    "    pZs = P1.margSumIn(Zs)\n",
    "    pXY_Zs = P1/pZs\n",
    "    pXZs = P1.margSumOut([Y])\n",
    "    pX_Zs = pXZs/pZs\n",
    "    pYZs = P1.margSumOut([X])\n",
    "    pY_Zs = pYZs/pZs\n",
    "    \n",
    "#     print(\"pZs\")\n",
    "#     gnb.sideBySide( pZs)\n",
    "#     print(\"pXY_Zs\")\n",
    "#     gnb.sideBySide( pXY_Zs)\n",
    "#     print(\"pXZs\")\n",
    "#     gnb.sideBySide( pXZs)\n",
    "#     print(\"pX_Zs\")\n",
    "#     gnb.sideBySide( pX_Zs)\n",
    "#     print(\"pYZs\")\n",
    "#     gnb.sideBySide( pYZs)\n",
    "#     print(\"pY_Zs\")\n",
    "#     gnb.sideBySide( pY_Zs)\n",
    "    \n",
    "#     gnb.sideBySide(pXY_Zs,pX_Zs,pY_Zs,pX_Zs*pY_Zs,\n",
    "#                captions=['$P(X,Y/Zs)$','$P(X/Zs)$','$P(Y/Zs)$','$P(X/Zs)\\cdot P(Y/Zs)$'])\n",
    "#     gnb.sideBySide(pXY_Zs,pX_Zs*pY_Zs,\n",
    "#     captions=['$P(X,Y/Zs)$','$P(X/Zs)\\cdot P(Y/Zs)$'])\n",
    "    if(pX_Zs * pY_Zs - pXY_Zs).abs().max()<epsilon :\n",
    "        return True\n",
    "    return False\n",
    "        "
   ]
  },
  {
   "cell_type": "code",
   "execution_count": 144,
   "metadata": {},
   "outputs": [
    {
     "data": {
      "text/plain": [
       "True"
      ]
     },
     "execution_count": 144,
     "metadata": {},
     "output_type": "execute_result"
    }
   ],
   "source": [
    "conditional_indep(Pjointe,\n",
    "                  'bronchitis?', \n",
    "                  'positive_Xray?',\n",
    "                  ['tuberculosis?','lung_cancer?'])"
   ]
  },
  {
   "cell_type": "code",
   "execution_count": 145,
   "metadata": {},
   "outputs": [
    {
     "data": {
      "text/plain": [
       "True"
      ]
     },
     "execution_count": 145,
     "metadata": {},
     "output_type": "execute_result"
    }
   ],
   "source": [
    "conditional_indep(Pjointe,\n",
    "                  'bronchitis?', \n",
    "                  'visit_to_Asia?',\n",
    "                  [])"
   ]
  },
  {
   "cell_type": "code",
   "execution_count": 149,
   "metadata": {},
   "outputs": [
    {
     "data": {
      "text/plain": [
       "True"
      ]
     },
     "execution_count": 149,
     "metadata": {},
     "output_type": "execute_result"
    }
   ],
   "source": [
    "conditional_indep(Pjointe,\n",
    "                  'dyspnoea?', \n",
    "                  'visit_to_Asia?',\n",
    "                  ['positive_Xray?', 'bronchitis?', 'tuberculosis_or_lung_cancer?', 'lung_cancer?', 'smoking?', 'tuberculosis?'])"
   ]
  },
  {
   "cell_type": "markdown",
   "metadata": {},
   "source": [
    "### IV.2- Factorisation compacte de loi jointe\n",
    "\n",
    "On sait que si un ensemble de variables aléatoires ${\\cal S} = \\{X_{i_0},\\ldots,X_{i_{n-1}}\\}$ peut être partitionné en deux sous-ensembles $\\cal K$ et $\\cal L$ (c'est-à-dire tels que ${\\cal K} \\cap {\\cal L} = \\emptyset$ et ${\\cal K} \\cup {\\cal L} = \\{X_{i_0},\\ldots,X_{i_{n-1}}\\}$) tels qu'une variable $X_{i_n}$ est indépendante de ${\\cal L}$ conditionnellement à ${\\cal K}$, alors:\n",
    "\n",
    "$$P(X_{i_n}|X_{i_0},\\ldots,X_{i_{n-1}}) = P(X_{i_n} | {\\cal K},{\\cal L}) = P(X_{i_n} | {\\cal K})$$\n",
    "\n",
    "C'est ce que nous avons vu au cours n°2 (cf. définition des probabilités conditionnelles). Cette formule est intéressante car elle permet de réduire la taille mémoire consommée pour stocker $P(X_{i_n}|X_{i_0},\\ldots,X_{i_{n-1}})$: il suffit en effet de stocker uniquement $P(X_{i_n} | {\\cal K})$ pour obtenir la même information."
   ]
  },
  {
   "cell_type": "markdown",
   "metadata": {},
   "source": [
    "Écrire une fonction `compact_conditional_proba: Potential,str-> Potential` qui, étant donné une probabilité jointe $P(X_{i_0},\\ldots,X_{i_n})$, une variable aléatoire $X_{i_n}$, retourne cette probabilité conditionnelle $P(X_{i_n} | {\\cal K})$. Pour cela, nous vous proposons l'algorithme itératif suivant:\n",
    "\n",
    "```\n",
    "K=S\n",
    "Pour tout X in K:\n",
    "  Si X indépendante de Xin conditionnellement à K\\{X) alors\n",
    "    Supprimer X de K\n",
    "retourner P(Xin|K)$\n",
    "```\n",
    "\n",
    "Trois petites aides :\n",
    "\n",
    "1- La fonction precédente `conditional_indep` devrait vous servir...\n",
    "\n",
    "2- Obtenir la liste des noms des variables dans un `Potential` se fait par l'attribut  \n",
    "```\n",
    "P.var_names\n",
    "```\n",
    "\n",
    "3- Afin que l'affichage soit plus facile à comprendre, il peut être judicieux de placer la variable $X_{i_n}$ en premier dans la liste des variables du Potential, ce que l'on peut faire avec le code suivant : \n",
    "```\n",
    "proba = proba.putFirst(Xin)\n",
    "```\n",
    "\n"
   ]
  },
  {
   "cell_type": "code",
   "execution_count": 164,
   "metadata": {},
   "outputs": [],
   "source": [
    "def compact_conditional_proba(P,X):\n",
    "    P = P.putFirst(X)\n",
    "    K1 = P.var_names\n",
    "    K1.remove(X)\n",
    "    K = P.var_names\n",
    "    K.remove(X)\n",
    "    print(K)\n",
    "    print(K1)\n",
    "    for Xi in K1 :\n",
    "        print(Xi)\n",
    "        K_Xi = K.copy()\n",
    "        K_Xi.remove(Xi)\n",
    "        if conditional_indep(P, Xi, X, K_Xi):   \n",
    "            K.remove(Xi)\n",
    "    print(K)\n",
    "    if len(K)>0:\n",
    "        pK = P.margSumIn(K)\n",
    "        K.append(X)\n",
    "        pXK = P.margSumIn(K)\n",
    "        return pXK / pK\n",
    "    else:\n",
    "        return P"
   ]
  },
  {
   "cell_type": "code",
   "execution_count": 165,
   "metadata": {},
   "outputs": [
    {
     "name": "stdout",
     "output_type": "stream",
     "text": [
      "['dyspnoea?', 'positive_Xray?', 'bronchitis?', 'tuberculosis_or_lung_cancer?', 'lung_cancer?', 'smoking?', 'tuberculosis?']\n",
      "['dyspnoea?', 'positive_Xray?', 'bronchitis?', 'tuberculosis_or_lung_cancer?', 'lung_cancer?', 'smoking?', 'tuberculosis?']\n",
      "dyspnoea?\n",
      "positive_Xray?\n",
      "bronchitis?\n",
      "tuberculosis_or_lung_cancer?\n",
      "lung_cancer?\n",
      "smoking?\n",
      "tuberculosis?\n",
      "[]\n"
     ]
    },
    {
     "data": {
      "text/html": [
       "<table style=\"border:1px solid black;\">\n",
       "<tr><th colspan='7'></th><th colspan='2' style='border:1px solid black;color:black;background-color:#808080;'><center>visit_to_Asia?</center></th></tr>\n",
       "<tr><th style='border:1px solid black;color:black;background-color:#808080'><center>dyspnoea?</center></th><th style='border:1px solid black;color:black;background-color:#808080'><center>positive_Xray?</center></th><th style='border:1px solid black;color:black;background-color:#808080'><center>bronchitis?</center></th><th style='border:1px solid black;color:black;background-color:#808080'><center>tuberculosis_or_lung_cancer?</center></th><th style='border:1px solid black;color:black;background-color:#808080'><center>lung_cancer?</center></th><th style='border:1px solid black;color:black;background-color:#808080'><center>smoking?</center></th><th style='border:1px solid black;color:black;background-color:#808080'><center>tuberculosis?</center></th><th style='border:1px solid black;border-bottom-style: double;color:black;background-color:#BBBBBB'><center>0</center></th><th style='border:1px solid black;border-bottom-style: double;color:black;background-color:#BBBBBB'><center>1</center></th></tr>\n",
       "<tr><th style='border:1px solid black;color:black;background-color:#BBBBBB;' rowspan = '64'><center>0</center></th><th style='border:1px solid black;color:black;background-color:#BBBBBB;' rowspan = '32'><center>0</center></th><th style='border:1px solid black;color:black;background-color:#BBBBBB;' rowspan = '16'><center>0</center></th><th style='border:1px solid black;color:black;background-color:#BBBBBB;' rowspan = '8'><center>0</center></th><th style='border:1px solid black;color:black;background-color:#BBBBBB;' rowspan = '4'><center>0</center></th><th style='border:1px solid black;color:black;background-color:#BBBBBB;' rowspan = '2'><center>0</center></th><th style='border:1px solid black;color:black;background-color:#BBBBBB'><center>0</center></th><td style='color:black;background-color:#fe7f64;text-align:right;'>0.0000</td><td style='color:black;background-color:#fe7f64;text-align:right;'>0.0003</td></tr>\n",
       "<tr><th style='border:1px solid black;color:black;background-color:#BBBBBB'><center>1</center></th><td style='color:black;background-color:#fe7f64;text-align:right;'>0.0002</td><td style='color:black;background-color:#fb8264;text-align:right;'>0.0257</td></tr>\n",
       "<tr><th style='border:1px solid black;color:black;background-color:#BBBBBB;' rowspan = '2'><center>1</center></th><th style='border:1px solid black;color:black;background-color:#BBBBBB'><center>0</center></th><td style='color:black;background-color:#fe7f64;text-align:right;'>0.0000</td><td style='color:black;background-color:#fe7f64;text-align:right;'>0.0000</td></tr>\n",
       "<tr><th style='border:1px solid black;color:black;background-color:#BBBBBB'><center>1</center></th><td style='color:black;background-color:#fe7f64;text-align:right;'>0.0000</td><td style='color:black;background-color:#fe7f64;text-align:right;'>0.0013</td></tr>\n",
       "<tr><th style='border:1px solid black;color:black;background-color:#BBBBBB;' rowspan = '4'><center>1</center></th><th style='border:1px solid black;color:black;background-color:#BBBBBB;' rowspan = '2'><center>0</center></th><th style='border:1px solid black;color:black;background-color:#BBBBBB'><center>0</center></th><td style='color:black;background-color:#fe7f64;text-align:right;'>0.0001</td><td style='color:black;background-color:#fe7f64;text-align:right;'>0.0023</td></tr>\n",
       "<tr><th style='border:1px solid black;color:black;background-color:#BBBBBB'><center>1</center></th><td style='color:black;background-color:#fe7f64;text-align:right;'>0.0000</td><td style='color:black;background-color:#fe7f64;text-align:right;'>0.0023</td></tr>\n",
       "<tr><th style='border:1px solid black;color:black;background-color:#BBBBBB;' rowspan = '2'><center>1</center></th><th style='border:1px solid black;color:black;background-color:#BBBBBB'><center>0</center></th><td style='color:black;background-color:#fe7f64;text-align:right;'>0.0001</td><td style='color:black;background-color:#fe7f64;text-align:right;'>0.0013</td></tr>\n",
       "<tr><th style='border:1px solid black;color:black;background-color:#BBBBBB'><center>1</center></th><td style='color:black;background-color:#fe7f64;text-align:right;'>0.0000</td><td style='color:black;background-color:#fe7f64;text-align:right;'>0.0013</td></tr>\n",
       "<tr><th style='border:1px solid black;color:black;background-color:#BBBBBB;' rowspan = '8'><center>1</center></th><th style='border:1px solid black;color:black;background-color:#BBBBBB;' rowspan = '4'><center>0</center></th><th style='border:1px solid black;color:black;background-color:#BBBBBB;' rowspan = '2'><center>0</center></th><th style='border:1px solid black;color:black;background-color:#BBBBBB'><center>0</center></th><td style='color:black;background-color:#fe7f64;text-align:right;'>0.0000</td><td style='color:black;background-color:#fe7f64;text-align:right;'>0.0000</td></tr>\n",
       "<tr><th style='border:1px solid black;color:black;background-color:#BBBBBB'><center>1</center></th><td style='color:black;background-color:#fe7f64;text-align:right;'>0.0000</td><td style='color:black;background-color:#fe7f64;text-align:right;'>0.0000</td></tr>\n",
       "<tr><th style='border:1px solid black;color:black;background-color:#BBBBBB;' rowspan = '2'><center>1</center></th><th style='border:1px solid black;color:black;background-color:#BBBBBB'><center>0</center></th><td style='color:black;background-color:#fe7f64;text-align:right;'>0.0000</td><td style='color:black;background-color:#fe7f64;text-align:right;'>0.0000</td></tr>\n",
       "<tr><th style='border:1px solid black;color:black;background-color:#BBBBBB'><center>1</center></th><td style='color:black;background-color:#fe7f64;text-align:right;'>0.0000</td><td style='color:black;background-color:#fe7f64;text-align:right;'>0.0000</td></tr>\n",
       "<tr><th style='border:1px solid black;color:black;background-color:#BBBBBB;' rowspan = '4'><center>1</center></th><th style='border:1px solid black;color:black;background-color:#BBBBBB;' rowspan = '2'><center>0</center></th><th style='border:1px solid black;color:black;background-color:#BBBBBB'><center>0</center></th><td style='color:black;background-color:#fe7f64;text-align:right;'>0.0000</td><td style='color:black;background-color:#fe7f64;text-align:right;'>0.0000</td></tr>\n",
       "<tr><th style='border:1px solid black;color:black;background-color:#BBBBBB'><center>1</center></th><td style='color:black;background-color:#fe7f64;text-align:right;'>0.0001</td><td style='color:black;background-color:#fd8064;text-align:right;'>0.0092</td></tr>\n",
       "<tr><th style='border:1px solid black;color:black;background-color:#BBBBBB;' rowspan = '2'><center>1</center></th><th style='border:1px solid black;color:black;background-color:#BBBBBB'><center>0</center></th><td style='color:black;background-color:#fe7f64;text-align:right;'>0.0000</td><td style='color:black;background-color:#fe7f64;text-align:right;'>0.0000</td></tr>\n",
       "<tr><th style='border:1px solid black;color:black;background-color:#BBBBBB'><center>1</center></th><td style='color:black;background-color:#fe7f64;text-align:right;'>0.0000</td><td style='color:black;background-color:#fe7f64;text-align:right;'>0.0050</td></tr>\n",
       "<tr><th style='border:1px solid black;color:black;background-color:#BBBBBB;' rowspan = '16'><center>1</center></th><th style='border:1px solid black;color:black;background-color:#BBBBBB;' rowspan = '8'><center>0</center></th><th style='border:1px solid black;color:black;background-color:#BBBBBB;' rowspan = '4'><center>0</center></th><th style='border:1px solid black;color:black;background-color:#BBBBBB;' rowspan = '2'><center>0</center></th><th style='border:1px solid black;color:black;background-color:#BBBBBB'><center>0</center></th><td style='color:black;background-color:#fe7f64;text-align:right;'>0.0000</td><td style='color:black;background-color:#fe7f64;text-align:right;'>0.0002</td></tr>\n",
       "<tr><th style='border:1px solid black;color:black;background-color:#BBBBBB'><center>1</center></th><td style='color:black;background-color:#fe7f64;text-align:right;'>0.0001</td><td style='color:black;background-color:#fd8064;text-align:right;'>0.0152</td></tr>\n",
       "<tr><th style='border:1px solid black;color:black;background-color:#BBBBBB;' rowspan = '2'><center>1</center></th><th style='border:1px solid black;color:black;background-color:#BBBBBB'><center>0</center></th><td style='color:black;background-color:#fe7f64;text-align:right;'>0.0000</td><td style='color:black;background-color:#fe7f64;text-align:right;'>0.0000</td></tr>\n",
       "<tr><th style='border:1px solid black;color:black;background-color:#BBBBBB'><center>1</center></th><td style='color:black;background-color:#fe7f64;text-align:right;'>0.0000</td><td style='color:black;background-color:#fe7f64;text-align:right;'>0.0027</td></tr>\n",
       "<tr><th style='border:1px solid black;color:black;background-color:#BBBBBB;' rowspan = '4'><center>1</center></th><th style='border:1px solid black;color:black;background-color:#BBBBBB;' rowspan = '2'><center>0</center></th><th style='border:1px solid black;color:black;background-color:#BBBBBB'><center>0</center></th><td style='color:black;background-color:#fe7f64;text-align:right;'>0.0001</td><td style='color:black;background-color:#fe7f64;text-align:right;'>0.0014</td></tr>\n",
       "<tr><th style='border:1px solid black;color:black;background-color:#BBBBBB'><center>1</center></th><td style='color:black;background-color:#fe7f64;text-align:right;'>0.0000</td><td style='color:black;background-color:#fe7f64;text-align:right;'>0.0014</td></tr>\n",
       "<tr><th style='border:1px solid black;color:black;background-color:#BBBBBB;' rowspan = '2'><center>1</center></th><th style='border:1px solid black;color:black;background-color:#BBBBBB'><center>0</center></th><td style='color:black;background-color:#fe7f64;text-align:right;'>0.0001</td><td style='color:black;background-color:#fe7f64;text-align:right;'>0.0027</td></tr>\n",
       "<tr><th style='border:1px solid black;color:black;background-color:#BBBBBB'><center>1</center></th><td style='color:black;background-color:#fe7f64;text-align:right;'>0.0000</td><td style='color:black;background-color:#fe7f64;text-align:right;'>0.0027</td></tr>\n",
       "<tr><th style='border:1px solid black;color:black;background-color:#BBBBBB;' rowspan = '8'><center>1</center></th><th style='border:1px solid black;color:black;background-color:#BBBBBB;' rowspan = '4'><center>0</center></th><th style='border:1px solid black;color:black;background-color:#BBBBBB;' rowspan = '2'><center>0</center></th><th style='border:1px solid black;color:black;background-color:#BBBBBB'><center>0</center></th><td style='color:black;background-color:#fe7f64;text-align:right;'>0.0000</td><td style='color:black;background-color:#fe7f64;text-align:right;'>0.0000</td></tr>\n",
       "<tr><th style='border:1px solid black;color:black;background-color:#BBBBBB'><center>1</center></th><td style='color:black;background-color:#fe7f64;text-align:right;'>0.0000</td><td style='color:black;background-color:#fe7f64;text-align:right;'>0.0000</td></tr>\n",
       "<tr><th style='border:1px solid black;color:black;background-color:#BBBBBB;' rowspan = '2'><center>1</center></th><th style='border:1px solid black;color:black;background-color:#BBBBBB'><center>0</center></th><td style='color:black;background-color:#fe7f64;text-align:right;'>0.0000</td><td style='color:black;background-color:#fe7f64;text-align:right;'>0.0000</td></tr>\n",
       "<tr><th style='border:1px solid black;color:black;background-color:#BBBBBB'><center>1</center></th><td style='color:black;background-color:#fe7f64;text-align:right;'>0.0000</td><td style='color:black;background-color:#fe7f64;text-align:right;'>0.0000</td></tr>\n",
       "<tr><th style='border:1px solid black;color:black;background-color:#BBBBBB;' rowspan = '4'><center>1</center></th><th style='border:1px solid black;color:black;background-color:#BBBBBB;' rowspan = '2'><center>0</center></th><th style='border:1px solid black;color:black;background-color:#BBBBBB'><center>0</center></th><td style='color:black;background-color:#fe7f64;text-align:right;'>0.0000</td><td style='color:black;background-color:#fe7f64;text-align:right;'>0.0000</td></tr>\n",
       "<tr><th style='border:1px solid black;color:black;background-color:#BBBBBB'><center>1</center></th><td style='color:black;background-color:#fe7f64;text-align:right;'>0.0000</td><td style='color:black;background-color:#fe7f64;text-align:right;'>0.0009</td></tr>\n",
       "<tr><th style='border:1px solid black;color:black;background-color:#BBBBBB;' rowspan = '2'><center>1</center></th><th style='border:1px solid black;color:black;background-color:#BBBBBB'><center>0</center></th><td style='color:black;background-color:#fe7f64;text-align:right;'>0.0000</td><td style='color:black;background-color:#fe7f64;text-align:right;'>0.0000</td></tr>\n",
       "<tr><th style='border:1px solid black;color:black;background-color:#BBBBBB'><center>1</center></th><td style='color:black;background-color:#fe7f64;text-align:right;'>0.0000</td><td style='color:black;background-color:#fe7f64;text-align:right;'>0.0017</td></tr>\n",
       "<tr><th style='border:1px solid black;color:black;background-color:#BBBBBB;' rowspan = '32'><center>1</center></th><th style='border:1px solid black;color:black;background-color:#BBBBBB;' rowspan = '16'><center>0</center></th><th style='border:1px solid black;color:black;background-color:#BBBBBB;' rowspan = '8'><center>0</center></th><th style='border:1px solid black;color:black;background-color:#BBBBBB;' rowspan = '4'><center>0</center></th><th style='border:1px solid black;color:black;background-color:#BBBBBB;' rowspan = '2'><center>0</center></th><th style='border:1px solid black;color:black;background-color:#BBBBBB'><center>0</center></th><td style='color:black;background-color:#fe7f64;text-align:right;'>0.0000</td><td style='color:black;background-color:#fe7f64;text-align:right;'>0.0000</td></tr>\n",
       "<tr><th style='border:1px solid black;color:black;background-color:#BBBBBB'><center>1</center></th><td style='color:black;background-color:#fe7f64;text-align:right;'>0.0000</td><td style='color:black;background-color:#fe7f64;text-align:right;'>0.0005</td></tr>\n",
       "<tr><th style='border:1px solid black;color:black;background-color:#BBBBBB;' rowspan = '2'><center>1</center></th><th style='border:1px solid black;color:black;background-color:#BBBBBB'><center>0</center></th><td style='color:black;background-color:#fe7f64;text-align:right;'>0.0000</td><td style='color:black;background-color:#fe7f64;text-align:right;'>0.0000</td></tr>\n",
       "<tr><th style='border:1px solid black;color:black;background-color:#BBBBBB'><center>1</center></th><td style='color:black;background-color:#fe7f64;text-align:right;'>0.0000</td><td style='color:black;background-color:#fe7f64;text-align:right;'>0.0000</td></tr>\n",
       "<tr><th style='border:1px solid black;color:black;background-color:#BBBBBB;' rowspan = '4'><center>1</center></th><th style='border:1px solid black;color:black;background-color:#BBBBBB;' rowspan = '2'><center>0</center></th><th style='border:1px solid black;color:black;background-color:#BBBBBB'><center>0</center></th><td style='color:black;background-color:#fe7f64;text-align:right;'>0.0000</td><td style='color:black;background-color:#fe7f64;text-align:right;'>0.0000</td></tr>\n",
       "<tr><th style='border:1px solid black;color:black;background-color:#BBBBBB'><center>1</center></th><td style='color:black;background-color:#fe7f64;text-align:right;'>0.0000</td><td style='color:black;background-color:#fe7f64;text-align:right;'>0.0000</td></tr>\n",
       "<tr><th style='border:1px solid black;color:black;background-color:#BBBBBB;' rowspan = '2'><center>1</center></th><th style='border:1px solid black;color:black;background-color:#BBBBBB'><center>0</center></th><td style='color:black;background-color:#fe7f64;text-align:right;'>0.0000</td><td style='color:black;background-color:#fe7f64;text-align:right;'>0.0000</td></tr>\n",
       "<tr><th style='border:1px solid black;color:black;background-color:#BBBBBB'><center>1</center></th><td style='color:black;background-color:#fe7f64;text-align:right;'>0.0000</td><td style='color:black;background-color:#fe7f64;text-align:right;'>0.0000</td></tr>\n",
       "<tr><th style='border:1px solid black;color:black;background-color:#BBBBBB;' rowspan = '8'><center>1</center></th><th style='border:1px solid black;color:black;background-color:#BBBBBB;' rowspan = '4'><center>0</center></th><th style='border:1px solid black;color:black;background-color:#BBBBBB;' rowspan = '2'><center>0</center></th><th style='border:1px solid black;color:black;background-color:#BBBBBB'><center>0</center></th><td style='color:black;background-color:#fe7f64;text-align:right;'>0.0000</td><td style='color:black;background-color:#fe7f64;text-align:right;'>0.0000</td></tr>\n",
       "<tr><th style='border:1px solid black;color:black;background-color:#BBBBBB'><center>1</center></th><td style='color:black;background-color:#fe7f64;text-align:right;'>0.0000</td><td style='color:black;background-color:#fe7f64;text-align:right;'>0.0002</td></tr>\n",
       "<tr><th style='border:1px solid black;color:black;background-color:#BBBBBB;' rowspan = '2'><center>1</center></th><th style='border:1px solid black;color:black;background-color:#BBBBBB'><center>0</center></th><td style='color:black;background-color:#fe7f64;text-align:right;'>0.0000</td><td style='color:black;background-color:#fe7f64;text-align:right;'>0.0000</td></tr>\n",
       "<tr><th style='border:1px solid black;color:black;background-color:#BBBBBB'><center>1</center></th><td style='color:black;background-color:#fe7f64;text-align:right;'>0.0000</td><td style='color:black;background-color:#fe7f64;text-align:right;'>0.0000</td></tr>\n",
       "<tr><th style='border:1px solid black;color:black;background-color:#BBBBBB;' rowspan = '4'><center>1</center></th><th style='border:1px solid black;color:black;background-color:#BBBBBB;' rowspan = '2'><center>0</center></th><th style='border:1px solid black;color:black;background-color:#BBBBBB'><center>0</center></th><td style='color:black;background-color:#fe7f64;text-align:right;'>0.0000</td><td style='color:black;background-color:#fe7f64;text-align:right;'>0.0000</td></tr>\n",
       "<tr><th style='border:1px solid black;color:black;background-color:#BBBBBB'><center>1</center></th><td style='color:black;background-color:#fe7f64;text-align:right;'>0.0017</td><td style='color:black;background-color:#e89564;text-align:right;'>0.1742</td></tr>\n",
       "<tr><th style='border:1px solid black;color:black;background-color:#BBBBBB;' rowspan = '2'><center>1</center></th><th style='border:1px solid black;color:black;background-color:#BBBBBB'><center>0</center></th><td style='color:black;background-color:#fe7f64;text-align:right;'>0.0000</td><td style='color:black;background-color:#fe7f64;text-align:right;'>0.0000</td></tr>\n",
       "<tr><th style='border:1px solid black;color:black;background-color:#BBBBBB'><center>1</center></th><td style='color:black;background-color:#fe7f64;text-align:right;'>0.0009</td><td style='color:black;background-color:#f28b64;text-align:right;'>0.0958</td></tr>\n",
       "<tr><th style='border:1px solid black;color:black;background-color:#BBBBBB;' rowspan = '16'><center>1</center></th><th style='border:1px solid black;color:black;background-color:#BBBBBB;' rowspan = '8'><center>0</center></th><th style='border:1px solid black;color:black;background-color:#BBBBBB;' rowspan = '4'><center>0</center></th><th style='border:1px solid black;color:black;background-color:#BBBBBB;' rowspan = '2'><center>0</center></th><th style='border:1px solid black;color:black;background-color:#BBBBBB'><center>0</center></th><td style='color:black;background-color:#fe7f64;text-align:right;'>0.0000</td><td style='color:black;background-color:#fe7f64;text-align:right;'>0.0000</td></tr>\n",
       "<tr><th style='border:1px solid black;color:black;background-color:#BBBBBB'><center>1</center></th><td style='color:black;background-color:#fe7f64;text-align:right;'>0.0000</td><td style='color:black;background-color:#fe7f64;text-align:right;'>0.0003</td></tr>\n",
       "<tr><th style='border:1px solid black;color:black;background-color:#BBBBBB;' rowspan = '2'><center>1</center></th><th style='border:1px solid black;color:black;background-color:#BBBBBB'><center>0</center></th><td style='color:black;background-color:#fe7f64;text-align:right;'>0.0000</td><td style='color:black;background-color:#fe7f64;text-align:right;'>0.0000</td></tr>\n",
       "<tr><th style='border:1px solid black;color:black;background-color:#BBBBBB'><center>1</center></th><td style='color:black;background-color:#fe7f64;text-align:right;'>0.0000</td><td style='color:black;background-color:#fe7f64;text-align:right;'>0.0001</td></tr>\n",
       "<tr><th style='border:1px solid black;color:black;background-color:#BBBBBB;' rowspan = '4'><center>1</center></th><th style='border:1px solid black;color:black;background-color:#BBBBBB;' rowspan = '2'><center>0</center></th><th style='border:1px solid black;color:black;background-color:#BBBBBB'><center>0</center></th><td style='color:black;background-color:#fe7f64;text-align:right;'>0.0000</td><td style='color:black;background-color:#fe7f64;text-align:right;'>0.0000</td></tr>\n",
       "<tr><th style='border:1px solid black;color:black;background-color:#BBBBBB'><center>1</center></th><td style='color:black;background-color:#fe7f64;text-align:right;'>0.0000</td><td style='color:black;background-color:#fe7f64;text-align:right;'>0.0000</td></tr>\n",
       "<tr><th style='border:1px solid black;color:black;background-color:#BBBBBB;' rowspan = '2'><center>1</center></th><th style='border:1px solid black;color:black;background-color:#BBBBBB'><center>0</center></th><td style='color:black;background-color:#fe7f64;text-align:right;'>0.0000</td><td style='color:black;background-color:#fe7f64;text-align:right;'>0.0001</td></tr>\n",
       "<tr><th style='border:1px solid black;color:black;background-color:#BBBBBB'><center>1</center></th><td style='color:black;background-color:#fe7f64;text-align:right;'>0.0000</td><td style='color:black;background-color:#fe7f64;text-align:right;'>0.0001</td></tr>\n",
       "<tr><th style='border:1px solid black;color:black;background-color:#BBBBBB;' rowspan = '8'><center>1</center></th><th style='border:1px solid black;color:black;background-color:#BBBBBB;' rowspan = '4'><center>0</center></th><th style='border:1px solid black;color:black;background-color:#BBBBBB;' rowspan = '2'><center>0</center></th><th style='border:1px solid black;color:black;background-color:#BBBBBB'><center>0</center></th><td style='color:black;background-color:#fe7f64;text-align:right;'>0.0000</td><td style='color:black;background-color:#fe7f64;text-align:right;'>0.0000</td></tr>\n",
       "<tr><th style='border:1px solid black;color:black;background-color:#BBBBBB'><center>1</center></th><td style='color:black;background-color:#fe7f64;text-align:right;'>0.0000</td><td style='color:black;background-color:#fe7f64;text-align:right;'>0.0000</td></tr>\n",
       "<tr><th style='border:1px solid black;color:black;background-color:#BBBBBB;' rowspan = '2'><center>1</center></th><th style='border:1px solid black;color:black;background-color:#BBBBBB'><center>0</center></th><td style='color:black;background-color:#fe7f64;text-align:right;'>0.0000</td><td style='color:black;background-color:#fe7f64;text-align:right;'>0.0000</td></tr>\n",
       "<tr><th style='border:1px solid black;color:black;background-color:#BBBBBB'><center>1</center></th><td style='color:black;background-color:#fe7f64;text-align:right;'>0.0000</td><td style='color:black;background-color:#fe7f64;text-align:right;'>0.0000</td></tr>\n",
       "<tr><th style='border:1px solid black;color:black;background-color:#BBBBBB;' rowspan = '4'><center>1</center></th><th style='border:1px solid black;color:black;background-color:#BBBBBB;' rowspan = '2'><center>0</center></th><th style='border:1px solid black;color:black;background-color:#BBBBBB'><center>0</center></th><td style='color:black;background-color:#fe7f64;text-align:right;'>0.0000</td><td style='color:black;background-color:#fe7f64;text-align:right;'>0.0000</td></tr>\n",
       "<tr><th style='border:1px solid black;color:black;background-color:#BBBBBB'><center>1</center></th><td style='color:black;background-color:#fe7f64;text-align:right;'>0.0002</td><td style='color:black;background-color:#fc8164;text-align:right;'>0.0166</td></tr>\n",
       "<tr><th style='border:1px solid black;color:black;background-color:#BBBBBB;' rowspan = '2'><center>1</center></th><th style='border:1px solid black;color:black;background-color:#BBBBBB'><center>0</center></th><td style='color:black;background-color:#fe7f64;text-align:right;'>0.0000</td><td style='color:black;background-color:#fe7f64;text-align:right;'>0.0000</td></tr>\n",
       "<tr><th style='border:1px solid black;color:black;background-color:#BBBBBB'><center>1</center></th><td style='color:black;background-color:#fe7f64;text-align:right;'>0.0003</td><td style='color:black;background-color:#fa8364;text-align:right;'>0.0319</td></tr>\n",
       "<tr><th style='border:1px solid black;color:black;background-color:#BBBBBB;' rowspan = '64'><center>1</center></th><th style='border:1px solid black;color:black;background-color:#BBBBBB;' rowspan = '32'><center>0</center></th><th style='border:1px solid black;color:black;background-color:#BBBBBB;' rowspan = '16'><center>0</center></th><th style='border:1px solid black;color:black;background-color:#BBBBBB;' rowspan = '8'><center>0</center></th><th style='border:1px solid black;color:black;background-color:#BBBBBB;' rowspan = '4'><center>0</center></th><th style='border:1px solid black;color:black;background-color:#BBBBBB;' rowspan = '2'><center>0</center></th><th style='border:1px solid black;color:black;background-color:#BBBBBB'><center>0</center></th><td style='color:black;background-color:#fe7f64;text-align:right;'>0.0000</td><td style='color:black;background-color:#fe7f64;text-align:right;'>0.0000</td></tr>\n",
       "<tr><th style='border:1px solid black;color:black;background-color:#BBBBBB'><center>1</center></th><td style='color:black;background-color:#fe7f64;text-align:right;'>0.0000</td><td style='color:black;background-color:#fe7f64;text-align:right;'>0.0029</td></tr>\n",
       "<tr><th style='border:1px solid black;color:black;background-color:#BBBBBB;' rowspan = '2'><center>1</center></th><th style='border:1px solid black;color:black;background-color:#BBBBBB'><center>0</center></th><td style='color:black;background-color:#fe7f64;text-align:right;'>0.0000</td><td style='color:black;background-color:#fe7f64;text-align:right;'>0.0000</td></tr>\n",
       "<tr><th style='border:1px solid black;color:black;background-color:#BBBBBB'><center>1</center></th><td style='color:black;background-color:#fe7f64;text-align:right;'>0.0000</td><td style='color:black;background-color:#fe7f64;text-align:right;'>0.0001</td></tr>\n",
       "<tr><th style='border:1px solid black;color:black;background-color:#BBBBBB;' rowspan = '4'><center>1</center></th><th style='border:1px solid black;color:black;background-color:#BBBBBB;' rowspan = '2'><center>0</center></th><th style='border:1px solid black;color:black;background-color:#BBBBBB'><center>0</center></th><td style='color:black;background-color:#fe7f64;text-align:right;'>0.0000</td><td style='color:black;background-color:#fe7f64;text-align:right;'>0.0003</td></tr>\n",
       "<tr><th style='border:1px solid black;color:black;background-color:#BBBBBB'><center>1</center></th><td style='color:black;background-color:#fe7f64;text-align:right;'>0.0000</td><td style='color:black;background-color:#fe7f64;text-align:right;'>0.0003</td></tr>\n",
       "<tr><th style='border:1px solid black;color:black;background-color:#BBBBBB;' rowspan = '2'><center>1</center></th><th style='border:1px solid black;color:black;background-color:#BBBBBB'><center>0</center></th><td style='color:black;background-color:#fe7f64;text-align:right;'>0.0000</td><td style='color:black;background-color:#fe7f64;text-align:right;'>0.0001</td></tr>\n",
       "<tr><th style='border:1px solid black;color:black;background-color:#BBBBBB'><center>1</center></th><td style='color:black;background-color:#fe7f64;text-align:right;'>0.0000</td><td style='color:black;background-color:#fe7f64;text-align:right;'>0.0001</td></tr>\n",
       "<tr><th style='border:1px solid black;color:black;background-color:#BBBBBB;' rowspan = '8'><center>1</center></th><th style='border:1px solid black;color:black;background-color:#BBBBBB;' rowspan = '4'><center>0</center></th><th style='border:1px solid black;color:black;background-color:#BBBBBB;' rowspan = '2'><center>0</center></th><th style='border:1px solid black;color:black;background-color:#BBBBBB'><center>0</center></th><td style='color:black;background-color:#fe7f64;text-align:right;'>0.0000</td><td style='color:black;background-color:#fe7f64;text-align:right;'>0.0000</td></tr>\n",
       "<tr><th style='border:1px solid black;color:black;background-color:#BBBBBB'><center>1</center></th><td style='color:black;background-color:#fe7f64;text-align:right;'>0.0000</td><td style='color:black;background-color:#fe7f64;text-align:right;'>0.0000</td></tr>\n",
       "<tr><th style='border:1px solid black;color:black;background-color:#BBBBBB;' rowspan = '2'><center>1</center></th><th style='border:1px solid black;color:black;background-color:#BBBBBB'><center>0</center></th><td style='color:black;background-color:#fe7f64;text-align:right;'>0.0000</td><td style='color:black;background-color:#fe7f64;text-align:right;'>0.0000</td></tr>\n",
       "<tr><th style='border:1px solid black;color:black;background-color:#BBBBBB'><center>1</center></th><td style='color:black;background-color:#fe7f64;text-align:right;'>0.0000</td><td style='color:black;background-color:#fe7f64;text-align:right;'>0.0000</td></tr>\n",
       "<tr><th style='border:1px solid black;color:black;background-color:#BBBBBB;' rowspan = '4'><center>1</center></th><th style='border:1px solid black;color:black;background-color:#BBBBBB;' rowspan = '2'><center>0</center></th><th style='border:1px solid black;color:black;background-color:#BBBBBB'><center>0</center></th><td style='color:black;background-color:#fe7f64;text-align:right;'>0.0000</td><td style='color:black;background-color:#fe7f64;text-align:right;'>0.0000</td></tr>\n",
       "<tr><th style='border:1px solid black;color:black;background-color:#BBBBBB'><center>1</center></th><td style='color:black;background-color:#fe7f64;text-align:right;'>0.0000</td><td style='color:black;background-color:#fe7f64;text-align:right;'>0.0039</td></tr>\n",
       "<tr><th style='border:1px solid black;color:black;background-color:#BBBBBB;' rowspan = '2'><center>1</center></th><th style='border:1px solid black;color:black;background-color:#BBBBBB'><center>0</center></th><td style='color:black;background-color:#fe7f64;text-align:right;'>0.0000</td><td style='color:black;background-color:#fe7f64;text-align:right;'>0.0000</td></tr>\n",
       "<tr><th style='border:1px solid black;color:black;background-color:#BBBBBB'><center>1</center></th><td style='color:black;background-color:#fe7f64;text-align:right;'>0.0000</td><td style='color:black;background-color:#fe7f64;text-align:right;'>0.0022</td></tr>\n",
       "<tr><th style='border:1px solid black;color:black;background-color:#BBBBBB;' rowspan = '16'><center>1</center></th><th style='border:1px solid black;color:black;background-color:#BBBBBB;' rowspan = '8'><center>0</center></th><th style='border:1px solid black;color:black;background-color:#BBBBBB;' rowspan = '4'><center>0</center></th><th style='border:1px solid black;color:black;background-color:#BBBBBB;' rowspan = '2'><center>0</center></th><th style='border:1px solid black;color:black;background-color:#BBBBBB'><center>0</center></th><td style='color:black;background-color:#fe7f64;text-align:right;'>0.0000</td><td style='color:black;background-color:#fe7f64;text-align:right;'>0.0000</td></tr>\n",
       "<tr><th style='border:1px solid black;color:black;background-color:#BBBBBB'><center>1</center></th><td style='color:black;background-color:#fe7f64;text-align:right;'>0.0000</td><td style='color:black;background-color:#fe7f64;text-align:right;'>0.0038</td></tr>\n",
       "<tr><th style='border:1px solid black;color:black;background-color:#BBBBBB;' rowspan = '2'><center>1</center></th><th style='border:1px solid black;color:black;background-color:#BBBBBB'><center>0</center></th><td style='color:black;background-color:#fe7f64;text-align:right;'>0.0000</td><td style='color:black;background-color:#fe7f64;text-align:right;'>0.0000</td></tr>\n",
       "<tr><th style='border:1px solid black;color:black;background-color:#BBBBBB'><center>1</center></th><td style='color:black;background-color:#fe7f64;text-align:right;'>0.0000</td><td style='color:black;background-color:#fe7f64;text-align:right;'>0.0007</td></tr>\n",
       "<tr><th style='border:1px solid black;color:black;background-color:#BBBBBB;' rowspan = '4'><center>1</center></th><th style='border:1px solid black;color:black;background-color:#BBBBBB;' rowspan = '2'><center>0</center></th><th style='border:1px solid black;color:black;background-color:#BBBBBB'><center>0</center></th><td style='color:black;background-color:#fe7f64;text-align:right;'>0.0000</td><td style='color:black;background-color:#fe7f64;text-align:right;'>0.0003</td></tr>\n",
       "<tr><th style='border:1px solid black;color:black;background-color:#BBBBBB'><center>1</center></th><td style='color:black;background-color:#fe7f64;text-align:right;'>0.0000</td><td style='color:black;background-color:#fe7f64;text-align:right;'>0.0003</td></tr>\n",
       "<tr><th style='border:1px solid black;color:black;background-color:#BBBBBB;' rowspan = '2'><center>1</center></th><th style='border:1px solid black;color:black;background-color:#BBBBBB'><center>0</center></th><td style='color:black;background-color:#fe7f64;text-align:right;'>0.0000</td><td style='color:black;background-color:#fe7f64;text-align:right;'>0.0007</td></tr>\n",
       "<tr><th style='border:1px solid black;color:black;background-color:#BBBBBB'><center>1</center></th><td style='color:black;background-color:#fe7f64;text-align:right;'>0.0000</td><td style='color:black;background-color:#fe7f64;text-align:right;'>0.0007</td></tr>\n",
       "<tr><th style='border:1px solid black;color:black;background-color:#BBBBBB;' rowspan = '8'><center>1</center></th><th style='border:1px solid black;color:black;background-color:#BBBBBB;' rowspan = '4'><center>0</center></th><th style='border:1px solid black;color:black;background-color:#BBBBBB;' rowspan = '2'><center>0</center></th><th style='border:1px solid black;color:black;background-color:#BBBBBB'><center>0</center></th><td style='color:black;background-color:#fe7f64;text-align:right;'>0.0000</td><td style='color:black;background-color:#fe7f64;text-align:right;'>0.0000</td></tr>\n",
       "<tr><th style='border:1px solid black;color:black;background-color:#BBBBBB'><center>1</center></th><td style='color:black;background-color:#fe7f64;text-align:right;'>0.0000</td><td style='color:black;background-color:#fe7f64;text-align:right;'>0.0000</td></tr>\n",
       "<tr><th style='border:1px solid black;color:black;background-color:#BBBBBB;' rowspan = '2'><center>1</center></th><th style='border:1px solid black;color:black;background-color:#BBBBBB'><center>0</center></th><td style='color:black;background-color:#fe7f64;text-align:right;'>0.0000</td><td style='color:black;background-color:#fe7f64;text-align:right;'>0.0000</td></tr>\n",
       "<tr><th style='border:1px solid black;color:black;background-color:#BBBBBB'><center>1</center></th><td style='color:black;background-color:#fe7f64;text-align:right;'>0.0000</td><td style='color:black;background-color:#fe7f64;text-align:right;'>0.0000</td></tr>\n",
       "<tr><th style='border:1px solid black;color:black;background-color:#BBBBBB;' rowspan = '4'><center>1</center></th><th style='border:1px solid black;color:black;background-color:#BBBBBB;' rowspan = '2'><center>0</center></th><th style='border:1px solid black;color:black;background-color:#BBBBBB'><center>0</center></th><td style='color:black;background-color:#fe7f64;text-align:right;'>0.0000</td><td style='color:black;background-color:#fe7f64;text-align:right;'>0.0000</td></tr>\n",
       "<tr><th style='border:1px solid black;color:black;background-color:#BBBBBB'><center>1</center></th><td style='color:black;background-color:#fe7f64;text-align:right;'>0.0001</td><td style='color:black;background-color:#fd8064;text-align:right;'>0.0079</td></tr>\n",
       "<tr><th style='border:1px solid black;color:black;background-color:#BBBBBB;' rowspan = '2'><center>1</center></th><th style='border:1px solid black;color:black;background-color:#BBBBBB'><center>0</center></th><td style='color:black;background-color:#fe7f64;text-align:right;'>0.0000</td><td style='color:black;background-color:#fe7f64;text-align:right;'>0.0000</td></tr>\n",
       "<tr><th style='border:1px solid black;color:black;background-color:#BBBBBB'><center>1</center></th><td style='color:black;background-color:#fe7f64;text-align:right;'>0.0001</td><td style='color:black;background-color:#fd8064;text-align:right;'>0.0151</td></tr>\n",
       "<tr><th style='border:1px solid black;color:black;background-color:#BBBBBB;' rowspan = '32'><center>1</center></th><th style='border:1px solid black;color:black;background-color:#BBBBBB;' rowspan = '16'><center>0</center></th><th style='border:1px solid black;color:black;background-color:#BBBBBB;' rowspan = '8'><center>0</center></th><th style='border:1px solid black;color:black;background-color:#BBBBBB;' rowspan = '4'><center>0</center></th><th style='border:1px solid black;color:black;background-color:#BBBBBB;' rowspan = '2'><center>0</center></th><th style='border:1px solid black;color:black;background-color:#BBBBBB'><center>0</center></th><td style='color:black;background-color:#fe7f64;text-align:right;'>0.0000</td><td style='color:black;background-color:#fe7f64;text-align:right;'>0.0000</td></tr>\n",
       "<tr><th style='border:1px solid black;color:black;background-color:#BBBBBB'><center>1</center></th><td style='color:black;background-color:#fe7f64;text-align:right;'>0.0000</td><td style='color:black;background-color:#fe7f64;text-align:right;'>0.0001</td></tr>\n",
       "<tr><th style='border:1px solid black;color:black;background-color:#BBBBBB;' rowspan = '2'><center>1</center></th><th style='border:1px solid black;color:black;background-color:#BBBBBB'><center>0</center></th><td style='color:black;background-color:#fe7f64;text-align:right;'>0.0000</td><td style='color:black;background-color:#fe7f64;text-align:right;'>0.0000</td></tr>\n",
       "<tr><th style='border:1px solid black;color:black;background-color:#BBBBBB'><center>1</center></th><td style='color:black;background-color:#fe7f64;text-align:right;'>0.0000</td><td style='color:black;background-color:#fe7f64;text-align:right;'>0.0000</td></tr>\n",
       "<tr><th style='border:1px solid black;color:black;background-color:#BBBBBB;' rowspan = '4'><center>1</center></th><th style='border:1px solid black;color:black;background-color:#BBBBBB;' rowspan = '2'><center>0</center></th><th style='border:1px solid black;color:black;background-color:#BBBBBB'><center>0</center></th><td style='color:black;background-color:#fe7f64;text-align:right;'>0.0000</td><td style='color:black;background-color:#fe7f64;text-align:right;'>0.0000</td></tr>\n",
       "<tr><th style='border:1px solid black;color:black;background-color:#BBBBBB'><center>1</center></th><td style='color:black;background-color:#fe7f64;text-align:right;'>0.0000</td><td style='color:black;background-color:#fe7f64;text-align:right;'>0.0000</td></tr>\n",
       "<tr><th style='border:1px solid black;color:black;background-color:#BBBBBB;' rowspan = '2'><center>1</center></th><th style='border:1px solid black;color:black;background-color:#BBBBBB'><center>0</center></th><td style='color:black;background-color:#fe7f64;text-align:right;'>0.0000</td><td style='color:black;background-color:#fe7f64;text-align:right;'>0.0000</td></tr>\n",
       "<tr><th style='border:1px solid black;color:black;background-color:#BBBBBB'><center>1</center></th><td style='color:black;background-color:#fe7f64;text-align:right;'>0.0000</td><td style='color:black;background-color:#fe7f64;text-align:right;'>0.0000</td></tr>\n",
       "<tr><th style='border:1px solid black;color:black;background-color:#BBBBBB;' rowspan = '8'><center>1</center></th><th style='border:1px solid black;color:black;background-color:#BBBBBB;' rowspan = '4'><center>0</center></th><th style='border:1px solid black;color:black;background-color:#BBBBBB;' rowspan = '2'><center>0</center></th><th style='border:1px solid black;color:black;background-color:#BBBBBB'><center>0</center></th><td style='color:black;background-color:#fe7f64;text-align:right;'>0.0000</td><td style='color:black;background-color:#fe7f64;text-align:right;'>0.0000</td></tr>\n",
       "<tr><th style='border:1px solid black;color:black;background-color:#BBBBBB'><center>1</center></th><td style='color:black;background-color:#fe7f64;text-align:right;'>0.0000</td><td style='color:black;background-color:#fe7f64;text-align:right;'>0.0001</td></tr>\n",
       "<tr><th style='border:1px solid black;color:black;background-color:#BBBBBB;' rowspan = '2'><center>1</center></th><th style='border:1px solid black;color:black;background-color:#BBBBBB'><center>0</center></th><td style='color:black;background-color:#fe7f64;text-align:right;'>0.0000</td><td style='color:black;background-color:#fe7f64;text-align:right;'>0.0000</td></tr>\n",
       "<tr><th style='border:1px solid black;color:black;background-color:#BBBBBB'><center>1</center></th><td style='color:black;background-color:#fe7f64;text-align:right;'>0.0000</td><td style='color:black;background-color:#fe7f64;text-align:right;'>0.0000</td></tr>\n",
       "<tr><th style='border:1px solid black;color:black;background-color:#BBBBBB;' rowspan = '4'><center>1</center></th><th style='border:1px solid black;color:black;background-color:#BBBBBB;' rowspan = '2'><center>0</center></th><th style='border:1px solid black;color:black;background-color:#BBBBBB'><center>0</center></th><td style='color:black;background-color:#fe7f64;text-align:right;'>0.0000</td><td style='color:black;background-color:#fe7f64;text-align:right;'>0.0000</td></tr>\n",
       "<tr><th style='border:1px solid black;color:black;background-color:#BBBBBB'><center>1</center></th><td style='color:black;background-color:#fe7f64;text-align:right;'>0.0007</td><td style='color:black;background-color:#f58864;text-align:right;'>0.0747</td></tr>\n",
       "<tr><th style='border:1px solid black;color:black;background-color:#BBBBBB;' rowspan = '2'><center>1</center></th><th style='border:1px solid black;color:black;background-color:#BBBBBB'><center>0</center></th><td style='color:black;background-color:#fe7f64;text-align:right;'>0.0000</td><td style='color:black;background-color:#fe7f64;text-align:right;'>0.0000</td></tr>\n",
       "<tr><th style='border:1px solid black;color:black;background-color:#BBBBBB'><center>1</center></th><td style='color:black;background-color:#fe7f64;text-align:right;'>0.0004</td><td style='color:black;background-color:#f98464;text-align:right;'>0.0411</td></tr>\n",
       "<tr><th style='border:1px solid black;color:black;background-color:#BBBBBB;' rowspan = '16'><center>1</center></th><th style='border:1px solid black;color:black;background-color:#BBBBBB;' rowspan = '8'><center>0</center></th><th style='border:1px solid black;color:black;background-color:#BBBBBB;' rowspan = '4'><center>0</center></th><th style='border:1px solid black;color:black;background-color:#BBBBBB;' rowspan = '2'><center>0</center></th><th style='border:1px solid black;color:black;background-color:#BBBBBB'><center>0</center></th><td style='color:black;background-color:#fe7f64;text-align:right;'>0.0000</td><td style='color:black;background-color:#fe7f64;text-align:right;'>0.0000</td></tr>\n",
       "<tr><th style='border:1px solid black;color:black;background-color:#BBBBBB'><center>1</center></th><td style='color:black;background-color:#fe7f64;text-align:right;'>0.0000</td><td style='color:black;background-color:#fe7f64;text-align:right;'>0.0001</td></tr>\n",
       "<tr><th style='border:1px solid black;color:black;background-color:#BBBBBB;' rowspan = '2'><center>1</center></th><th style='border:1px solid black;color:black;background-color:#BBBBBB'><center>0</center></th><td style='color:black;background-color:#fe7f64;text-align:right;'>0.0000</td><td style='color:black;background-color:#fe7f64;text-align:right;'>0.0000</td></tr>\n",
       "<tr><th style='border:1px solid black;color:black;background-color:#BBBBBB'><center>1</center></th><td style='color:black;background-color:#fe7f64;text-align:right;'>0.0000</td><td style='color:black;background-color:#fe7f64;text-align:right;'>0.0000</td></tr>\n",
       "<tr><th style='border:1px solid black;color:black;background-color:#BBBBBB;' rowspan = '4'><center>1</center></th><th style='border:1px solid black;color:black;background-color:#BBBBBB;' rowspan = '2'><center>0</center></th><th style='border:1px solid black;color:black;background-color:#BBBBBB'><center>0</center></th><td style='color:black;background-color:#fe7f64;text-align:right;'>0.0000</td><td style='color:black;background-color:#fe7f64;text-align:right;'>0.0000</td></tr>\n",
       "<tr><th style='border:1px solid black;color:black;background-color:#BBBBBB'><center>1</center></th><td style='color:black;background-color:#fe7f64;text-align:right;'>0.0000</td><td style='color:black;background-color:#fe7f64;text-align:right;'>0.0000</td></tr>\n",
       "<tr><th style='border:1px solid black;color:black;background-color:#BBBBBB;' rowspan = '2'><center>1</center></th><th style='border:1px solid black;color:black;background-color:#BBBBBB'><center>0</center></th><td style='color:black;background-color:#fe7f64;text-align:right;'>0.0000</td><td style='color:black;background-color:#fe7f64;text-align:right;'>0.0000</td></tr>\n",
       "<tr><th style='border:1px solid black;color:black;background-color:#BBBBBB'><center>1</center></th><td style='color:black;background-color:#fe7f64;text-align:right;'>0.0000</td><td style='color:black;background-color:#fe7f64;text-align:right;'>0.0000</td></tr>\n",
       "<tr><th style='border:1px solid black;color:black;background-color:#BBBBBB;' rowspan = '8'><center>1</center></th><th style='border:1px solid black;color:black;background-color:#BBBBBB;' rowspan = '4'><center>0</center></th><th style='border:1px solid black;color:black;background-color:#BBBBBB;' rowspan = '2'><center>0</center></th><th style='border:1px solid black;color:black;background-color:#BBBBBB'><center>0</center></th><td style='color:black;background-color:#fe7f64;text-align:right;'>0.0000</td><td style='color:black;background-color:#fe7f64;text-align:right;'>0.0000</td></tr>\n",
       "<tr><th style='border:1px solid black;color:black;background-color:#BBBBBB'><center>1</center></th><td style='color:black;background-color:#fe7f64;text-align:right;'>0.0000</td><td style='color:black;background-color:#fe7f64;text-align:right;'>0.0002</td></tr>\n",
       "<tr><th style='border:1px solid black;color:black;background-color:#BBBBBB;' rowspan = '2'><center>1</center></th><th style='border:1px solid black;color:black;background-color:#BBBBBB'><center>0</center></th><td style='color:black;background-color:#fe7f64;text-align:right;'>0.0000</td><td style='color:black;background-color:#fe7f64;text-align:right;'>0.0000</td></tr>\n",
       "<tr><th style='border:1px solid black;color:black;background-color:#BBBBBB'><center>1</center></th><td style='color:black;background-color:#fe7f64;text-align:right;'>0.0000</td><td style='color:black;background-color:#fe7f64;text-align:right;'>0.0000</td></tr>\n",
       "<tr><th style='border:1px solid black;color:black;background-color:#BBBBBB;' rowspan = '4'><center>1</center></th><th style='border:1px solid black;color:black;background-color:#BBBBBB;' rowspan = '2'><center>0</center></th><th style='border:1px solid black;color:black;background-color:#BBBBBB'><center>0</center></th><td style='color:black;background-color:#fe7f64;text-align:right;'>0.0000</td><td style='color:black;background-color:#fe7f64;text-align:right;'>0.0000</td></tr>\n",
       "<tr><th style='border:1px solid black;color:black;background-color:#BBBBBB'><center>1</center></th><td style='color:black;background-color:#fe7f64;text-align:right;'>0.0014</td><td style='color:black;background-color:#eb9264;text-align:right;'>0.1493</td></tr>\n",
       "<tr><th style='border:1px solid black;color:black;background-color:#BBBBBB;' rowspan = '2'><center>1</center></th><th style='border:1px solid black;color:black;background-color:#BBBBBB'><center>0</center></th><td style='color:black;background-color:#fe7f64;text-align:right;'>0.0000</td><td style='color:black;background-color:#fe7f64;text-align:right;'>0.0000</td></tr>\n",
       "<tr><th style='border:1px solid black;color:black;background-color:#BBBBBB'><center>1</center></th><td style='color:black;background-color:#fe7f64;text-align:right;'>0.0028</td><td style='color:black;background-color:#daa364;text-align:right;'>0.2875</td></tr>\n",
       "</table>"
      ],
      "text/plain": [
       "(gum::Potential<double>@0x7f7f098d1e20) <visit_to_Asia?:0|tuberculosis?:0|smoking?:0|lung_cancer?:0|tuberculosis_or_lung_cancer?:0|bronchitis?:0|positive_Xray?:0|dyspnoea?:0> :: 1.30977e-05 /<visit_to_Asia?:1|tuberculosis?:0|smoking?:0|lung_cancer?:0|tuberculosis_or_lung_cancer?:0|bronchitis?:0|positive_Xray?:0|dyspnoea?:0> :: 0.000259334 /<visit_to_Asia?:0|tuberculosis?:1|smoking?:0|lung_cancer?:0|tuberculosis_or_lung_cancer?:0|bronchitis?:0|positive_Xray?:0|dyspnoea?:0> :: 0.000248856 /<visit_to_Asia?:1|tuberculosis?:1|smoking?:0|lung_cancer?:0|tuberculosis_or_lung_cancer?:0|bronchitis?:0|positive_Xray?:0|dyspnoea?:0> :: 0.0256741 /<visit_to_Asia?:0|tuberculosis?:0|smoking?:1|lung_cancer?:0|tuberculosis_or_lung_cancer?:0|bronchitis?:0|positive_Xray?:0|dyspnoea?:0> :: 6.54885e-07 /<visit_to_Asia?:1|tuberculosis?:0|smoking?:1|lung_cancer?:0|tuberculosis_or_lung_cancer?:0|bronchitis?:0|positive_Xray?:0|dyspnoea?:0> :: 1.29667e-05 /<visit_to_Asia?:0|tuberculosis?:1|smoking?:1|lung_cancer?:0|tuberculosis_or_lung_cancer?:0|bronchitis?:0|positive_Xray?:0|dyspnoea?:0> :: 1.24428e-05 /<visit_to_Asia?:1|tuberculosis?:1|smoking?:1|lung_cancer?:0|tuberculosis_or_lung_cancer?:0|bronchitis?:0|positive_Xray?:0|dyspnoea?:0> :: 0.00128371 /<visit_to_Asia?:0|tuberculosis?:0|smoking?:0|lung_cancer?:1|tuberculosis_or_lung_cancer?:0|bronchitis?:0|positive_Xray?:0|dyspnoea?:0> :: 0.000117879 /<visit_to_Asia?:1|tuberculosis?:0|smoking?:0|lung_cancer?:1|tuberculosis_or_lung_cancer?:0|bronchitis?:0|positive_Xray?:0|dyspnoea?:0> :: 0.00233401 /<visit_to_Asia?:0|tuberculosis?:1|smoking?:0|lung_cancer?:1|tuberculosis_or_lung_cancer?:0|bronchitis?:0|positive_Xray?:0|dyspnoea?:0> :: 2.26233e-05 /<visit_to_Asia?:1|tuberculosis?:1|smoking?:0|lung_cancer?:1|tuberculosis_or_lung_cancer?:0|bronchitis?:0|positive_Xray?:0|dyspnoea?:0> :: 0.00233401 /<visit_to_Asia?:0|tuberculosis?:0|smoking?:1|lung_cancer?:1|tuberculosis_or_lung_cancer?:0|bronchitis?:0|positive_Xray?:0|dyspnoea?:0> :: 6.48336e-05 /<visit_to_Asia?:1|tuberculosis?:0|smoking?:1|lung_cancer?:1|tuberculosis_or_lung_cancer?:0|bronchitis?:0|positive_Xray?:0|dyspnoea?:0> :: 0.00128371 /<visit_to_Asia?:0|tuberculosis?:1|smoking?:1|lung_cancer?:1|tuberculosis_or_lung_cancer?:0|bronchitis?:0|positive_Xray?:0|dyspnoea?:0> :: 1.24428e-05 /<visit_to_Asia?:1|tuberculosis?:1|smoking?:1|lung_cancer?:1|tuberculosis_or_lung_cancer?:0|bronchitis?:0|positive_Xray?:0|dyspnoea?:0> :: 0.00128371 /<visit_to_Asia?:0|tuberculosis?:0|smoking?:0|lung_cancer?:0|tuberculosis_or_lung_cancer?:1|bronchitis?:0|positive_Xray?:0|dyspnoea?:0> :: 5.25e-09 /<visit_to_Asia?:1|tuberculosis?:0|smoking?:0|lung_cancer?:0|tuberculosis_or_lung_cancer?:1|bronchitis?:0|positive_Xray?:0|dyspnoea?:0> :: 1.0395e-07 /<visit_to_Asia?:0|tuberculosis?:1|smoking?:0|lung_cancer?:0|tuberculosis_or_lung_cancer?:1|bronchitis?:0|positive_Xray?:0|dyspnoea?:0> :: 9.975e-08 /<visit_to_Asia?:1|tuberculosis?:1|smoking?:0|lung_cancer?:0|tuberculosis_or_lung_cancer?:1|bronchitis?:0|positive_Xray?:0|dyspnoea?:0> :: 1.0291e-05 /<visit_to_Asia?:0|tuberculosis?:0|smoking?:1|lung_cancer?:0|tuberculosis_or_lung_cancer?:1|bronchitis?:0|positive_Xray?:0|dyspnoea?:0> :: 2.625e-10 /<visit_to_Asia?:1|tuberculosis?:0|smoking?:1|lung_cancer?:0|tuberculosis_or_lung_cancer?:1|bronchitis?:0|positive_Xray?:0|dyspnoea?:0> :: 5.1975e-09 /<visit_to_Asia?:0|tuberculosis?:1|smoking?:1|lung_cancer?:0|tuberculosis_or_lung_cancer?:1|bronchitis?:0|positive_Xray?:0|dyspnoea?:0> :: 4.9875e-09 /<visit_to_Asia?:1|tuberculosis?:1|smoking?:1|lung_cancer?:0|tuberculosis_or_lung_cancer?:1|bronchitis?:0|positive_Xray?:0|dyspnoea?:0> :: 5.14552e-07 /<visit_to_Asia?:0|tuberculosis?:0|smoking?:0|lung_cancer?:1|tuberculosis_or_lung_cancer?:1|bronchitis?:0|positive_Xray?:0|dyspnoea?:0> :: 4.725e-08 /<visit_to_Asia?:1|tuberculosis?:0|smoking?:0|lung_cancer?:1|tuberculosis_or_lung_cancer?:1|bronchitis?:0|positive_Xray?:0|dyspnoea?:0> :: 9.3555e-07 /<visit_to_Asia?:0|tuberculosis?:1|smoking?:0|lung_cancer?:1|tuberculosis_or_lung_cancer?:1|bronchitis?:0|positive_Xray?:0|dyspnoea?:0> :: 8.88772e-05 /<visit_to_Asia?:1|tuberculosis?:1|smoking?:0|lung_cancer?:1|tuberculosis_or_lung_cancer?:1|bronchitis?:0|positive_Xray?:0|dyspnoea?:0> :: 0.00916933 /<visit_to_Asia?:0|tuberculosis?:0|smoking?:1|lung_cancer?:1|tuberculosis_or_lung_cancer?:1|bronchitis?:0|positive_Xray?:0|dyspnoea?:0> :: 2.59875e-08 /<visit_to_Asia?:1|tuberculosis?:0|smoking?:1|lung_cancer?:1|tuberculosis_or_lung_cancer?:1|bronchitis?:0|positive_Xray?:0|dyspnoea?:0> :: 5.14552e-07 /<visit_to_Asia?:0|tuberculosis?:1|smoking?:1|lung_cancer?:1|tuberculosis_or_lung_cancer?:1|bronchitis?:0|positive_Xray?:0|dyspnoea?:0> :: 4.88825e-05 /<visit_to_Asia?:1|tuberculosis?:1|smoking?:1|lung_cancer?:1|tuberculosis_or_lung_cancer?:1|bronchitis?:0|positive_Xray?:0|dyspnoea?:0> :: 0.00504313 /<visit_to_Asia?:0|tuberculosis?:0|smoking?:0|lung_cancer?:0|tuberculosis_or_lung_cancer?:0|bronchitis?:1|positive_Xray?:0|dyspnoea?:0> :: 7.7616e-06 /<visit_to_Asia?:1|tuberculosis?:0|smoking?:0|lung_cancer?:0|tuberculosis_or_lung_cancer?:0|bronchitis?:1|positive_Xray?:0|dyspnoea?:0> :: 0.00015368 /<visit_to_Asia?:0|tuberculosis?:1|smoking?:0|lung_cancer?:0|tuberculosis_or_lung_cancer?:0|bronchitis?:1|positive_Xray?:0|dyspnoea?:0> :: 0.00014747 /<visit_to_Asia?:1|tuberculosis?:1|smoking?:0|lung_cancer?:0|tuberculosis_or_lung_cancer?:0|bronchitis?:1|positive_Xray?:0|dyspnoea?:0> :: 0.0152143 /<visit_to_Asia?:0|tuberculosis?:0|smoking?:1|lung_cancer?:0|tuberculosis_or_lung_cancer?:0|bronchitis?:1|positive_Xray?:0|dyspnoea?:0> :: 1.35828e-06 /<visit_to_Asia?:1|tuberculosis?:0|smoking?:1|lung_cancer?:0|tuberculosis_or_lung_cancer?:0|bronchitis?:1|positive_Xray?:0|dyspnoea?:0> :: 2.68939e-05 /<visit_to_Asia?:0|tuberculosis?:1|smoking?:1|lung_cancer?:0|tuberculosis_or_lung_cancer?:0|bronchitis?:1|positive_Xray?:0|dyspnoea?:0> :: 2.58073e-05 /<visit_to_Asia?:1|tuberculosis?:1|smoking?:1|lung_cancer?:0|tuberculosis_or_lung_cancer?:0|bronchitis?:1|positive_Xray?:0|dyspnoea?:0> :: 0.0026625 /<visit_to_Asia?:0|tuberculosis?:0|smoking?:0|lung_cancer?:1|tuberculosis_or_lung_cancer?:0|bronchitis?:1|positive_Xray?:0|dyspnoea?:0> :: 6.98544e-05 /<visit_to_Asia?:1|tuberculosis?:0|smoking?:0|lung_cancer?:1|tuberculosis_or_lung_cancer?:0|bronchitis?:1|positive_Xray?:0|dyspnoea?:0> :: 0.00138312 /<visit_to_Asia?:0|tuberculosis?:1|smoking?:0|lung_cancer?:1|tuberculosis_or_lung_cancer?:0|bronchitis?:1|positive_Xray?:0|dyspnoea?:0> :: 1.34064e-05 /<visit_to_Asia?:1|tuberculosis?:1|smoking?:0|lung_cancer?:1|tuberculosis_or_lung_cancer?:0|bronchitis?:1|positive_Xray?:0|dyspnoea?:0> :: 0.00138312 /<visit_to_Asia?:0|tuberculosis?:0|smoking?:1|lung_cancer?:1|tuberculosis_or_lung_cancer?:0|bronchitis?:1|positive_Xray?:0|dyspnoea?:0> :: 0.00013447 /<visit_to_Asia?:1|tuberculosis?:0|smoking?:1|lung_cancer?:1|tuberculosis_or_lung_cancer?:0|bronchitis?:1|positive_Xray?:0|dyspnoea?:0> :: 0.0026625 /<visit_to_Asia?:0|tuberculosis?:1|smoking?:1|lung_cancer?:1|tuberculosis_or_lung_cancer?:0|bronchitis?:1|positive_Xray?:0|dyspnoea?:0> :: 2.58073e-05 /<visit_to_Asia?:1|tuberculosis?:1|smoking?:1|lung_cancer?:1|tuberculosis_or_lung_cancer?:0|bronchitis?:1|positive_Xray?:0|dyspnoea?:0> :: 0.0026625 /<visit_to_Asia?:0|tuberculosis?:0|smoking?:0|lung_cancer?:0|tuberculosis_or_lung_cancer?:1|bronchitis?:1|positive_Xray?:0|dyspnoea?:0> :: 5e-10 /<visit_to_Asia?:1|tuberculosis?:0|smoking?:0|lung_cancer?:0|tuberculosis_or_lung_cancer?:1|bronchitis?:1|positive_Xray?:0|dyspnoea?:0> :: 9.9e-09 /<visit_to_Asia?:0|tuberculosis?:1|smoking?:0|lung_cancer?:0|tuberculosis_or_lung_cancer?:1|bronchitis?:1|positive_Xray?:0|dyspnoea?:0> :: 9.5e-09 /<visit_to_Asia?:1|tuberculosis?:1|smoking?:0|lung_cancer?:0|tuberculosis_or_lung_cancer?:1|bronchitis?:1|positive_Xray?:0|dyspnoea?:0> :: 9.801e-07 /<visit_to_Asia?:0|tuberculosis?:0|smoking?:1|lung_cancer?:0|tuberculosis_or_lung_cancer?:1|bronchitis?:1|positive_Xray?:0|dyspnoea?:0> :: 8.75e-11 /<visit_to_Asia?:1|tuberculosis?:0|smoking?:1|lung_cancer?:0|tuberculosis_or_lung_cancer?:1|bronchitis?:1|positive_Xray?:0|dyspnoea?:0> :: 1.7325e-09 /<visit_to_Asia?:0|tuberculosis?:1|smoking?:1|lung_cancer?:0|tuberculosis_or_lung_cancer?:1|bronchitis?:1|positive_Xray?:0|dyspnoea?:0> :: 1.6625e-09 /<visit_to_Asia?:1|tuberculosis?:1|smoking?:1|lung_cancer?:0|tuberculosis_or_lung_cancer?:1|bronchitis?:1|positive_Xray?:0|dyspnoea?:0> :: 1.71518e-07 /<visit_to_Asia?:0|tuberculosis?:0|smoking?:0|lung_cancer?:1|tuberculosis_or_lung_cancer?:1|bronchitis?:1|positive_Xray?:0|dyspnoea?:0> :: 4.5e-09 /<visit_to_Asia?:1|tuberculosis?:0|smoking?:0|lung_cancer?:1|tuberculosis_or_lung_cancer?:1|bronchitis?:1|positive_Xray?:0|dyspnoea?:0> :: 8.91e-08 /<visit_to_Asia?:0|tuberculosis?:1|smoking?:0|lung_cancer?:1|tuberculosis_or_lung_cancer?:1|bronchitis?:1|positive_Xray?:0|dyspnoea?:0> :: 8.4645e-06 /<visit_to_Asia?:1|tuberculosis?:1|smoking?:0|lung_cancer?:1|tuberculosis_or_lung_cancer?:1|bronchitis?:1|positive_Xray?:0|dyspnoea?:0> :: 0.000873269 /<visit_to_Asia?:0|tuberculosis?:0|smoking?:1|lung_cancer?:1|tuberculosis_or_lung_cancer?:1|bronchitis?:1|positive_Xray?:0|dyspnoea?:0> :: 8.6625e-09 /<visit_to_Asia?:1|tuberculosis?:0|smoking?:1|lung_cancer?:1|tuberculosis_or_lung_cancer?:1|bronchitis?:1|positive_Xray?:0|dyspnoea?:0> :: 1.71518e-07 /<visit_to_Asia?:0|tuberculosis?:1|smoking?:1|lung_cancer?:1|tuberculosis_or_lung_cancer?:1|bronchitis?:1|positive_Xray?:0|dyspnoea?:0> :: 1.62942e-05 /<visit_to_Asia?:1|tuberculosis?:1|smoking?:1|lung_cancer?:1|tuberculosis_or_lung_cancer?:1|bronchitis?:1|positive_Xray?:0|dyspnoea?:0> :: 0.00168104 /<visit_to_Asia?:0|tuberculosis?:0|smoking?:0|lung_cancer?:0|tuberculosis_or_lung_cancer?:0|bronchitis?:0|positive_Xray?:1|dyspnoea?:0> :: 2.673e-07 /<visit_to_Asia?:1|tuberculosis?:0|smoking?:0|lung_cancer?:0|tuberculosis_or_lung_cancer?:0|bronchitis?:0|positive_Xray?:1|dyspnoea?:0> :: 5.29254e-06 /<visit_to_Asia?:0|tuberculosis?:1|smoking?:0|lung_cancer?:0|tuberculosis_or_lung_cancer?:0|bronchitis?:0|positive_Xray?:1|dyspnoea?:0> :: 5.0787e-06 /<visit_to_Asia?:1|tuberculosis?:1|smoking?:0|lung_cancer?:0|tuberculosis_or_lung_cancer?:0|bronchitis?:0|positive_Xray?:1|dyspnoea?:0> :: 0.000523961 /<visit_to_Asia?:0|tuberculosis?:0|smoking?:1|lung_cancer?:0|tuberculosis_or_lung_cancer?:0|bronchitis?:0|positive_Xray?:1|dyspnoea?:0> :: 1.3365e-08 /<visit_to_Asia?:1|tuberculosis?:0|smoking?:1|lung_cancer?:0|tuberculosis_or_lung_cancer?:0|bronchitis?:0|positive_Xray?:1|dyspnoea?:0> :: 2.64627e-07 /<visit_to_Asia?:0|tuberculosis?:1|smoking?:1|lung_cancer?:0|tuberculosis_or_lung_cancer?:0|bronchitis?:0|positive_Xray?:1|dyspnoea?:0> :: 2.53935e-07 /<visit_to_Asia?:1|tuberculosis?:1|smoking?:1|lung_cancer?:0|tuberculosis_or_lung_cancer?:0|bronchitis?:0|positive_Xray?:1|dyspnoea?:0> :: 2.61981e-05 /<visit_to_Asia?:0|tuberculosis?:0|smoking?:0|lung_cancer?:1|tuberculosis_or_lung_cancer?:0|bronchitis?:0|positive_Xray?:1|dyspnoea?:0> :: 2.4057e-06 /<visit_to_Asia?:1|tuberculosis?:0|smoking?:0|lung_cancer?:1|tuberculosis_or_lung_cancer?:0|bronchitis?:0|positive_Xray?:1|dyspnoea?:0> :: 4.76329e-05 /<visit_to_Asia?:0|tuberculosis?:1|smoking?:0|lung_cancer?:1|tuberculosis_or_lung_cancer?:0|bronchitis?:0|positive_Xray?:1|dyspnoea?:0> :: 4.617e-07 /<visit_to_Asia?:1|tuberculosis?:1|smoking?:0|lung_cancer?:1|tuberculosis_or_lung_cancer?:0|bronchitis?:0|positive_Xray?:1|dyspnoea?:0> :: 4.76329e-05 /<visit_to_Asia?:0|tuberculosis?:0|smoking?:1|lung_cancer?:1|tuberculosis_or_lung_cancer?:0|bronchitis?:0|positive_Xray?:1|dyspnoea?:0> :: 1.32314e-06 /<visit_to_Asia?:1|tuberculosis?:0|smoking?:1|lung_cancer?:1|tuberculosis_or_lung_cancer?:0|bronchitis?:0|positive_Xray?:1|dyspnoea?:0> :: 2.61981e-05 /<visit_to_Asia?:0|tuberculosis?:1|smoking?:1|lung_cancer?:1|tuberculosis_or_lung_cancer?:0|bronchitis?:0|positive_Xray?:1|dyspnoea?:0> :: 2.53935e-07 /<visit_to_Asia?:1|tuberculosis?:1|smoking?:1|lung_cancer?:1|tuberculosis_or_lung_cancer?:0|bronchitis?:0|positive_Xray?:1|dyspnoea?:0> :: 2.61981e-05 /<visit_to_Asia?:0|tuberculosis?:0|smoking?:0|lung_cancer?:0|tuberculosis_or_lung_cancer?:1|bronchitis?:0|positive_Xray?:1|dyspnoea?:0> :: 9.975e-08 /<visit_to_Asia?:1|tuberculosis?:0|smoking?:0|lung_cancer?:0|tuberculosis_or_lung_cancer?:1|bronchitis?:0|positive_Xray?:1|dyspnoea?:0> :: 1.97505e-06 /<visit_to_Asia?:0|tuberculosis?:1|smoking?:0|lung_cancer?:0|tuberculosis_or_lung_cancer?:1|bronchitis?:0|positive_Xray?:1|dyspnoea?:0> :: 1.89525e-06 /<visit_to_Asia?:1|tuberculosis?:1|smoking?:0|lung_cancer?:0|tuberculosis_or_lung_cancer?:1|bronchitis?:0|positive_Xray?:1|dyspnoea?:0> :: 0.00019553 /<visit_to_Asia?:0|tuberculosis?:0|smoking?:1|lung_cancer?:0|tuberculosis_or_lung_cancer?:1|bronchitis?:0|positive_Xray?:1|dyspnoea?:0> :: 4.9875e-09 /<visit_to_Asia?:1|tuberculosis?:0|smoking?:1|lung_cancer?:0|tuberculosis_or_lung_cancer?:1|bronchitis?:0|positive_Xray?:1|dyspnoea?:0> :: 9.87525e-08 /<visit_to_Asia?:0|tuberculosis?:1|smoking?:1|lung_cancer?:0|tuberculosis_or_lung_cancer?:1|bronchitis?:0|positive_Xray?:1|dyspnoea?:0> :: 9.47625e-08 /<visit_to_Asia?:1|tuberculosis?:1|smoking?:1|lung_cancer?:0|tuberculosis_or_lung_cancer?:1|bronchitis?:0|positive_Xray?:1|dyspnoea?:0> :: 9.7765e-06 /<visit_to_Asia?:0|tuberculosis?:0|smoking?:0|lung_cancer?:1|tuberculosis_or_lung_cancer?:1|bronchitis?:0|positive_Xray?:1|dyspnoea?:0> :: 8.9775e-07 /<visit_to_Asia?:1|tuberculosis?:0|smoking?:0|lung_cancer?:1|tuberculosis_or_lung_cancer?:1|bronchitis?:0|positive_Xray?:1|dyspnoea?:0> :: 1.77754e-05 /<visit_to_Asia?:0|tuberculosis?:1|smoking?:0|lung_cancer?:1|tuberculosis_or_lung_cancer?:1|bronchitis?:0|positive_Xray?:1|dyspnoea?:0> :: 0.00168867 /<visit_to_Asia?:1|tuberculosis?:1|smoking?:0|lung_cancer?:1|tuberculosis_or_lung_cancer?:1|bronchitis?:0|positive_Xray?:1|dyspnoea?:0> :: 0.174217 /<visit_to_Asia?:0|tuberculosis?:0|smoking?:1|lung_cancer?:1|tuberculosis_or_lung_cancer?:1|bronchitis?:0|positive_Xray?:1|dyspnoea?:0> :: 4.93762e-07 /<visit_to_Asia?:1|tuberculosis?:0|smoking?:1|lung_cancer?:1|tuberculosis_or_lung_cancer?:1|bronchitis?:0|positive_Xray?:1|dyspnoea?:0> :: 9.7765e-06 /<visit_to_Asia?:0|tuberculosis?:1|smoking?:1|lung_cancer?:1|tuberculosis_or_lung_cancer?:1|bronchitis?:0|positive_Xray?:1|dyspnoea?:0> :: 0.000928767 /<visit_to_Asia?:1|tuberculosis?:1|smoking?:1|lung_cancer?:1|tuberculosis_or_lung_cancer?:1|bronchitis?:0|positive_Xray?:1|dyspnoea?:0> :: 0.0958195 /<visit_to_Asia?:0|tuberculosis?:0|smoking?:0|lung_cancer?:0|tuberculosis_or_lung_cancer?:0|bronchitis?:1|positive_Xray?:1|dyspnoea?:0> :: 1.584e-07 /<visit_to_Asia?:1|tuberculosis?:0|smoking?:0|lung_cancer?:0|tuberculosis_or_lung_cancer?:0|bronchitis?:1|positive_Xray?:1|dyspnoea?:0> :: 3.13632e-06 /<visit_to_Asia?:0|tuberculosis?:1|smoking?:0|lung_cancer?:0|tuberculosis_or_lung_cancer?:0|bronchitis?:1|positive_Xray?:1|dyspnoea?:0> :: 3.0096e-06 /<visit_to_Asia?:1|tuberculosis?:1|smoking?:0|lung_cancer?:0|tuberculosis_or_lung_cancer?:0|bronchitis?:1|positive_Xray?:1|dyspnoea?:0> :: 0.000310496 /<visit_to_Asia?:0|tuberculosis?:0|smoking?:1|lung_cancer?:0|tuberculosis_or_lung_cancer?:0|bronchitis?:1|positive_Xray?:1|dyspnoea?:0> :: 2.772e-08 /<visit_to_Asia?:1|tuberculosis?:0|smoking?:1|lung_cancer?:0|tuberculosis_or_lung_cancer?:0|bronchitis?:1|positive_Xray?:1|dyspnoea?:0> :: 5.48856e-07 /<visit_to_Asia?:0|tuberculosis?:1|smoking?:1|lung_cancer?:0|tuberculosis_or_lung_cancer?:0|bronchitis?:1|positive_Xray?:1|dyspnoea?:0> :: 5.2668e-07 /<visit_to_Asia?:1|tuberculosis?:1|smoking?:1|lung_cancer?:0|tuberculosis_or_lung_cancer?:0|bronchitis?:1|positive_Xray?:1|dyspnoea?:0> :: 5.43367e-05 /<visit_to_Asia?:0|tuberculosis?:0|smoking?:0|lung_cancer?:1|tuberculosis_or_lung_cancer?:0|bronchitis?:1|positive_Xray?:1|dyspnoea?:0> :: 1.4256e-06 /<visit_to_Asia?:1|tuberculosis?:0|smoking?:0|lung_cancer?:1|tuberculosis_or_lung_cancer?:0|bronchitis?:1|positive_Xray?:1|dyspnoea?:0> :: 2.82269e-05 /<visit_to_Asia?:0|tuberculosis?:1|smoking?:0|lung_cancer?:1|tuberculosis_or_lung_cancer?:0|bronchitis?:1|positive_Xray?:1|dyspnoea?:0> :: 2.736e-07 /<visit_to_Asia?:1|tuberculosis?:1|smoking?:0|lung_cancer?:1|tuberculosis_or_lung_cancer?:0|bronchitis?:1|positive_Xray?:1|dyspnoea?:0> :: 2.82269e-05 /<visit_to_Asia?:0|tuberculosis?:0|smoking?:1|lung_cancer?:1|tuberculosis_or_lung_cancer?:0|bronchitis?:1|positive_Xray?:1|dyspnoea?:0> :: 2.74428e-06 /<visit_to_Asia?:1|tuberculosis?:0|smoking?:1|lung_cancer?:1|tuberculosis_or_lung_cancer?:0|bronchitis?:1|positive_Xray?:1|dyspnoea?:0> :: 5.43367e-05 /<visit_to_Asia?:0|tuberculosis?:1|smoking?:1|lung_cancer?:1|tuberculosis_or_lung_cancer?:0|bronchitis?:1|positive_Xray?:1|dyspnoea?:0> :: 5.2668e-07 /<visit_to_Asia?:1|tuberculosis?:1|smoking?:1|lung_cancer?:1|tuberculosis_or_lung_cancer?:0|bronchitis?:1|positive_Xray?:1|dyspnoea?:0> :: 5.43367e-05 /<visit_to_Asia?:0|tuberculosis?:0|smoking?:0|lung_cancer?:0|tuberculosis_or_lung_cancer?:1|bronchitis?:1|positive_Xray?:1|dyspnoea?:0> :: 9.5e-09 /<visit_to_Asia?:1|tuberculosis?:0|smoking?:0|lung_cancer?:0|tuberculosis_or_lung_cancer?:1|bronchitis?:1|positive_Xray?:1|dyspnoea?:0> :: 1.881e-07 /<visit_to_Asia?:0|tuberculosis?:1|smoking?:0|lung_cancer?:0|tuberculosis_or_lung_cancer?:1|bronchitis?:1|positive_Xray?:1|dyspnoea?:0> :: 1.805e-07 /<visit_to_Asia?:1|tuberculosis?:1|smoking?:0|lung_cancer?:0|tuberculosis_or_lung_cancer?:1|bronchitis?:1|positive_Xray?:1|dyspnoea?:0> :: 1.86219e-05 /<visit_to_Asia?:0|tuberculosis?:0|smoking?:1|lung_cancer?:0|tuberculosis_or_lung_cancer?:1|bronchitis?:1|positive_Xray?:1|dyspnoea?:0> :: 1.6625e-09 /<visit_to_Asia?:1|tuberculosis?:0|smoking?:1|lung_cancer?:0|tuberculosis_or_lung_cancer?:1|bronchitis?:1|positive_Xray?:1|dyspnoea?:0> :: 3.29175e-08 /<visit_to_Asia?:0|tuberculosis?:1|smoking?:1|lung_cancer?:0|tuberculosis_or_lung_cancer?:1|bronchitis?:1|positive_Xray?:1|dyspnoea?:0> :: 3.15875e-08 /<visit_to_Asia?:1|tuberculosis?:1|smoking?:1|lung_cancer?:0|tuberculosis_or_lung_cancer?:1|bronchitis?:1|positive_Xray?:1|dyspnoea?:0> :: 3.25883e-06 /<visit_to_Asia?:0|tuberculosis?:0|smoking?:0|lung_cancer?:1|tuberculosis_or_lung_cancer?:1|bronchitis?:1|positive_Xray?:1|dyspnoea?:0> :: 8.55e-08 /<visit_to_Asia?:1|tuberculosis?:0|smoking?:0|lung_cancer?:1|tuberculosis_or_lung_cancer?:1|bronchitis?:1|positive_Xray?:1|dyspnoea?:0> :: 1.6929e-06 /<visit_to_Asia?:0|tuberculosis?:1|smoking?:0|lung_cancer?:1|tuberculosis_or_lung_cancer?:1|bronchitis?:1|positive_Xray?:1|dyspnoea?:0> :: 0.000160826 /<visit_to_Asia?:1|tuberculosis?:1|smoking?:0|lung_cancer?:1|tuberculosis_or_lung_cancer?:1|bronchitis?:1|positive_Xray?:1|dyspnoea?:0> :: 0.0165921 /<visit_to_Asia?:0|tuberculosis?:0|smoking?:1|lung_cancer?:1|tuberculosis_or_lung_cancer?:1|bronchitis?:1|positive_Xray?:1|dyspnoea?:0> :: 1.64588e-07 /<visit_to_Asia?:1|tuberculosis?:0|smoking?:1|lung_cancer?:1|tuberculosis_or_lung_cancer?:1|bronchitis?:1|positive_Xray?:1|dyspnoea?:0> :: 3.25883e-06 /<visit_to_Asia?:0|tuberculosis?:1|smoking?:1|lung_cancer?:1|tuberculosis_or_lung_cancer?:1|bronchitis?:1|positive_Xray?:1|dyspnoea?:0> :: 0.000309589 /<visit_to_Asia?:1|tuberculosis?:1|smoking?:1|lung_cancer?:1|tuberculosis_or_lung_cancer?:1|bronchitis?:1|positive_Xray?:1|dyspnoea?:0> :: 0.0319398 /<visit_to_Asia?:0|tuberculosis?:0|smoking?:0|lung_cancer?:0|tuberculosis_or_lung_cancer?:0|bronchitis?:0|positive_Xray?:0|dyspnoea?:1> :: 1.4553e-06 /<visit_to_Asia?:1|tuberculosis?:0|smoking?:0|lung_cancer?:0|tuberculosis_or_lung_cancer?:0|bronchitis?:0|positive_Xray?:0|dyspnoea?:1> :: 2.88149e-05 /<visit_to_Asia?:0|tuberculosis?:1|smoking?:0|lung_cancer?:0|tuberculosis_or_lung_cancer?:0|bronchitis?:0|positive_Xray?:0|dyspnoea?:1> :: 2.76507e-05 /<visit_to_Asia?:1|tuberculosis?:1|smoking?:0|lung_cancer?:0|tuberculosis_or_lung_cancer?:0|bronchitis?:0|positive_Xray?:0|dyspnoea?:1> :: 0.00285268 /<visit_to_Asia?:0|tuberculosis?:0|smoking?:1|lung_cancer?:0|tuberculosis_or_lung_cancer?:0|bronchitis?:0|positive_Xray?:0|dyspnoea?:1> :: 7.2765e-08 /<visit_to_Asia?:1|tuberculosis?:0|smoking?:1|lung_cancer?:0|tuberculosis_or_lung_cancer?:0|bronchitis?:0|positive_Xray?:0|dyspnoea?:1> :: 1.44075e-06 /<visit_to_Asia?:0|tuberculosis?:1|smoking?:1|lung_cancer?:0|tuberculosis_or_lung_cancer?:0|bronchitis?:0|positive_Xray?:0|dyspnoea?:1> :: 1.38254e-06 /<visit_to_Asia?:1|tuberculosis?:1|smoking?:1|lung_cancer?:0|tuberculosis_or_lung_cancer?:0|bronchitis?:0|positive_Xray?:0|dyspnoea?:1> :: 0.000142634 /<visit_to_Asia?:0|tuberculosis?:0|smoking?:0|lung_cancer?:1|tuberculosis_or_lung_cancer?:0|bronchitis?:0|positive_Xray?:0|dyspnoea?:1> :: 1.30977e-05 /<visit_to_Asia?:1|tuberculosis?:0|smoking?:0|lung_cancer?:1|tuberculosis_or_lung_cancer?:0|bronchitis?:0|positive_Xray?:0|dyspnoea?:1> :: 0.000259334 /<visit_to_Asia?:0|tuberculosis?:1|smoking?:0|lung_cancer?:1|tuberculosis_or_lung_cancer?:0|bronchitis?:0|positive_Xray?:0|dyspnoea?:1> :: 2.5137e-06 /<visit_to_Asia?:1|tuberculosis?:1|smoking?:0|lung_cancer?:1|tuberculosis_or_lung_cancer?:0|bronchitis?:0|positive_Xray?:0|dyspnoea?:1> :: 0.000259334 /<visit_to_Asia?:0|tuberculosis?:0|smoking?:1|lung_cancer?:1|tuberculosis_or_lung_cancer?:0|bronchitis?:0|positive_Xray?:0|dyspnoea?:1> :: 7.20374e-06 /<visit_to_Asia?:1|tuberculosis?:0|smoking?:1|lung_cancer?:1|tuberculosis_or_lung_cancer?:0|bronchitis?:0|positive_Xray?:0|dyspnoea?:1> :: 0.000142634 /<visit_to_Asia?:0|tuberculosis?:1|smoking?:1|lung_cancer?:1|tuberculosis_or_lung_cancer?:0|bronchitis?:0|positive_Xray?:0|dyspnoea?:1> :: 1.38254e-06 /<visit_to_Asia?:1|tuberculosis?:1|smoking?:1|lung_cancer?:1|tuberculosis_or_lung_cancer?:0|bronchitis?:0|positive_Xray?:0|dyspnoea?:1> :: 0.000142634 /<visit_to_Asia?:0|tuberculosis?:0|smoking?:0|lung_cancer?:0|tuberculosis_or_lung_cancer?:1|bronchitis?:0|positive_Xray?:0|dyspnoea?:1> :: 2.25e-09 /<visit_to_Asia?:1|tuberculosis?:0|smoking?:0|lung_cancer?:0|tuberculosis_or_lung_cancer?:1|bronchitis?:0|positive_Xray?:0|dyspnoea?:1> :: 4.455e-08 /<visit_to_Asia?:0|tuberculosis?:1|smoking?:0|lung_cancer?:0|tuberculosis_or_lung_cancer?:1|bronchitis?:0|positive_Xray?:0|dyspnoea?:1> :: 4.275e-08 /<visit_to_Asia?:1|tuberculosis?:1|smoking?:0|lung_cancer?:0|tuberculosis_or_lung_cancer?:1|bronchitis?:0|positive_Xray?:0|dyspnoea?:1> :: 4.41045e-06 /<visit_to_Asia?:0|tuberculosis?:0|smoking?:1|lung_cancer?:0|tuberculosis_or_lung_cancer?:1|bronchitis?:0|positive_Xray?:0|dyspnoea?:1> :: 1.125e-10 /<visit_to_Asia?:1|tuberculosis?:0|smoking?:1|lung_cancer?:0|tuberculosis_or_lung_cancer?:1|bronchitis?:0|positive_Xray?:0|dyspnoea?:1> :: 2.2275e-09 /<visit_to_Asia?:0|tuberculosis?:1|smoking?:1|lung_cancer?:0|tuberculosis_or_lung_cancer?:1|bronchitis?:0|positive_Xray?:0|dyspnoea?:1> :: 2.1375e-09 /<visit_to_Asia?:1|tuberculosis?:1|smoking?:1|lung_cancer?:0|tuberculosis_or_lung_cancer?:1|bronchitis?:0|positive_Xray?:0|dyspnoea?:1> :: 2.20522e-07 /<visit_to_Asia?:0|tuberculosis?:0|smoking?:0|lung_cancer?:1|tuberculosis_or_lung_cancer?:1|bronchitis?:0|positive_Xray?:0|dyspnoea?:1> :: 2.025e-08 /<visit_to_Asia?:1|tuberculosis?:0|smoking?:0|lung_cancer?:1|tuberculosis_or_lung_cancer?:1|bronchitis?:0|positive_Xray?:0|dyspnoea?:1> :: 4.0095e-07 /<visit_to_Asia?:0|tuberculosis?:1|smoking?:0|lung_cancer?:1|tuberculosis_or_lung_cancer?:1|bronchitis?:0|positive_Xray?:0|dyspnoea?:1> :: 3.80903e-05 /<visit_to_Asia?:1|tuberculosis?:1|smoking?:0|lung_cancer?:1|tuberculosis_or_lung_cancer?:1|bronchitis?:0|positive_Xray?:0|dyspnoea?:1> :: 0.00392971 /<visit_to_Asia?:0|tuberculosis?:0|smoking?:1|lung_cancer?:1|tuberculosis_or_lung_cancer?:1|bronchitis?:0|positive_Xray?:0|dyspnoea?:1> :: 1.11375e-08 /<visit_to_Asia?:1|tuberculosis?:0|smoking?:1|lung_cancer?:1|tuberculosis_or_lung_cancer?:1|bronchitis?:0|positive_Xray?:0|dyspnoea?:1> :: 2.20523e-07 /<visit_to_Asia?:0|tuberculosis?:1|smoking?:1|lung_cancer?:1|tuberculosis_or_lung_cancer?:1|bronchitis?:0|positive_Xray?:0|dyspnoea?:1> :: 2.09496e-05 /<visit_to_Asia?:1|tuberculosis?:1|smoking?:1|lung_cancer?:1|tuberculosis_or_lung_cancer?:1|bronchitis?:0|positive_Xray?:0|dyspnoea?:1> :: 0.00216134 /<visit_to_Asia?:0|tuberculosis?:0|smoking?:0|lung_cancer?:0|tuberculosis_or_lung_cancer?:0|bronchitis?:1|positive_Xray?:0|dyspnoea?:1> :: 1.9404e-06 /<visit_to_Asia?:1|tuberculosis?:0|smoking?:0|lung_cancer?:0|tuberculosis_or_lung_cancer?:0|bronchitis?:1|positive_Xray?:0|dyspnoea?:1> :: 3.84199e-05 /<visit_to_Asia?:0|tuberculosis?:1|smoking?:0|lung_cancer?:0|tuberculosis_or_lung_cancer?:0|bronchitis?:1|positive_Xray?:0|dyspnoea?:1> :: 3.68676e-05 /<visit_to_Asia?:1|tuberculosis?:1|smoking?:0|lung_cancer?:0|tuberculosis_or_lung_cancer?:0|bronchitis?:1|positive_Xray?:0|dyspnoea?:1> :: 0.00380357 /<visit_to_Asia?:0|tuberculosis?:0|smoking?:1|lung_cancer?:0|tuberculosis_or_lung_cancer?:0|bronchitis?:1|positive_Xray?:0|dyspnoea?:1> :: 3.3957e-07 /<visit_to_Asia?:1|tuberculosis?:0|smoking?:1|lung_cancer?:0|tuberculosis_or_lung_cancer?:0|bronchitis?:1|positive_Xray?:0|dyspnoea?:1> :: 6.72349e-06 /<visit_to_Asia?:0|tuberculosis?:1|smoking?:1|lung_cancer?:0|tuberculosis_or_lung_cancer?:0|bronchitis?:1|positive_Xray?:0|dyspnoea?:1> :: 6.45183e-06 /<visit_to_Asia?:1|tuberculosis?:1|smoking?:1|lung_cancer?:0|tuberculosis_or_lung_cancer?:0|bronchitis?:1|positive_Xray?:0|dyspnoea?:1> :: 0.000665625 /<visit_to_Asia?:0|tuberculosis?:0|smoking?:0|lung_cancer?:1|tuberculosis_or_lung_cancer?:0|bronchitis?:1|positive_Xray?:0|dyspnoea?:1> :: 1.74636e-05 /<visit_to_Asia?:1|tuberculosis?:0|smoking?:0|lung_cancer?:1|tuberculosis_or_lung_cancer?:0|bronchitis?:1|positive_Xray?:0|dyspnoea?:1> :: 0.000345779 /<visit_to_Asia?:0|tuberculosis?:1|smoking?:0|lung_cancer?:1|tuberculosis_or_lung_cancer?:0|bronchitis?:1|positive_Xray?:0|dyspnoea?:1> :: 3.3516e-06 /<visit_to_Asia?:1|tuberculosis?:1|smoking?:0|lung_cancer?:1|tuberculosis_or_lung_cancer?:0|bronchitis?:1|positive_Xray?:0|dyspnoea?:1> :: 0.000345779 /<visit_to_Asia?:0|tuberculosis?:0|smoking?:1|lung_cancer?:1|tuberculosis_or_lung_cancer?:0|bronchitis?:1|positive_Xray?:0|dyspnoea?:1> :: 3.36174e-05 /<visit_to_Asia?:1|tuberculosis?:0|smoking?:1|lung_cancer?:1|tuberculosis_or_lung_cancer?:0|bronchitis?:1|positive_Xray?:0|dyspnoea?:1> :: 0.000665625 /<visit_to_Asia?:0|tuberculosis?:1|smoking?:1|lung_cancer?:1|tuberculosis_or_lung_cancer?:0|bronchitis?:1|positive_Xray?:0|dyspnoea?:1> :: 6.45183e-06 /<visit_to_Asia?:1|tuberculosis?:1|smoking?:1|lung_cancer?:1|tuberculosis_or_lung_cancer?:0|bronchitis?:1|positive_Xray?:0|dyspnoea?:1> :: 0.000665625 /<visit_to_Asia?:0|tuberculosis?:0|smoking?:0|lung_cancer?:0|tuberculosis_or_lung_cancer?:1|bronchitis?:1|positive_Xray?:0|dyspnoea?:1> :: 4.5e-09 /<visit_to_Asia?:1|tuberculosis?:0|smoking?:0|lung_cancer?:0|tuberculosis_or_lung_cancer?:1|bronchitis?:1|positive_Xray?:0|dyspnoea?:1> :: 8.91e-08 /<visit_to_Asia?:0|tuberculosis?:1|smoking?:0|lung_cancer?:0|tuberculosis_or_lung_cancer?:1|bronchitis?:1|positive_Xray?:0|dyspnoea?:1> :: 8.55e-08 /<visit_to_Asia?:1|tuberculosis?:1|smoking?:0|lung_cancer?:0|tuberculosis_or_lung_cancer?:1|bronchitis?:1|positive_Xray?:0|dyspnoea?:1> :: 8.8209e-06 /<visit_to_Asia?:0|tuberculosis?:0|smoking?:1|lung_cancer?:0|tuberculosis_or_lung_cancer?:1|bronchitis?:1|positive_Xray?:0|dyspnoea?:1> :: 7.875e-10 /<visit_to_Asia?:1|tuberculosis?:0|smoking?:1|lung_cancer?:0|tuberculosis_or_lung_cancer?:1|bronchitis?:1|positive_Xray?:0|dyspnoea?:1> :: 1.55925e-08 /<visit_to_Asia?:0|tuberculosis?:1|smoking?:1|lung_cancer?:0|tuberculosis_or_lung_cancer?:1|bronchitis?:1|positive_Xray?:0|dyspnoea?:1> :: 1.49625e-08 /<visit_to_Asia?:1|tuberculosis?:1|smoking?:1|lung_cancer?:0|tuberculosis_or_lung_cancer?:1|bronchitis?:1|positive_Xray?:0|dyspnoea?:1> :: 1.54366e-06 /<visit_to_Asia?:0|tuberculosis?:0|smoking?:0|lung_cancer?:1|tuberculosis_or_lung_cancer?:1|bronchitis?:1|positive_Xray?:0|dyspnoea?:1> :: 4.05e-08 /<visit_to_Asia?:1|tuberculosis?:0|smoking?:0|lung_cancer?:1|tuberculosis_or_lung_cancer?:1|bronchitis?:1|positive_Xray?:0|dyspnoea?:1> :: 8.019e-07 /<visit_to_Asia?:0|tuberculosis?:1|smoking?:0|lung_cancer?:1|tuberculosis_or_lung_cancer?:1|bronchitis?:1|positive_Xray?:0|dyspnoea?:1> :: 7.61805e-05 /<visit_to_Asia?:1|tuberculosis?:1|smoking?:0|lung_cancer?:1|tuberculosis_or_lung_cancer?:1|bronchitis?:1|positive_Xray?:0|dyspnoea?:1> :: 0.00785942 /<visit_to_Asia?:0|tuberculosis?:0|smoking?:1|lung_cancer?:1|tuberculosis_or_lung_cancer?:1|bronchitis?:1|positive_Xray?:0|dyspnoea?:1> :: 7.79625e-08 /<visit_to_Asia?:1|tuberculosis?:0|smoking?:1|lung_cancer?:1|tuberculosis_or_lung_cancer?:1|bronchitis?:1|positive_Xray?:0|dyspnoea?:1> :: 1.54366e-06 /<visit_to_Asia?:0|tuberculosis?:1|smoking?:1|lung_cancer?:1|tuberculosis_or_lung_cancer?:1|bronchitis?:1|positive_Xray?:0|dyspnoea?:1> :: 0.000146647 /<visit_to_Asia?:1|tuberculosis?:1|smoking?:1|lung_cancer?:1|tuberculosis_or_lung_cancer?:1|bronchitis?:1|positive_Xray?:0|dyspnoea?:1> :: 0.0151294 /<visit_to_Asia?:0|tuberculosis?:0|smoking?:0|lung_cancer?:0|tuberculosis_or_lung_cancer?:0|bronchitis?:0|positive_Xray?:1|dyspnoea?:1> :: 2.97e-08 /<visit_to_Asia?:1|tuberculosis?:0|smoking?:0|lung_cancer?:0|tuberculosis_or_lung_cancer?:0|bronchitis?:0|positive_Xray?:1|dyspnoea?:1> :: 5.8806e-07 /<visit_to_Asia?:0|tuberculosis?:1|smoking?:0|lung_cancer?:0|tuberculosis_or_lung_cancer?:0|bronchitis?:0|positive_Xray?:1|dyspnoea?:1> :: 5.643e-07 /<visit_to_Asia?:1|tuberculosis?:1|smoking?:0|lung_cancer?:0|tuberculosis_or_lung_cancer?:0|bronchitis?:0|positive_Xray?:1|dyspnoea?:1> :: 5.82179e-05 /<visit_to_Asia?:0|tuberculosis?:0|smoking?:1|lung_cancer?:0|tuberculosis_or_lung_cancer?:0|bronchitis?:0|positive_Xray?:1|dyspnoea?:1> :: 1.485e-09 /<visit_to_Asia?:1|tuberculosis?:0|smoking?:1|lung_cancer?:0|tuberculosis_or_lung_cancer?:0|bronchitis?:0|positive_Xray?:1|dyspnoea?:1> :: 2.9403e-08 /<visit_to_Asia?:0|tuberculosis?:1|smoking?:1|lung_cancer?:0|tuberculosis_or_lung_cancer?:0|bronchitis?:0|positive_Xray?:1|dyspnoea?:1> :: 2.8215e-08 /<visit_to_Asia?:1|tuberculosis?:1|smoking?:1|lung_cancer?:0|tuberculosis_or_lung_cancer?:0|bronchitis?:0|positive_Xray?:1|dyspnoea?:1> :: 2.9109e-06 /<visit_to_Asia?:0|tuberculosis?:0|smoking?:0|lung_cancer?:1|tuberculosis_or_lung_cancer?:0|bronchitis?:0|positive_Xray?:1|dyspnoea?:1> :: 2.673e-07 /<visit_to_Asia?:1|tuberculosis?:0|smoking?:0|lung_cancer?:1|tuberculosis_or_lung_cancer?:0|bronchitis?:0|positive_Xray?:1|dyspnoea?:1> :: 5.29254e-06 /<visit_to_Asia?:0|tuberculosis?:1|smoking?:0|lung_cancer?:1|tuberculosis_or_lung_cancer?:0|bronchitis?:0|positive_Xray?:1|dyspnoea?:1> :: 5.13e-08 /<visit_to_Asia?:1|tuberculosis?:1|smoking?:0|lung_cancer?:1|tuberculosis_or_lung_cancer?:0|bronchitis?:0|positive_Xray?:1|dyspnoea?:1> :: 5.29254e-06 /<visit_to_Asia?:0|tuberculosis?:0|smoking?:1|lung_cancer?:1|tuberculosis_or_lung_cancer?:0|bronchitis?:0|positive_Xray?:1|dyspnoea?:1> :: 1.47015e-07 /<visit_to_Asia?:1|tuberculosis?:0|smoking?:1|lung_cancer?:1|tuberculosis_or_lung_cancer?:0|bronchitis?:0|positive_Xray?:1|dyspnoea?:1> :: 2.9109e-06 /<visit_to_Asia?:0|tuberculosis?:1|smoking?:1|lung_cancer?:1|tuberculosis_or_lung_cancer?:0|bronchitis?:0|positive_Xray?:1|dyspnoea?:1> :: 2.8215e-08 /<visit_to_Asia?:1|tuberculosis?:1|smoking?:1|lung_cancer?:1|tuberculosis_or_lung_cancer?:0|bronchitis?:0|positive_Xray?:1|dyspnoea?:1> :: 2.9109e-06 /<visit_to_Asia?:0|tuberculosis?:0|smoking?:0|lung_cancer?:0|tuberculosis_or_lung_cancer?:1|bronchitis?:0|positive_Xray?:1|dyspnoea?:1> :: 4.275e-08 /<visit_to_Asia?:1|tuberculosis?:0|smoking?:0|lung_cancer?:0|tuberculosis_or_lung_cancer?:1|bronchitis?:0|positive_Xray?:1|dyspnoea?:1> :: 8.4645e-07 /<visit_to_Asia?:0|tuberculosis?:1|smoking?:0|lung_cancer?:0|tuberculosis_or_lung_cancer?:1|bronchitis?:0|positive_Xray?:1|dyspnoea?:1> :: 8.1225e-07 /<visit_to_Asia?:1|tuberculosis?:1|smoking?:0|lung_cancer?:0|tuberculosis_or_lung_cancer?:1|bronchitis?:0|positive_Xray?:1|dyspnoea?:1> :: 8.37985e-05 /<visit_to_Asia?:0|tuberculosis?:0|smoking?:1|lung_cancer?:0|tuberculosis_or_lung_cancer?:1|bronchitis?:0|positive_Xray?:1|dyspnoea?:1> :: 2.1375e-09 /<visit_to_Asia?:1|tuberculosis?:0|smoking?:1|lung_cancer?:0|tuberculosis_or_lung_cancer?:1|bronchitis?:0|positive_Xray?:1|dyspnoea?:1> :: 4.23225e-08 /<visit_to_Asia?:0|tuberculosis?:1|smoking?:1|lung_cancer?:0|tuberculosis_or_lung_cancer?:1|bronchitis?:0|positive_Xray?:1|dyspnoea?:1> :: 4.06125e-08 /<visit_to_Asia?:1|tuberculosis?:1|smoking?:1|lung_cancer?:0|tuberculosis_or_lung_cancer?:1|bronchitis?:0|positive_Xray?:1|dyspnoea?:1> :: 4.18993e-06 /<visit_to_Asia?:0|tuberculosis?:0|smoking?:0|lung_cancer?:1|tuberculosis_or_lung_cancer?:1|bronchitis?:0|positive_Xray?:1|dyspnoea?:1> :: 3.8475e-07 /<visit_to_Asia?:1|tuberculosis?:0|smoking?:0|lung_cancer?:1|tuberculosis_or_lung_cancer?:1|bronchitis?:0|positive_Xray?:1|dyspnoea?:1> :: 7.61805e-06 /<visit_to_Asia?:0|tuberculosis?:1|smoking?:0|lung_cancer?:1|tuberculosis_or_lung_cancer?:1|bronchitis?:0|positive_Xray?:1|dyspnoea?:1> :: 0.000723715 /<visit_to_Asia?:1|tuberculosis?:1|smoking?:0|lung_cancer?:1|tuberculosis_or_lung_cancer?:1|bronchitis?:0|positive_Xray?:1|dyspnoea?:1> :: 0.0746645 /<visit_to_Asia?:0|tuberculosis?:0|smoking?:1|lung_cancer?:1|tuberculosis_or_lung_cancer?:1|bronchitis?:0|positive_Xray?:1|dyspnoea?:1> :: 2.11613e-07 /<visit_to_Asia?:1|tuberculosis?:0|smoking?:1|lung_cancer?:1|tuberculosis_or_lung_cancer?:1|bronchitis?:0|positive_Xray?:1|dyspnoea?:1> :: 4.18993e-06 /<visit_to_Asia?:0|tuberculosis?:1|smoking?:1|lung_cancer?:1|tuberculosis_or_lung_cancer?:1|bronchitis?:0|positive_Xray?:1|dyspnoea?:1> :: 0.000398043 /<visit_to_Asia?:1|tuberculosis?:1|smoking?:1|lung_cancer?:1|tuberculosis_or_lung_cancer?:1|bronchitis?:0|positive_Xray?:1|dyspnoea?:1> :: 0.0410655 /<visit_to_Asia?:0|tuberculosis?:0|smoking?:0|lung_cancer?:0|tuberculosis_or_lung_cancer?:0|bronchitis?:1|positive_Xray?:1|dyspnoea?:1> :: 3.96e-08 /<visit_to_Asia?:1|tuberculosis?:0|smoking?:0|lung_cancer?:0|tuberculosis_or_lung_cancer?:0|bronchitis?:1|positive_Xray?:1|dyspnoea?:1> :: 7.8408e-07 /<visit_to_Asia?:0|tuberculosis?:1|smoking?:0|lung_cancer?:0|tuberculosis_or_lung_cancer?:0|bronchitis?:1|positive_Xray?:1|dyspnoea?:1> :: 7.524e-07 /<visit_to_Asia?:1|tuberculosis?:1|smoking?:0|lung_cancer?:0|tuberculosis_or_lung_cancer?:0|bronchitis?:1|positive_Xray?:1|dyspnoea?:1> :: 7.76239e-05 /<visit_to_Asia?:0|tuberculosis?:0|smoking?:1|lung_cancer?:0|tuberculosis_or_lung_cancer?:0|bronchitis?:1|positive_Xray?:1|dyspnoea?:1> :: 6.93e-09 /<visit_to_Asia?:1|tuberculosis?:0|smoking?:1|lung_cancer?:0|tuberculosis_or_lung_cancer?:0|bronchitis?:1|positive_Xray?:1|dyspnoea?:1> :: 1.37214e-07 /<visit_to_Asia?:0|tuberculosis?:1|smoking?:1|lung_cancer?:0|tuberculosis_or_lung_cancer?:0|bronchitis?:1|positive_Xray?:1|dyspnoea?:1> :: 1.3167e-07 /<visit_to_Asia?:1|tuberculosis?:1|smoking?:1|lung_cancer?:0|tuberculosis_or_lung_cancer?:0|bronchitis?:1|positive_Xray?:1|dyspnoea?:1> :: 1.35842e-05 /<visit_to_Asia?:0|tuberculosis?:0|smoking?:0|lung_cancer?:1|tuberculosis_or_lung_cancer?:0|bronchitis?:1|positive_Xray?:1|dyspnoea?:1> :: 3.564e-07 /<visit_to_Asia?:1|tuberculosis?:0|smoking?:0|lung_cancer?:1|tuberculosis_or_lung_cancer?:0|bronchitis?:1|positive_Xray?:1|dyspnoea?:1> :: 7.05672e-06 /<visit_to_Asia?:0|tuberculosis?:1|smoking?:0|lung_cancer?:1|tuberculosis_or_lung_cancer?:0|bronchitis?:1|positive_Xray?:1|dyspnoea?:1> :: 6.84e-08 /<visit_to_Asia?:1|tuberculosis?:1|smoking?:0|lung_cancer?:1|tuberculosis_or_lung_cancer?:0|bronchitis?:1|positive_Xray?:1|dyspnoea?:1> :: 7.05672e-06 /<visit_to_Asia?:0|tuberculosis?:0|smoking?:1|lung_cancer?:1|tuberculosis_or_lung_cancer?:0|bronchitis?:1|positive_Xray?:1|dyspnoea?:1> :: 6.8607e-07 /<visit_to_Asia?:1|tuberculosis?:0|smoking?:1|lung_cancer?:1|tuberculosis_or_lung_cancer?:0|bronchitis?:1|positive_Xray?:1|dyspnoea?:1> :: 1.35842e-05 /<visit_to_Asia?:0|tuberculosis?:1|smoking?:1|lung_cancer?:1|tuberculosis_or_lung_cancer?:0|bronchitis?:1|positive_Xray?:1|dyspnoea?:1> :: 1.3167e-07 /<visit_to_Asia?:1|tuberculosis?:1|smoking?:1|lung_cancer?:1|tuberculosis_or_lung_cancer?:0|bronchitis?:1|positive_Xray?:1|dyspnoea?:1> :: 1.35842e-05 /<visit_to_Asia?:0|tuberculosis?:0|smoking?:0|lung_cancer?:0|tuberculosis_or_lung_cancer?:1|bronchitis?:1|positive_Xray?:1|dyspnoea?:1> :: 8.55e-08 /<visit_to_Asia?:1|tuberculosis?:0|smoking?:0|lung_cancer?:0|tuberculosis_or_lung_cancer?:1|bronchitis?:1|positive_Xray?:1|dyspnoea?:1> :: 1.6929e-06 /<visit_to_Asia?:0|tuberculosis?:1|smoking?:0|lung_cancer?:0|tuberculosis_or_lung_cancer?:1|bronchitis?:1|positive_Xray?:1|dyspnoea?:1> :: 1.6245e-06 /<visit_to_Asia?:1|tuberculosis?:1|smoking?:0|lung_cancer?:0|tuberculosis_or_lung_cancer?:1|bronchitis?:1|positive_Xray?:1|dyspnoea?:1> :: 0.000167597 /<visit_to_Asia?:0|tuberculosis?:0|smoking?:1|lung_cancer?:0|tuberculosis_or_lung_cancer?:1|bronchitis?:1|positive_Xray?:1|dyspnoea?:1> :: 1.49625e-08 /<visit_to_Asia?:1|tuberculosis?:0|smoking?:1|lung_cancer?:0|tuberculosis_or_lung_cancer?:1|bronchitis?:1|positive_Xray?:1|dyspnoea?:1> :: 2.96257e-07 /<visit_to_Asia?:0|tuberculosis?:1|smoking?:1|lung_cancer?:0|tuberculosis_or_lung_cancer?:1|bronchitis?:1|positive_Xray?:1|dyspnoea?:1> :: 2.84287e-07 /<visit_to_Asia?:1|tuberculosis?:1|smoking?:1|lung_cancer?:0|tuberculosis_or_lung_cancer?:1|bronchitis?:1|positive_Xray?:1|dyspnoea?:1> :: 2.93295e-05 /<visit_to_Asia?:0|tuberculosis?:0|smoking?:0|lung_cancer?:1|tuberculosis_or_lung_cancer?:1|bronchitis?:1|positive_Xray?:1|dyspnoea?:1> :: 7.695e-07 /<visit_to_Asia?:1|tuberculosis?:0|smoking?:0|lung_cancer?:1|tuberculosis_or_lung_cancer?:1|bronchitis?:1|positive_Xray?:1|dyspnoea?:1> :: 1.52361e-05 /<visit_to_Asia?:0|tuberculosis?:1|smoking?:0|lung_cancer?:1|tuberculosis_or_lung_cancer?:1|bronchitis?:1|positive_Xray?:1|dyspnoea?:1> :: 0.00144743 /<visit_to_Asia?:1|tuberculosis?:1|smoking?:0|lung_cancer?:1|tuberculosis_or_lung_cancer?:1|bronchitis?:1|positive_Xray?:1|dyspnoea?:1> :: 0.149329 /<visit_to_Asia?:0|tuberculosis?:0|smoking?:1|lung_cancer?:1|tuberculosis_or_lung_cancer?:1|bronchitis?:1|positive_Xray?:1|dyspnoea?:1> :: 1.48129e-06 /<visit_to_Asia?:1|tuberculosis?:0|smoking?:1|lung_cancer?:1|tuberculosis_or_lung_cancer?:1|bronchitis?:1|positive_Xray?:1|dyspnoea?:1> :: 2.93295e-05 /<visit_to_Asia?:0|tuberculosis?:1|smoking?:1|lung_cancer?:1|tuberculosis_or_lung_cancer?:1|bronchitis?:1|positive_Xray?:1|dyspnoea?:1> :: 0.0027863 /<visit_to_Asia?:1|tuberculosis?:1|smoking?:1|lung_cancer?:1|tuberculosis_or_lung_cancer?:1|bronchitis?:1|positive_Xray?:1|dyspnoea?:1> :: 0.287458"
      ]
     },
     "execution_count": 165,
     "metadata": {},
     "output_type": "execute_result"
    }
   ],
   "source": [
    "compact_conditional_proba(Pjointe,\"visit_to_Asia?\")"
   ]
  },
  {
   "cell_type": "code",
   "execution_count": 166,
   "metadata": {},
   "outputs": [
    {
     "name": "stdout",
     "output_type": "stream",
     "text": [
      "['positive_Xray?', 'bronchitis?', 'tuberculosis_or_lung_cancer?', 'lung_cancer?', 'smoking?', 'tuberculosis?', 'visit_to_Asia?']\n",
      "['positive_Xray?', 'bronchitis?', 'tuberculosis_or_lung_cancer?', 'lung_cancer?', 'smoking?', 'tuberculosis?', 'visit_to_Asia?']\n",
      "positive_Xray?\n",
      "bronchitis?\n",
      "tuberculosis_or_lung_cancer?\n",
      "lung_cancer?\n",
      "smoking?\n",
      "tuberculosis?\n",
      "visit_to_Asia?\n",
      "['bronchitis?', 'lung_cancer?', 'tuberculosis?']\n"
     ]
    },
    {
     "data": {
      "text/html": [
       "<table style=\"border:1px solid black;\">\n",
       "<tr><th colspan='3'></th><th colspan='2' style='border:1px solid black;color:black;background-color:#808080;'><center>tuberculosis?</center></th></tr>\n",
       "<tr><th style='border:1px solid black;color:black;background-color:#808080'><center>dyspnoea?</center></th><th style='border:1px solid black;color:black;background-color:#808080'><center>bronchitis?</center></th><th style='border:1px solid black;color:black;background-color:#808080'><center>lung_cancer?</center></th><th style='border:1px solid black;border-bottom-style: double;color:black;background-color:#BBBBBB'><center>0</center></th><th style='border:1px solid black;border-bottom-style: double;color:black;background-color:#BBBBBB'><center>1</center></th></tr>\n",
       "<tr><th style='border:1px solid black;color:black;background-color:#BBBBBB;' rowspan = '4'><center>0</center></th><th style='border:1px solid black;color:black;background-color:#BBBBBB;' rowspan = '2'><center>0</center></th><th style='border:1px solid black;color:black;background-color:#BBBBBB'><center>0</center></th><td style='text-align:right;'>0.8980</td><td style='text-align:right;'>0.8980</td></tr>\n",
       "<tr><th style='border:1px solid black;color:black;background-color:#BBBBBB'><center>1</center></th><td style='text-align:right;'>0.8980</td><td style='text-align:right;'>0.7020</td></tr>\n",
       "<tr><th style='border:1px solid black;color:black;background-color:#BBBBBB;' rowspan = '2'><center>1</center></th><th style='border:1px solid black;color:black;background-color:#BBBBBB'><center>0</center></th><td style='text-align:right;'>0.7930</td><td style='text-align:right;'>0.7930</td></tr>\n",
       "<tr><th style='border:1px solid black;color:black;background-color:#BBBBBB'><center>1</center></th><td style='text-align:right;'>0.7930</td><td style='text-align:right;'>0.1070</td></tr>\n",
       "<tr><th style='border:1px solid black;color:black;background-color:#BBBBBB;' rowspan = '4'><center>1</center></th><th style='border:1px solid black;color:black;background-color:#BBBBBB;' rowspan = '2'><center>0</center></th><th style='border:1px solid black;color:black;background-color:#BBBBBB'><center>0</center></th><td style='text-align:right;'>0.1020</td><td style='text-align:right;'>0.1020</td></tr>\n",
       "<tr><th style='border:1px solid black;color:black;background-color:#BBBBBB'><center>1</center></th><td style='text-align:right;'>0.1020</td><td style='text-align:right;'>0.2980</td></tr>\n",
       "<tr><th style='border:1px solid black;color:black;background-color:#BBBBBB;' rowspan = '2'><center>1</center></th><th style='border:1px solid black;color:black;background-color:#BBBBBB'><center>0</center></th><td style='text-align:right;'>0.2070</td><td style='text-align:right;'>0.2070</td></tr>\n",
       "<tr><th style='border:1px solid black;color:black;background-color:#BBBBBB'><center>1</center></th><td style='text-align:right;'>0.2070</td><td style='text-align:right;'>0.8930</td></tr>\n",
       "</table>"
      ],
      "text/plain": [
       "(gum::Potential<double>@0x7f7f09b42cf0) <tuberculosis?:0|lung_cancer?:0|bronchitis?:0|dyspnoea?:0> :: 0.898 /<tuberculosis?:1|lung_cancer?:0|bronchitis?:0|dyspnoea?:0> :: 0.898 /<tuberculosis?:0|lung_cancer?:1|bronchitis?:0|dyspnoea?:0> :: 0.898 /<tuberculosis?:1|lung_cancer?:1|bronchitis?:0|dyspnoea?:0> :: 0.702 /<tuberculosis?:0|lung_cancer?:0|bronchitis?:1|dyspnoea?:0> :: 0.793 /<tuberculosis?:1|lung_cancer?:0|bronchitis?:1|dyspnoea?:0> :: 0.793 /<tuberculosis?:0|lung_cancer?:1|bronchitis?:1|dyspnoea?:0> :: 0.793 /<tuberculosis?:1|lung_cancer?:1|bronchitis?:1|dyspnoea?:0> :: 0.107 /<tuberculosis?:0|lung_cancer?:0|bronchitis?:0|dyspnoea?:1> :: 0.102 /<tuberculosis?:1|lung_cancer?:0|bronchitis?:0|dyspnoea?:1> :: 0.102 /<tuberculosis?:0|lung_cancer?:1|bronchitis?:0|dyspnoea?:1> :: 0.102 /<tuberculosis?:1|lung_cancer?:1|bronchitis?:0|dyspnoea?:1> :: 0.298 /<tuberculosis?:0|lung_cancer?:0|bronchitis?:1|dyspnoea?:1> :: 0.207 /<tuberculosis?:1|lung_cancer?:0|bronchitis?:1|dyspnoea?:1> :: 0.207 /<tuberculosis?:0|lung_cancer?:1|bronchitis?:1|dyspnoea?:1> :: 0.207 /<tuberculosis?:1|lung_cancer?:1|bronchitis?:1|dyspnoea?:1> :: 0.893"
      ]
     },
     "execution_count": 166,
     "metadata": {},
     "output_type": "execute_result"
    }
   ],
   "source": [
    "compact_conditional_proba(Pjointe,\"dyspnoea?\")"
   ]
  },
  {
   "cell_type": "markdown",
   "metadata": {},
   "source": [
    "### IV.3- Création d'un réseau bayésien\n",
    "\n",
    "Un réseau bayésien est simplement la décomposition d'une distribution de probabilité jointe en un produit de probabilités conditionnelles: vous avez vu en cours que $P(A,B) = P(A|B)P(B)$, et ce quel que soient les ensembles de variables aléatoires disjoints $A$ et $B$. En posant $A = X_n$ et $B = \\{X_0,\\ldots,X_{n-1}\\}$, on obtient donc:\n",
    "\n",
    "$$P(X_0,\\ldots,X_n) = P(X_n | X_0,\\ldots,X_{n-1}) P(X_0,\\ldots,X_{n-1})$$\n",
    "\n",
    "On peut réitérer cette opération pour le terme de droite en posant $A = X_{n-1}$ et $B=\\{X_0,\\ldots,X_{n-2}\\}$, et ainsi de suite. Donc, par récurrence, on a:\n",
    "\n",
    "$$P(X_0,\\ldots,X_n) = P(X_0) \\times \\prod_{i=1}^n P(X_i | X_0,\\ldots,X_{i-1} )$$\n",
    "\n",
    "Si on applique à chaque terme $P(X_i | X_0,\\ldots,X_{i-1} )$ la fonction `compact_conditional_proba`, on obtient une décomposition:\n",
    "\n",
    "$$P(X_0,\\ldots,X_n) = P(X_0) \\times \\prod_{i=1}^n P(X_i | {\\cal K_i})$$\n",
    "\n",
    "avec $K_i \\subseteq \\{X_0,\\ldots,X_{i-1}\\}$}. Cette décomposition est dite ''compacte'' car son stockage nécessite en pratique beaucoup moins de mémoire que celui de la distribution jointe. C'est ce que l'on appelle un réseau bayésien.\n",
    "\n",
    "Écrire une fonction `create_bayesian_network : Potential -> Potential list` qui, étant donné une probabilité jointe, vous renvoie la liste des $P(X_i | {\\cal K_i})$. Pour cela, il vous suffit d'appliquer l'algorithme suivant:\n",
    "\n",
    "```\n",
    "liste = [] \n",
    "P = P(X_0,...,X_n)\n",
    "Pour i de n à 0 faire:\n",
    "  calculer Q = compact_conditional_proba(P,X_i)\n",
    "  afficher la liste des variables de Q\n",
    "  rajouter Q à liste\n",
    "  supprimer X_i de P par marginalisation\n",
    "\n",
    "retourner liste\n",
    "```\n",
    "\n",
    "Il est intéressant ici de noter les affichages des variables de Q: comme toutes les variables sont binaires, Q nécessite uniquement (2 puissance le nombre de ces variables) nombres réels. Ainsi une probabilité sur 3 variables ne nécessite que {$2^3=8$} nombres réels. \n"
   ]
  },
  {
   "cell_type": "code",
   "execution_count": null,
   "metadata": {},
   "outputs": [],
   "source": [
    "def create_bayesian_network(P):\n",
    "    #votre code\n",
    "    pass"
   ]
  },
  {
   "cell_type": "code",
   "execution_count": null,
   "metadata": {},
   "outputs": [],
   "source": [
    "create_bayesian_network(Pjointe)"
   ]
  },
  {
   "cell_type": "markdown",
   "metadata": {},
   "source": [
    "### IV.4- Gain en compression\n",
    "\n",
    "On souhaite observer le gain en termes de consommation mémoire obtenu par votre décomposition. Si `P` est un `Potential`, alors `P.toarray().size` est égal à la taille (le nombre de paramètres) de la table `P`. Calculez donc le nombre de paramètres nécessaires pour stocker la probabilité jointe lue dans le fichier `asia.txt` ainsi que la somme des nombres de paramètres des tables que vous avez créées grâce à votre fonction `create_bayesian_network`. "
   ]
  },
  {
   "cell_type": "code",
   "execution_count": null,
   "metadata": {},
   "outputs": [],
   "source": [
    "# votre code"
   ]
  },
  {
   "cell_type": "markdown",
   "metadata": {},
   "source": [
    "## V- Applications pratiques (optionnelle)"
   ]
  },
  {
   "cell_type": "markdown",
   "metadata": {},
   "source": [
    "La technique de décomposition que vous avez vue est effectivement utilisée en pratique. Vous pouvez voir le gain que l'on peut obtenir sur différentes distributions de probabilité du site :\n",
    "\n",
    "http://www.bnlearn.com/bnrepository/\n",
    "\n",
    "Cliquez sur le nom du dataset que vous voulez visualiser et téléchargez son .bif ou .dsl. Afin de visualiser le contenu du fichier, vous allez utiliser pyAgrum. Le code suivant vous permettra alors de visualiser votre dataset: la valeur indiquée après \"domainSize\" est la taille de la probabilité jointe d'origine (en nombre de paramètres) et celle après \"dim\" est la taille de la probabilité sous forme compacte (somme des tailles des probabilités conditionnelles compactes). "
   ]
  },
  {
   "cell_type": "code",
   "execution_count": null,
   "metadata": {},
   "outputs": [],
   "source": [
    "# chargement de pyAgrum\n",
    "import pyAgrum as gum\n",
    "import pyAgrum.lib.notebook as gnb\n",
    "\n",
    "# chargement du fichier bif ou dsl\n",
    "bn = gum.loadBN ( \"asia.bif\" )\n",
    "\n",
    "# affichage de la taille des probabilités jointes compacte et non compacte\n",
    "print(bn)\n",
    "\n",
    "# affichage graphique du réseau bayésien\n",
    "bn"
   ]
  },
  {
   "cell_type": "code",
   "execution_count": null,
   "metadata": {},
   "outputs": [],
   "source": []
  }
 ],
 "metadata": {
  "kernelspec": {
   "display_name": "Python 3",
   "language": "python",
   "name": "python3"
  },
  "language_info": {
   "codemirror_mode": {
    "name": "ipython",
    "version": 3
   },
   "file_extension": ".py",
   "mimetype": "text/x-python",
   "name": "python",
   "nbconvert_exporter": "python",
   "pygments_lexer": "ipython3",
   "version": "3.8.6"
  }
 },
 "nbformat": 4,
 "nbformat_minor": 4
}
