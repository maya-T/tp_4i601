{
 "cells": [
  {
   "cell_type": "markdown",
   "metadata": {},
   "source": [
    "# TME sur la classification de lettres manuscrites\n",
    "## Format des données\n",
    "Nous travaillerons sur des lettres manuscrites.\n",
    "Les données sont fournies au format pickle (le standard de sérialisation python, particulièrement convivial). Pour les charger : "
   ]
  },
  {
   "cell_type": "code",
   "execution_count": 2,
   "metadata": {},
   "outputs": [],
   "source": [
    "import numpy as np\n",
    "import pickle as pkl\n",
    "import matplotlib.pyplot as plt\n",
    "\n",
    "with open('ressources/lettres.pkl', 'rb') as f:\n",
    "    data = pkl.load(f, encoding='latin1') \n",
    "X = np.array(data.get('letters'), dtype=object) # récupération des données sur les lettres\n",
    "Y = np.array(data.get('labels')) # récupération des étiquettes associées "
   ]
  },
  {
   "cell_type": "markdown",
   "metadata": {},
   "source": [
    "Les données sont dans un format original: une lettre est en fait une série d'angles (exprimés en degrés). Un exemple: "
   ]
  },
  {
   "cell_type": "code",
   "execution_count": 3,
   "metadata": {},
   "outputs": [
    {
     "data": {
      "text/plain": [
       "array([ 36.214493, 347.719116, 322.088898, 312.230957, 314.851013,\n",
       "       315.487213, 313.556702, 326.534973, 141.288971, 167.606689,\n",
       "       199.321594, 217.911087, 226.443298, 235.002472, 252.354492,\n",
       "       270.045654, 291.665161, 350.934723,  17.892815,  20.281025,\n",
       "        28.207161,  43.883423,  53.459026])"
      ]
     },
     "execution_count": 3,
     "metadata": {},
     "output_type": "execute_result"
    }
   ],
   "source": [
    "X[0]"
   ]
  },
  {
   "cell_type": "markdown",
   "metadata": {},
   "source": [
    "Lors de l'acquisition, un stylo intelligent a pris des mesures régulièrement dans le temps: chaque période correspond à un segment de droite et le stylo a calculé l'angle entre deux segments consécutifs... C'est l'information qui vous est fournie.\n",
    "\n",
    "Pour afficher une lettre, il faut reconstruire la trajectoire enregistrée... C'est ce que fait la méthode ci-dessous: "
   ]
  },
  {
   "cell_type": "code",
   "execution_count": 4,
   "metadata": {},
   "outputs": [],
   "source": [
    "# affichage d'une lettre\n",
    "def tracerLettre(let):\n",
    "    a = -let*np.pi/180; # conversion en rad\n",
    "    coord = np.array([[0, 0]]); # point initial\n",
    "    for i in range(len(a)):\n",
    "        x = np.array([[1, 0]]);\n",
    "        rot = np.array([[np.cos(a[i]), -np.sin(a[i])],[ np.sin(a[i]),np.cos(a[i])]])\n",
    "        xr = x.dot(rot) # application de la rotation\n",
    "        coord = np.vstack((coord,xr+coord[-1,:]))\n",
    "    plt.figure()\n",
    "    plt.plot(coord[:,0],coord[:,1])\n",
    "    #plt.savefig(\"exlettre.png\")\n",
    "    return"
   ]
  },
  {
   "cell_type": "code",
   "execution_count": 5,
   "metadata": {},
   "outputs": [
    {
     "name": "stdout",
     "output_type": "stream",
     "text": [
      "a\n"
     ]
    },
    {
     "data": {
      "image/png": "[encoded data removed]",
      "text/plain": [
       "<Figure size 432x288 with 1 Axes>"
      ]
     },
     "metadata": {
      "needs_background": "light"
     },
     "output_type": "display_data"
    }
   ],
   "source": [
    "# il s'agit d'un 'a'\n",
    "tracerLettre(X[0])\n",
    "print(Y[0]) # vérification de l'étiquette"
   ]
  },
  {
   "cell_type": "markdown",
   "metadata": {},
   "source": [
    "## A. Apprentissage d'un modèle CM (max de vraisemblance)\n",
    "### A1. Discrétisation\n",
    "\n",
    "**1 état = 1 angle**\n",
    "\n",
    "Il est nécessaire de regrouper les angles en un nombre fini d'états (par exemple 20)\n",
    "- définir un `intervalle = 360 / n_etats` (18° si on choisit 20 états)\n",
    "- discrétiser tous les signaux à l'aide de la formule `np.floor(x / intervalle)`\n",
    "    - si n_etats = 20 alors [0, 18[ => 0, [18, 36[ => 1, etc...\n",
    "\n",
    "Donner le code de la méthode `discretise(x, d)` qui prend la base des signaux et retourne une base de signaux discrétisés."
   ]
  },
  {
   "cell_type": "code",
   "execution_count": 7,
   "metadata": {},
   "outputs": [
    {
     "name": "stdout",
     "output_type": "stream",
     "text": [
      "[0. 2. 2. 2. 2. 2. 2. 2. 1. 1. 1. 1. 1. 1. 2. 2. 2. 2. 0. 0. 0. 0. 0.]\n"
     ]
    }
   ],
   "source": [
    "def discretise(x, d):\n",
    "    intervalle=360/d\n",
    "    return  np.array([np.floor(x[i] / intervalle) for i in range(x.shape[0])], dtype=object)\n",
    "X_=discretise(X, 3)\n",
    "print(X_[0])\n"
   ]
  },
  {
   "cell_type": "markdown",
   "metadata": {},
   "source": [
    "**VALIDATION :** code du premier signal avec une discrétisation sur 3 états:\n",
    "```python\n",
    "array([ 0.,  2.,  2.,  2.,  2.,  2.,  2.,  2.,  1.,  1.,  1.,  1., 1., 1., 2., 2.,  2.,\n",
    "       2.,  0.,  0.,  0.,  0.,  0.])\n",
    "```"
   ]
  },
  {
   "cell_type": "markdown",
   "metadata": {},
   "source": [
    "### A2. Regrouper les indices des signaux par classe (pour faciliter l'apprentissage)"
   ]
  },
  {
   "cell_type": "code",
   "execution_count": 8,
   "metadata": {},
   "outputs": [
    {
     "name": "stdout",
     "output_type": "stream",
     "text": [
      "[array([ 0,  1,  2,  3,  4,  5,  6,  7,  8,  9, 10]), array([11, 12, 13, 14, 15, 16, 17, 18, 19, 20, 21]), array([22, 23, 24, 25, 26, 27, 28, 29, 30, 31, 32]), array([33, 34, 35, 36, 37, 38, 39, 40, 41, 42, 43]), array([44, 45, 46, 47, 48, 49, 50, 51, 52, 53, 54]), array([55, 56, 57, 58, 59, 60, 61, 62, 63, 64, 65]), array([66, 67, 68, 69, 70, 71, 72, 73, 74, 75, 76]), array([77, 78, 79, 80, 81, 82, 83, 84, 85, 86, 87]), array([88, 89, 90, 91, 92, 93, 94, 95, 96, 97]), array([ 98,  99, 100, 101, 102, 103, 104, 105, 106, 107]), array([108, 109, 110, 111, 112, 113, 114, 115, 116, 117]), array([118, 119, 120, 121, 122, 123, 124, 125, 126, 127]), array([128, 129, 130, 131, 132, 133, 134, 135, 136, 137]), array([138, 139, 140, 141, 142, 143, 144, 145, 146, 147]), array([148, 149, 150, 151, 152, 153, 154, 155, 156, 157]), array([158, 159, 160, 161, 162, 163, 164, 165, 166, 167]), array([168, 169, 170, 171, 172, 173, 174, 175, 176, 177]), array([178, 179, 180, 181, 182, 183, 184, 185, 186, 187]), array([188, 189, 190, 191, 192, 193, 194, 195, 196, 197]), array([198, 199, 200, 201, 202, 203, 204, 205, 206, 207]), array([208, 209, 210, 211, 212, 213, 214, 215, 216, 217]), array([218, 219, 220, 221, 222, 223, 224, 225, 226, 227]), array([228, 229, 230, 231, 232, 233, 234, 235, 236, 237]), array([238, 239, 240, 241, 242, 243, 244, 245, 246, 247]), array([248, 249, 250, 251, 252, 253, 254, 255, 256, 257]), array([258, 259, 260, 261, 262, 263, 264, 265, 266, 267])]\n"
     ]
    }
   ],
   "source": [
    "def groupByLabel(y):\n",
    "    index = []\n",
    "    for i in np.unique(y): # pour toutes les classes\n",
    "        ind, = np.where(y == i)\n",
    "        index.append(ind)\n",
    "    return index\n",
    "print(groupByLabel(Y))"
   ]
  },
  {
   "cell_type": "markdown",
   "metadata": {},
   "source": [
    "Cette méthode produit simplement une structure type:\n",
    "```python\n",
    "[array([ 0,  1,  2,  3,  4,  5,  6,  7,  8,  9, 10]),\n",
    " array([11, 12, 13, 14, 15, 16, 17, 18, 19, 20, 21]),\n",
    " array([22, 23, 24, 25, 26, 27, 28, 29, 30, 31, 32]),\n",
    " array([33, 34, 35, 36, 37, 38, 39, 40, 41, 42, 43]),\n",
    " array([44, 45, 46, 47, 48, 49, 50, 51, 52, 53, 54]),\n",
    " array([55, 56, 57, 58, 59, 60, 61, 62, 63, 64, 65]),\n",
    " ...\n",
    "```\n",
    "Chaque ligne regroupe les indices de signaux correspondant à une classe. Il y a donc 11 exemples de 'a'."
   ]
  },
  {
   "cell_type": "markdown",
   "metadata": {},
   "source": [
    "### A3. Apprendre les modèles CM\n",
    "\n",
    "Soit {$X_C$} la base de signaux discrétisés correspondant à une classe {$C$} et {$d$} le nombre d'états. Donner le code de la fonction `learnMarkovModel(Xc, d)` qui retourne un tuple contenant Pi et A.\n",
    "\n",
    "Rappel:\n",
    "- Initialisation de \n",
    "```python\n",
    " A = np.zeros((d, d))\n",
    " Pi = np.zeros(d)```\n",
    "- Parcours de tous les signaux et incréments de A et Pi\n",
    "- Normalisation (un peu réfléchie pour éviter les divisions par 0)\n",
    "```python\n",
    "A = A / np.maximum(A.sum(1).reshape(d, 1), 1) # normalisation\n",
    "Pi = Pi / Pi.sum()```\n",
    "\n",
    "**Note** : la solution proposée pour gérer le cas des lignes entièrement à 0 est naïve et n'est pas totalement satisfaisante. Comprendre pourquoi. On proposera une solution améliorée plus loin dans le TME. "
   ]
  },
  {
   "cell_type": "code",
   "execution_count": 9,
   "metadata": {},
   "outputs": [
    {
     "name": "stdout",
     "output_type": "stream",
     "text": [
      "[0.36363636 0.         0.63636364]\n",
      "[[0.84444444 0.06666667 0.08888889]\n",
      " [0.         0.83333333 0.16666667]\n",
      " [0.11382114 0.06504065 0.82113821]]\n"
     ]
    }
   ],
   "source": [
    "def learnMarkovModel(Xc, d):\n",
    "    Pi = np.zeros(d)\n",
    "    A = np.zeros((d, d))\n",
    "    for l in range(Xc.shape[0]):\n",
    "        sequence = Xc[l]\n",
    "        Pi[int(sequence[0])] = Pi[int(sequence[0])] + 1\n",
    "        for i in range(d):\n",
    "            for j in range(d):\n",
    "                for k in range(sequence.shape[0] - 1):\n",
    "                    A[i, j] =  A[i, j] + np.where(sequence[k] == i and sequence[k+1] == j, 1, 0).sum()\n",
    "    A = A / np.maximum(A.sum(1).reshape(d, 1), 1)\n",
    "    Pi = Pi / Pi.sum()   \n",
    "    return Pi, A\n",
    "\n",
    "X_discretise = discretise(X, 3)\n",
    "groups = groupByLabel(Y)\n",
    "Pi, A = learnMarkovModel(X_discretise[groups[0]] ,3)\n",
    "print(Pi)\n",
    "print(A)\n",
    "#         ni_ = np.where(Xc[:, 0: Xc.shape[1] - 1] == i, 1, 0).sum() \n",
    "#       Pi[i] = np.where(Xc == i, 1, 0).sum()/(Xc.shape[0]*Xc.shape[1])"
   ]
  },
  {
   "cell_type": "markdown",
   "metadata": {},
   "source": [
    "**Validation :** premier modèle avec une discrétisation sur 3 états :\n",
    "```python\n",
    "(array([ 0.36363636,  0.        ,  0.63636364]),\n",
    " array([[ 0.84444444,  0.06666667,  0.08888889],\n",
    "       [ 0.        ,  0.83333333,  0.16666667],\n",
    "       [ 0.11382114,  0.06504065,  0.82113821]]))\n",
    "```"
   ]
  },
  {
   "cell_type": "markdown",
   "metadata": {},
   "source": [
    "### A4. Stocker les modèles dans une liste\n",
    "\n",
    "Pour un usage ultérieur plus facile, on utilise le code suivant :"
   ]
  },
  {
   "cell_type": "code",
   "execution_count": 74,
   "metadata": {},
   "outputs": [],
   "source": [
    "d = 3              # paramètre de discrétisation\n",
    "Xd = discretise(X, d)    # application de la discrétisation\n",
    "index = groupByLabel(Y)  # groupement des signaux par classe\n",
    "models = []\n",
    "for cl in range(len(np.unique(Y))): # parcours de toutes les classes et optimisation des modèles\n",
    "    models.append(learnMarkovModel(Xd[index[cl]], d))\n",
    "    \n",
    "    "
   ]
  },
  {
   "cell_type": "markdown",
   "metadata": {},
   "source": [
    "### A5. Distribution stationnaire\n",
    "\n",
    "La distribution stationnaire $\\mu$, pour un système ergodique, correspond à:\n",
    "\n",
    "- la distribution des états observés dans l'ensemble des données\n",
    "- la distribution obtenu après un grand nombre de passage dans $A$ à partir de n'importe quelle distribution ou état d'origine (une matrice de transition ergodique va nous permettre de converger)\n",
    "- la solution de l'équation de stabilité: $\\mu = \\mu A$\n",
    "\n",
    "Dans le cas de la lettre 'a' et d'une discrétisation en 3 états, calculer la distribution stationnaire par les deux première méthode et vérifier que vous obtenez des résultats similaires.\n",
    "\n",
    "**Note:** pour la marche aléatoire, vous construirez une boucle sur 100 iérations (borne sup) et vous sortirez dès que la somme des écarts (en absolu) entre $\\mu_t$ et $\\mu_{t+1}$ est inférieure à $10^{-3}$. Vous vérifierez ensuite que le système converge quelque soit l'état de départ (3 appel àla fonction) ou avec une initialisation aléatoire."
   ]
  },
  {
   "cell_type": "code",
   "execution_count": 78,
   "metadata": {},
   "outputs": [
    {
     "name": "stdout",
     "output_type": "stream",
     "text": [
      "[0.30439306 0.28239002 0.41321692]\n",
      "[0.30134245 0.28352277 0.41513478]\n",
      "[0.30481052 0.281734   0.41345548]\n"
     ]
    }
   ],
   "source": [
    "Xa = models[0][1]\n",
    "\n",
    "def stationnary(Xc, depart, d):\n",
    "    etat = depart.copy()\n",
    "    for i in range(100):\n",
    "        etat_next = etat@Xa\n",
    "        ecart = abs(etat-etat_next).sum()\n",
    "        etat = etat_next\n",
    "        if(ecart<0.001):\n",
    "            break\n",
    "    return etat\n",
    "\n",
    "for i in range(3):\n",
    "    etat_de_depart = np.zeros(d)\n",
    "    etat_de_depart[i] = 1\n",
    "    print(stationnary(Xa, etat_de_depart, d))     "
   ]
  },
  {
   "cell_type": "markdown",
   "metadata": {},
   "source": [
    "##  B. Test (affectation dans les classes sur critère MV)\n",
    "### B1. (log)Probabilité d'une séquence dans un modèle\n",
    "\n",
    "Donner le code de la méthode `probaSequence(s,Pi,A)` qui retourne la log-probabilité d'une séquence `s` dans le modèle {$\\lambda=\\{Pi,A\\}$} "
   ]
  },
  {
   "cell_type": "code",
   "execution_count": 41,
   "metadata": {},
   "outputs": [
    {
     "name": "stdout",
     "output_type": "stream",
     "text": [
      "[-27.99336982         -inf         -inf         -inf         -inf\n",
      "         -inf         -inf         -inf         -inf         -inf\n",
      "         -inf         -inf         -inf         -inf         -inf\n",
      "         -inf         -inf         -inf         -inf         -inf\n",
      "         -inf         -inf         -inf         -inf         -inf\n",
      "         -inf]\n"
     ]
    },
    {
     "name": "stderr",
     "output_type": "stream",
     "text": [
      "<ipython-input-41-a1c3f57cd187>:5: RuntimeWarning: divide by zero encountered in log\n",
      "  summ = summ + np.log(x)\n",
      "<ipython-input-41-a1c3f57cd187>:6: RuntimeWarning: divide by zero encountered in log\n",
      "  return summ + np.log(Pi[int(s[0])])\n"
     ]
    }
   ],
   "source": [
    "\n",
    "def probaSequence(s, Pi, A):\n",
    "    summ = 0\n",
    "    for i in range(1, s.shape[0]):\n",
    "        x =  A[int(s[i-1]), int(s[i])]\n",
    "        summ = summ + np.log(x)\n",
    "    return summ + np.log(Pi[int(s[0])])\n",
    "    \n",
    "print(np.array([probaSequence(Xd[0], models[i][0], models[i][1]) for i in range(26)]))"
   ]
  },
  {
   "cell_type": "markdown",
   "metadata": {},
   "source": [
    "**VALIDATION :** probabilité du premier signal dans les 26 modèles avec une discrétisation sur 3 états :\n",
    "```python\n",
    "array([-13.491086  ,         -inf,         -inf,         -inf,\n",
    "               -inf,         -inf,         -inf,         -inf,\n",
    "               -inf,         -inf,         -inf,         -inf,\n",
    "               -inf,         -inf,         -inf,         -inf,\n",
    "               -inf,         -inf,         -inf,         -inf,\n",
    "               -inf,         -inf,         -inf,         -inf,\n",
    "               -inf, -12.48285678])\n",
    "```\n",
    "\n",
    "- Ce signal est-il bien classé ?\n",
    "- D'où viennent tous les `-inf` ? "
   ]
  },
  {
   "cell_type": "markdown",
   "metadata": {},
   "source": [
    "### B2. Application de la méthode précédente pour tous les signaux et tous les modèles de lettres\n",
    "\n",
    "L'application se fait en une ligne de code si vous avez respecté les spécifications précédentes : "
   ]
  },
  {
   "cell_type": "code",
   "execution_count": 42,
   "metadata": {},
   "outputs": [
    {
     "name": "stderr",
     "output_type": "stream",
     "text": [
      "<ipython-input-41-a1c3f57cd187>:5: RuntimeWarning: divide by zero encountered in log\n",
      "  summ = summ + np.log(x)\n",
      "<ipython-input-41-a1c3f57cd187>:6: RuntimeWarning: divide by zero encountered in log\n",
      "  return summ + np.log(Pi[int(s[0])])\n"
     ]
    },
    {
     "name": "stdout",
     "output_type": "stream",
     "text": [
      "(26, 268)\n"
     ]
    }
   ],
   "source": [
    "proba = np.array([[probaSequence(Xd[i], models[cl][0], models[cl][1]) for i in range(len(Xd))]\n",
    "                  for cl in range(len(np.unique(Y)))])\n",
    "\n",
    "print(proba.shape)"
   ]
  },
  {
   "cell_type": "markdown",
   "metadata": {},
   "source": [
    "### B3. Evaluation des performances\n",
    "\n",
    "Pour l'évaluation, nous proposons l'approche suivante: "
   ]
  },
  {
   "cell_type": "code",
   "execution_count": 43,
   "metadata": {},
   "outputs": [
    {
     "name": "stdout",
     "output_type": "stream",
     "text": [
      "[ 0  0  0  0  0  0  0  0  0  0  0  1  1  1  1  1  1  1  1  1  1  1  2  2\n",
      "  2  2  2  2  2  2  2  2  2  3  3  3  3  3  3  3  3  3  3  3  4  4  4  4\n",
      "  4  4  4  4  4  4  4  5  5 14  5  5  5  5  5  5 16  5  6  6 14  6  6  6\n",
      "  2  6  6 14  6  7  7  7  7  7  7  7  7  7  7  7  8 23  8  8 17 20  8  8\n",
      " 22 11  9  9  9  9  9  9  9  9  9  9  8 10 10 10 10  9 10 10  9 10 11 11\n",
      " 11 19 19 19 19 19 11 11 12 12 12 12 12 12 12 12 12 12 13 13 13 13 13 13\n",
      " 13 13 13 13 14 14 14 14 14 14 14 14 14 14 15 15 15 15 15 15 15 15 15 15\n",
      " 16 16 16 16 16 16 16 16 16 16 17 17 17 17 17 17 17 17 17 17 18 18 18 18\n",
      " 18 18 18 18 18 18 19 19 11 19 11  9 19 19 19 11 20 20 20 20 20 20 20 20\n",
      " 20 20 21 21 21 21 21 21 21 21 21 21 22 22 22 22 22 22 22 22 22 22 23 23\n",
      " 23 23 23 23 23 23 23 23 24 22 24 24 24 24 24 24 24 24 25 25 25 25 25 25\n",
      " 25 25 25 25]\n"
     ]
    },
    {
     "data": {
      "text/plain": [
       "0.914179104477612"
      ]
     },
     "execution_count": 43,
     "metadata": {},
     "output_type": "execute_result"
    }
   ],
   "source": [
    "# calcul d'une version numérique des Y :\n",
    "Ynum = np.zeros(Y.shape)\n",
    "for num, char in enumerate(np.unique(Y)):\n",
    "    Ynum[Y == char] = num\n",
    "    \n",
    "# Calcul de la classe la plus probable :\n",
    "pred = proba.argmax(0) # max colonne par colonne\n",
    "print(pred)\n",
    "# Calcul d'un pourcentage de bonne classification :\n",
    "np.where(pred != Ynum, 0.,1.).mean()"
   ]
  },
  {
   "cell_type": "markdown",
   "metadata": {},
   "source": [
    "**INDICE DE PERFORMANCE :** 91% de bonne classification avec 20 états, 69% avec 3 états"
   ]
  },
  {
   "cell_type": "markdown",
   "metadata": {},
   "source": [
    "## C. Biais d'évaluation, notion de sur-apprentissage\n",
    "\n",
    "Dans le protocole précédent, nous avons triché:\n",
    "- les données servent d'abord à apprendre les modèles...\n",
    "- puis nous nous servons des mêmes données pour tester les modèles ! Les performances sont forcément bonnes ! \n",
    "\n",
    "Afin de palier le problème, nous allons diviser en deux la base de données: une partie servira à l'apprentissage des modèles, l'autre à leur évaluation. Pour effectuer la division, nous fournissons le code suivant: "
   ]
  },
  {
   "cell_type": "code",
   "execution_count": 48,
   "metadata": {},
   "outputs": [],
   "source": [
    "# separation app/test, pc=ratio de points en apprentissage\n",
    "def separeTrainTest(y, pc):\n",
    "    indTrain = []\n",
    "    indTest = []\n",
    "    for i in np.unique(y): # pour toutes les classes\n",
    "        ind, = np.where(y == i)\n",
    "        n = len(ind)\n",
    "        indTrain.append(ind[np.random.permutation(n)][:int(np.floor(pc * n))])\n",
    "        indTest.append(np.setdiff1d(ind, indTrain[-1]))\n",
    "    return indTrain, indTest\n",
    "\n",
    "# exemple d'utilisation\n",
    "itrain, itest = separeTrainTest(Y, 0.8)"
   ]
  },
  {
   "cell_type": "markdown",
   "metadata": {},
   "source": [
    "dans `itrain`, nous obtenons les indices des signaux qui doivent servir en apprentissage pour chaque classe :"
   ]
  },
  {
   "cell_type": "code",
   "execution_count": 49,
   "metadata": {},
   "outputs": [
    {
     "data": {
      "text/plain": [
       "[array([2, 1, 0, 4, 9, 7, 8, 5]),\n",
       " array([20, 16, 18, 17, 14, 12, 11, 19]),\n",
       " array([25, 30, 29, 28, 22, 31, 24, 32]),\n",
       " array([40, 42, 43, 39, 38, 36, 33, 41]),\n",
       " array([51, 52, 45, 44, 53, 48, 47, 49]),\n",
       " array([65, 61, 60, 57, 55, 59, 62, 56]),\n",
       " array([68, 69, 75, 70, 71, 66, 76, 74]),\n",
       " array([85, 83, 81, 80, 87, 84, 78, 79]),\n",
       " array([96, 88, 91, 89, 92, 95, 90, 93]),\n",
       " array([103, 107, 105, 101, 104,  98, 106, 100]),\n",
       " array([111, 112, 113, 117, 109, 115, 116, 110]),\n",
       " array([123, 120, 119, 125, 121, 126, 127, 118]),\n",
       " array([130, 133, 137, 129, 128, 136, 134, 135]),\n",
       " array([138, 139, 141, 146, 142, 147, 145, 140]),\n",
       " array([150, 153, 154, 155, 149, 156, 151, 148]),\n",
       " array([159, 158, 161, 166, 162, 164, 167, 163]),\n",
       " array([175, 177, 174, 169, 168, 171, 172, 173]),\n",
       " array([185, 178, 186, 184, 179, 180, 183, 181]),\n",
       " array([189, 196, 188, 197, 193, 194, 190, 195]),\n",
       " array([204, 198, 200, 202, 207, 205, 203, 199]),\n",
       " array([213, 214, 210, 212, 211, 215, 209, 208]),\n",
       " array([225, 226, 222, 220, 221, 219, 223, 218]),\n",
       " array([230, 232, 233, 234, 236, 228, 231, 237]),\n",
       " array([238, 245, 247, 241, 239, 244, 246, 240]),\n",
       " array([253, 250, 251, 257, 256, 252, 249, 254]),\n",
       " array([263, 265, 259, 258, 264, 262, 260, 266])]"
      ]
     },
     "execution_count": 49,
     "metadata": {},
     "output_type": "execute_result"
    }
   ],
   "source": [
    "itrain"
   ]
  },
  {
   "cell_type": "markdown",
   "metadata": {},
   "source": [
    "**Note :** pour faciliter l'évaluation des modèles, vous aurez besoin de re-fusionner tous les indices d'apprentissage et de test. Cela se fait avec les lignes de code suivantes : "
   ]
  },
  {
   "cell_type": "code",
   "execution_count": 50,
   "metadata": {},
   "outputs": [],
   "source": [
    "ia = []\n",
    "for i in itrain:\n",
    "    ia += i.tolist()    \n",
    "it = []\n",
    "for i in itest:\n",
    "    it += i.tolist()"
   ]
  },
  {
   "cell_type": "markdown",
   "metadata": {},
   "source": [
    "**Note 2 :** Du fait de la permutation aléatoire, les résultats vont bouger (un peu) à chaque execution du programme. "
   ]
  },
  {
   "cell_type": "markdown",
   "metadata": {},
   "source": [
    "### C1. Questions importantes\n",
    "- Ré-utiliser les fonctions précédemment définies pour apprendre des modèles et les évaluer sans biais.\n",
    "- Calculer et analyser les résultats obtenus en apprentissage et en test\n",
    "- Etudier l'évolution des performances en fonction de la discrétisation"
   ]
  },
  {
   "cell_type": "code",
   "execution_count": 72,
   "metadata": {},
   "outputs": [
    {
     "name": "stderr",
     "output_type": "stream",
     "text": [
      "<ipython-input-41-a1c3f57cd187>:5: RuntimeWarning: divide by zero encountered in log\n",
      "  summ = summ + np.log(x)\n",
      "<ipython-input-41-a1c3f57cd187>:6: RuntimeWarning: divide by zero encountered in log\n",
      "  return summ + np.log(Pi[int(s[0])])\n"
     ]
    },
    {
     "name": "stdout",
     "output_type": "stream",
     "text": [
      "pour d=20 données de test 0.26666666666666666\n",
      "pour d=20 données d'apprentissage 0.9423076923076923\n"
     ]
    }
   ],
   "source": [
    "d = 20  \n",
    "Xd = discretise(X, d)    \n",
    "models = []\n",
    "for cl in range(len(np.unique(Y))):\n",
    "    models.append(learnMarkovModel(Xd[itrain[cl]], d))\n",
    "\n",
    "    \n",
    "proba = np.array([[probaSequence(Xd[i], models[cl][0], models[cl][1]) for i in it]\n",
    "                  for cl in range(len(np.unique(Y)))])\n",
    "\n",
    "proba2 = np.array([[probaSequence(Xd[i], models[cl][0], models[cl][1]) for i in ia]\n",
    "                  for cl in range(len(np.unique(Y)))])\n",
    "\n",
    "\n",
    "\n",
    "\n",
    "# calcul d'une version numérique des Y :\n",
    "Ynum = np.zeros(Y[it].shape)\n",
    "for num, char in enumerate(np.unique(Y)):\n",
    "    Ynum[Y[it] == char] = num\n",
    "    \n",
    "# Calcul de la classe la plus probable :\n",
    "pred = proba.argmax(0) # max colonne par colonne\n",
    "# Calcul d'un pourcentage de bonne classification :\n",
    "print(\"pour d=20 données de test\",np.where(pred != Ynum, 0.,1.).mean())\n",
    "\n",
    "\n",
    "\n",
    "\n",
    "Ynum2 = np.zeros(Y[ia].shape)\n",
    "for num, char in enumerate(np.unique(Y)):\n",
    "    Ynum2[Y[ia] == char] = num\n",
    "    \n",
    "# Calcul de la classe la plus probable :\n",
    "pred2 = proba2.argmax(0) # max colonne par colonne\n",
    "# Calcul d'un pourcentage de bonne classification :\n",
    "print(\"pour d=20 données d'apprentissage\",np.where(pred2 != Ynum2, 0.,1.).mean())"
   ]
  },
  {
   "cell_type": "code",
   "execution_count": 73,
   "metadata": {},
   "outputs": [
    {
     "name": "stderr",
     "output_type": "stream",
     "text": [
      "<ipython-input-41-a1c3f57cd187>:6: RuntimeWarning: divide by zero encountered in log\n",
      "  return summ + np.log(Pi[int(s[0])])\n",
      "<ipython-input-41-a1c3f57cd187>:5: RuntimeWarning: divide by zero encountered in log\n",
      "  summ = summ + np.log(x)\n"
     ]
    },
    {
     "name": "stdout",
     "output_type": "stream",
     "text": [
      "pour d=3 données de test 0.5333333333333333\n",
      "pour d=3 données d'apprentissage 0.6634615384615384\n"
     ]
    }
   ],
   "source": [
    "d = 3  \n",
    "Xd = discretise(X, d)    \n",
    "models = []\n",
    "for cl in range(len(np.unique(Y))):\n",
    "    models.append(learnMarkovModel(Xd[itrain[cl]], d))\n",
    "\n",
    "    \n",
    "proba = np.array([[probaSequence(Xd[i], models[cl][0], models[cl][1]) for i in it]\n",
    "                  for cl in range(len(np.unique(Y)))])\n",
    "\n",
    "proba2 = np.array([[probaSequence(Xd[i], models[cl][0], models[cl][1]) for i in ia]\n",
    "                  for cl in range(len(np.unique(Y)))])\n",
    "\n",
    "\n",
    "\n",
    "\n",
    "# calcul d'une version numérique des Y :\n",
    "Ynum = np.zeros(Y[it].shape)\n",
    "for num, char in enumerate(np.unique(Y)):\n",
    "    Ynum[Y[it] == char] = num\n",
    "    \n",
    "# Calcul de la classe la plus probable :\n",
    "pred = proba.argmax(0) # max colonne par colonne\n",
    "# Calcul d'un pourcentage de bonne classification :\n",
    "print(\"pour d=3 données de test\", np.where(pred != Ynum, 0.,1.).mean())\n",
    "\n",
    "\n",
    "\n",
    "\n",
    "Ynum2 = np.zeros(Y[ia].shape)\n",
    "for num, char in enumerate(np.unique(Y)):\n",
    "    Ynum2[Y[ia] == char] = num\n",
    "    \n",
    "# Calcul de la classe la plus probable :\n",
    "pred2 = proba2.argmax(0) # max colonne par colonne\n",
    "# Calcul d'un pourcentage de bonne classification :\n",
    "print(\"pour d=3 données d'apprentissage\",np.where(pred2 != Ynum2, 0.,1.).mean())"
   ]
  },
  {
   "cell_type": "markdown",
   "metadata": {},
   "source": [
    "### C2. Lutter contre le sur-apprentissage\n",
    "Cette base de données met en lumière le phénomène de sur-apprentissage : il y a peu de données et dès que le nombre d'états augmente, il y a trop peu d'exemple pour estimer correctement les matrices {$A, \\pi$}. De nombreuses cases sont donc à 0, voire des lignes entières (d'où la sécurisation du code pour la normalisation des matrices stochastiques).\n",
    "\n",
    "Ces 0 sont particulièrement discriminants: considérant la classe {$c$}, ils permettent d'éliminer de cette classe tout signal présentant cette caractéristique. Cette règle est trop forte compte tenu de la taille de la base d'apprentissage. Nous proposons une astuce pour palier cette faiblesse : lors du comptage, initialiser les matrices {$A, \\pi$} avec ones au lieu de zeros . On fait semblant d'avoir observer une transition de chaque type avant même le début du comptage.\n",
    "\n",
    "Comparer les performances en test."
   ]
  },
  {
   "cell_type": "code",
   "execution_count": 59,
   "metadata": {},
   "outputs": [
    {
     "name": "stdout",
     "output_type": "stream",
     "text": [
      "0.6333333333333333\n",
      "0.8509615384615384\n"
     ]
    }
   ],
   "source": [
    "def learnMarkovModel_ones(Xc, d):\n",
    "    Pi = np.ones(d)\n",
    "    A = np.ones((d, d))\n",
    "    for l in range(Xc.shape[0]):\n",
    "        sequence = Xc[l]\n",
    "        Pi[int(sequence[0])] = Pi[int(sequence[0])] + 1\n",
    "        for i in range(d):\n",
    "            for j in range(d):\n",
    "                for k in range(sequence.shape[0] - 1):\n",
    "                    A[i, j] =  A[i, j] + np.where(sequence[k] == i and sequence[k+1] == j, 1, 0).sum()\n",
    "#   A = A / np.maximum(A.sum(1).reshape(d, 1), 1)\n",
    "    \n",
    "    A = A / A.sum(1) \n",
    "    Pi = Pi / Pi.sum()   \n",
    "    return Pi, A\n",
    "\n",
    "\n",
    "d = 20              \n",
    "Xd = discretise(X, d)    \n",
    "models = []\n",
    "for cl in range(len(np.unique(Y))):\n",
    "    models.append(learnMarkovModel_ones(Xd[itrain[cl]], d))\n",
    "\n",
    "    \n",
    "proba = np.array([[probaSequence(Xd[i], models[cl][0], models[cl][1]) for i in it]\n",
    "                  for cl in range(len(np.unique(Y)))])\n",
    "\n",
    "proba2 = np.array([[probaSequence(Xd[i], models[cl][0], models[cl][1]) for i in ia]\n",
    "                  for cl in range(len(np.unique(Y)))])\n",
    "\n",
    "\n",
    "\n",
    "\n",
    "# calcul d'une version numérique des Y :\n",
    "Ynum = np.zeros(Y[it].shape)\n",
    "for num, char in enumerate(np.unique(Y)):\n",
    "    Ynum[Y[it] == char] = num\n",
    "    \n",
    "# Calcul de la classe la plus probable :\n",
    "pred = proba.argmax(0) # max colonne par colonne\n",
    "# Calcul d'un pourcentage de bonne classification :\n",
    "print(\"pour d=20 données de test\",np.where(pred != Ynum, 0.,1.).mean())\n",
    "\n",
    "\n",
    "\n",
    "\n",
    "Ynum2 = np.zeros(Y[ia].shape)\n",
    "for num, char in enumerate(np.unique(Y)):\n",
    "    Ynum2[Y[ia] == char] = num\n",
    "    \n",
    "# Calcul de la classe la plus probable :\n",
    "pred2 = proba2.argmax(0) # max colonne par colonne\n",
    "# Calcul d'un pourcentage de bonne classification :\n",
    "print(\"pour d=20 données d'apprentissage\",np.where(pred2 != Ynum2, 0.,1.).mean())"
   ]
  },
  {
   "cell_type": "markdown",
   "metadata": {},
   "source": [
    "## D. Evaluation qualitative\n",
    "\n",
    "Nous nous demandons maintenant où se trouvent les erreurs que nous avons commises...\n",
    "\n",
    "Calcul de la matrice de confusion: pour chaque échantillon de test, nous avons une prédiction (issue du modèle) et une vérité terrain (la vraie étiquette). En posant Nc le nombre de classes, la matrice de confusion est une matrice (Nc x Nc) où nous comptons le nombre d'échantillon de test dans chaque catégorie :\n",
    "\n",
    "- Initialisation à 0 : "
   ]
  },
  {
   "cell_type": "code",
   "execution_count": 61,
   "metadata": {},
   "outputs": [],
   "source": [
    "conf = np.zeros((26,26))"
   ]
  },
  {
   "cell_type": "markdown",
   "metadata": {},
   "source": [
    "- Pour chaque échantillon, incrément de la case (prediction, vérité)"
   ]
  },
  {
   "cell_type": "code",
   "execution_count": 63,
   "metadata": {},
   "outputs": [
    {
     "name": "stdout",
     "output_type": "stream",
     "text": [
      "60.0\n"
     ]
    }
   ],
   "source": [
    "for i in range(26):\n",
    "    pred_i = pred[np.where(Ynum == i)]\n",
    "    for j in range(26):\n",
    "        conf[i, j] = np.where(pred_i == j, 1,0).sum()\n",
    "print(conf.sum())"
   ]
  },
  {
   "cell_type": "markdown",
   "metadata": {},
   "source": [
    "- Tracé de la matrice : "
   ]
  },
  {
   "cell_type": "code",
   "execution_count": 64,
   "metadata": {},
   "outputs": [
    {
     "data": {
      "text/plain": [
       "Text(0, 0.5, 'Prédiction')"
      ]
     },
     "execution_count": 64,
     "metadata": {},
     "output_type": "execute_result"
    },
    {
     "data": {
      "image/png": "[encoded data removed]",
      "text/plain": [
       "<Figure size 432x288 with 2 Axes>"
      ]
     },
     "metadata": {
      "needs_background": "light"
     },
     "output_type": "display_data"
    }
   ],
   "source": [
    "plt.figure()\n",
    "plt.imshow(conf, interpolation = 'nearest')\n",
    "plt.colorbar()\n",
    "plt.xticks(np.arange(26), np.unique(Y))\n",
    "plt.yticks(np.arange(26), np.unique(Y))\n",
    "plt.xlabel(u'Vérité terrain')\n",
    "plt.ylabel(u'Prédiction')\n",
    "#plt.savefig(\"mat_conf_lettres.png\")"
   ]
  },
  {
   "cell_type": "markdown",
   "metadata": {},
   "source": [
    "## E. Modèle génératif\n",
    "\n",
    "Utiliser les modèles appris pour générer de nouvelles lettres manuscrites.\n",
    "\n",
    "### E1. Tirage selon une loi de probabilité discrète\n",
    "\n",
    "- faire la somme cumulée de la loi {$sc$}\n",
    "- tirer un nombre aléatoire {$t$} entre 0 et 1\n",
    "- trouver la première valeur de {$sc$} qui est supérieure à {$t$}\n",
    "- retourner cet état \n",
    "\n",
    "**Note :** comme vu en cours, tout repose sur la somme cumulée (notée ici `sc$`, calculable en appelant `np.cumsum`. Sur un exemple: la loi `V = [0.2, 0.4, 0.3, 0.1]` a pour somme cumulée `V.cumsum() == [0.2,  0.6,  0.9,  1.0]`\n",
    "\n",
    "### E2. Génération d'une séquence de longueur N\n",
    "\n",
    "- tirer un état {$s_0$} selon Pi\n",
    "- tant que la longueur n'est pas atteinte :\n",
    "  - tirer un état {$s_{t+1}$} selon {$A[s_{t}]$} "
   ]
  },
  {
   "cell_type": "code",
   "execution_count": 67,
   "metadata": {},
   "outputs": [],
   "source": [
    "def generate(Pi, A, N):\n",
    "    Pi_sc = np.cumsum(Pi)\n",
    "    t = np.random.uniform(0, 1)\n",
    "    st = np.argmax(Pi_sc > t)\n",
    "    sequence = np.zeros(N)\n",
    "\n",
    "    for i in range(N):\n",
    "        sequence[i] = st\n",
    "        A_i = A[st]\n",
    "        A_i_sc = np.cumsum(A_i)\n",
    "        t = np.random.uniform(0, 1)\n",
    "        st = np.argmax(A_i_sc > t)\n",
    "    return sequence\n",
    "      "
   ]
  },
  {
   "cell_type": "markdown",
   "metadata": {},
   "source": [
    "### E3. Affichage du résultat"
   ]
  },
  {
   "cell_type": "code",
   "execution_count": 68,
   "metadata": {},
   "outputs": [
    {
     "data": {
      "image/png": "[encoded data removed]",
      "text/plain": [
       "<Figure size 432x288 with 1 Axes>"
      ]
     },
     "metadata": {
      "needs_background": "light"
     },
     "output_type": "display_data"
    }
   ],
   "source": [
    "newa = generate(models[0][0], models[0][1], 20)       # generation d'une séquence d'états\n",
    "intervalle = 360. / d                                 # pour passer des états => valeur d'angles\n",
    "newa_continu = np.array([i * intervalle for i in newa]) # conv int => double\n",
    "tracerLettre(newa_continu)"
   ]
  },
  {
   "cell_type": "code",
   "execution_count": 69,
   "metadata": {},
   "outputs": [
    {
     "name": "stdout",
     "output_type": "stream",
     "text": [
      "0\n"
     ]
    }
   ],
   "source": [
    "proba = np.array([probaSequence(newa, models[cl][0], models[cl][1]) \n",
    "                  for cl in range(len(np.unique(Y)))])\n",
    "pred = proba.argmax(0)\n",
    "\n",
    "print(pred)"
   ]
  },
  {
   "cell_type": "code",
   "execution_count": null,
   "metadata": {},
   "outputs": [],
   "source": []
  }
 ],
 "metadata": {
  "kernelspec": {
   "display_name": "Python 3",
   "language": "python",
   "name": "python3"
  },
  "language_info": {
   "codemirror_mode": {
    "name": "ipython",
    "version": 3
   },
   "file_extension": ".py",
   "mimetype": "text/x-python",
   "name": "python",
   "nbconvert_exporter": "python",
   "pygments_lexer": "ipython3",
   "version": "3.8.6"
  }
 },
 "nbformat": 4,
 "nbformat_minor": 4
}
